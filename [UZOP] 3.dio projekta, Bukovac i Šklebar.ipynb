{
 "cells": [
  {
   "cell_type": "markdown",
   "id": "4fb58c58",
   "metadata": {},
   "source": [
    "## Klasifikacija težine djece s obzirom na značajke majke\n",
    "##### Child Birth Weight Dataset\n",
    "Zakir Hussain, and Malaya Dutta Borah<br>\n",
    "Department of Computer Science and Engineering, National Institute of Technology Silchar,<br>\n",
    "NIT Road, Cachar, Silchar, 788010, Assam, India"
   ]
  },
  {
   "cell_type": "markdown",
   "id": "6e825a8c",
   "metadata": {},
   "source": [
    "Kao prvi korak potrebno je učitati potrebne biblioteke."
   ]
  },
  {
   "cell_type": "code",
   "execution_count": 1,
   "id": "56d73660",
   "metadata": {},
   "outputs": [],
   "source": [
    "import numpy as np\n",
    "import pandas as pd\n",
    "import matplotlib.pyplot as plt\n",
    "import seaborn as sns\n",
    "\n",
    "from sklearn.metrics import confusion_matrix\n",
    "from sklearn.metrics import classification_report\n",
    "\n",
    "from sklearn.preprocessing import OneHotEncoder, LabelEncoder\n",
    "from sklearn.preprocessing import StandardScaler\n",
    "from sklearn.preprocessing import MinMaxScaler\n",
    "from sklearn.preprocessing import RobustScaler\n",
    "\n",
    "from sklearn.model_selection import train_test_split\n",
    "from sklearn.model_selection import GridSearchCV\n",
    "from sklearn.model_selection import cross_val_score\n",
    "\n",
    "from sklearn.naive_bayes import GaussianNB, CategoricalNB, MultinomialNB\n",
    "from sklearn.linear_model import LogisticRegression\n",
    "from sklearn.neighbors import KNeighborsClassifier\n",
    "from sklearn.svm import SVC\n",
    "from sklearn.ensemble import RandomForestClassifier, VotingClassifier\n",
    "\n",
    "import xgboost as xgb\n",
    "\n",
    "import warnings"
   ]
  },
  {
   "cell_type": "code",
   "execution_count": 2,
   "id": "e307f4da",
   "metadata": {},
   "outputs": [
    {
     "name": "stdout",
     "output_type": "stream",
     "text": [
      "Requirement already satisfied: imbalanced-learn==0.6.0 in c:\\python311\\lib\\site-packages (0.6.0)\n",
      "Requirement already satisfied: numpy>=1.11 in c:\\python311\\lib\\site-packages (from imbalanced-learn==0.6.0) (1.23.4)\n",
      "Requirement already satisfied: scipy>=0.17 in c:\\python311\\lib\\site-packages (from imbalanced-learn==0.6.0) (1.9.3)\n",
      "Requirement already satisfied: scikit-learn>=0.22 in c:\\python311\\lib\\site-packages (from imbalanced-learn==0.6.0) (1.1.3)\n",
      "Requirement already satisfied: joblib>=0.11 in c:\\python311\\lib\\site-packages (from imbalanced-learn==0.6.0) (1.2.0)\n",
      "Requirement already satisfied: threadpoolctl>=2.0.0 in c:\\python311\\lib\\site-packages (from scikit-learn>=0.22->imbalanced-learn==0.6.0) (3.1.0)\n"
     ]
    }
   ],
   "source": [
    "!pip install imbalanced-learn==0.6.0"
   ]
  },
  {
   "cell_type": "markdown",
   "id": "de5ca537",
   "metadata": {},
   "source": [
    "Učitavanje dataseta."
   ]
  },
  {
   "cell_type": "code",
   "execution_count": 3,
   "id": "fb033825",
   "metadata": {},
   "outputs": [],
   "source": [
    "df = pd.read_csv('CBWDB.csv')"
   ]
  },
  {
   "cell_type": "markdown",
   "id": "a2ab3ae0",
   "metadata": {},
   "source": [
    "Dataset se sastoji od 1800 redaka i 19 stupaca."
   ]
  },
  {
   "cell_type": "code",
   "execution_count": 4,
   "id": "a3b9773c",
   "metadata": {},
   "outputs": [
    {
     "data": {
      "text/plain": [
       "(1800, 19)"
      ]
     },
     "execution_count": 4,
     "metadata": {},
     "output_type": "execute_result"
    }
   ],
   "source": [
    "df.shape"
   ]
  },
  {
   "cell_type": "markdown",
   "id": "603c7ca9",
   "metadata": {},
   "source": [
    "##### Što su značajke unutar skupa podataka?\n",
    "###### Ulazne\n",
    "KATEGORIČKE<br> \n",
    "SEC: Socio-ekonomsko stanje rodilje<br> \n",
    "Age(years): Dob majke u vrijeme promatrane trudnoće<br> \n",
    "Term/Preterm: Rođenje djeteta u očekivanom terminu (term) ili prije (preterm) \n",
    "    Termin: 37 do 40 tjedana, Preterm: <37 tjedana<br> \n",
    "Sex: Spol novorođenčeta<br> \n",
    "\n",
    "KONTINUIRANE:<br> \n",
    "Height(cm): Visina majke u vrijeme promatrane trudnoće<br> \n",
    "Bgroup: Krvna grupa majke<br> \n",
    "Parity: Broj trudnoća prije promatrane<br> \n",
    "ANC: Broj ginekoloških pregleda prije trudnoće<br> \n",
    "Iwt(kg): Inicijalna masa prije trudnoće<br> \n",
    "FWt(kg): Masa majke na zadnjem pregledu prije poroda<br> \n",
    "IBP_sys: Inicijalni sistolički krvni tlak majke<br> \n",
    "IBP_dias: Inicijalni distolički krvni tlak majke<br> \n",
    "FBP_sys: Sistolički krvni tlak majke na posljednjem pregledu prije poroda<br> \n",
    "FBP_dias: Distolički krvni tlak majke na posljednjem pregledu prije poroda<br> \n",
    "IHb(gm%): Inicijalna razina hemoglobina u krvi majke<br> \n",
    "FHb(gm%): Razina hemoglobina na zadnje pregledu prije poroda<br> \n",
    "BS(RBS): Razina šećera u krvi (random)<br> \n",
    "BWt(kg): Masa novorođenčeta\n",
    "\n",
    "###### Što je izlaz?\n",
    "Klase mase novorođenčeta: LNH<br> \n",
    "L = 1 : Ispodprosječne mase, <br> \n",
    "N = 2 : Prosječna masa, <br> \n",
    "H = 3 : Iznadprosječne mase"
   ]
  },
  {
   "cell_type": "code",
   "execution_count": 5,
   "id": "076ab49f",
   "metadata": {},
   "outputs": [
    {
     "data": {
      "text/html": [
       "<div>\n",
       "<style scoped>\n",
       "    .dataframe tbody tr th:only-of-type {\n",
       "        vertical-align: middle;\n",
       "    }\n",
       "\n",
       "    .dataframe tbody tr th {\n",
       "        vertical-align: top;\n",
       "    }\n",
       "\n",
       "    .dataframe thead th {\n",
       "        text-align: right;\n",
       "    }\n",
       "</style>\n",
       "<table border=\"1\" class=\"dataframe\">\n",
       "  <thead>\n",
       "    <tr style=\"text-align: right;\">\n",
       "      <th></th>\n",
       "      <th>SEC</th>\n",
       "      <th>Age(years)</th>\n",
       "      <th>Height(cm)</th>\n",
       "      <th>Bgroup</th>\n",
       "      <th>Parity</th>\n",
       "      <th>ANC</th>\n",
       "      <th>Iwt(kg)</th>\n",
       "      <th>FWt(kg)</th>\n",
       "      <th>IBP_sys</th>\n",
       "      <th>IBP_dias</th>\n",
       "      <th>FBP_sys</th>\n",
       "      <th>FBP_dias</th>\n",
       "      <th>IHb(gm%)</th>\n",
       "      <th>FHb(gm%)</th>\n",
       "      <th>BS(RBS)</th>\n",
       "      <th>Term/Preterm</th>\n",
       "      <th>Sex</th>\n",
       "      <th>BWt(kg)</th>\n",
       "      <th>LNH</th>\n",
       "    </tr>\n",
       "  </thead>\n",
       "  <tbody>\n",
       "    <tr>\n",
       "      <th>0</th>\n",
       "      <td>BPL</td>\n",
       "      <td>23.0</td>\n",
       "      <td>146.0</td>\n",
       "      <td>A(+ve)</td>\n",
       "      <td>1.0</td>\n",
       "      <td>4.0</td>\n",
       "      <td>34.0</td>\n",
       "      <td>42.0</td>\n",
       "      <td>116.0</td>\n",
       "      <td>78.0</td>\n",
       "      <td>120.0</td>\n",
       "      <td>70.0</td>\n",
       "      <td>10.0</td>\n",
       "      <td>13.2</td>\n",
       "      <td>90.0</td>\n",
       "      <td>T</td>\n",
       "      <td>F</td>\n",
       "      <td>2.7</td>\n",
       "      <td>2.0</td>\n",
       "    </tr>\n",
       "    <tr>\n",
       "      <th>1</th>\n",
       "      <td>BPL</td>\n",
       "      <td>25.0</td>\n",
       "      <td>165.0</td>\n",
       "      <td>NIL</td>\n",
       "      <td>1.0</td>\n",
       "      <td>3.0</td>\n",
       "      <td>68.0</td>\n",
       "      <td>71.0</td>\n",
       "      <td>96.0</td>\n",
       "      <td>70.0</td>\n",
       "      <td>110.0</td>\n",
       "      <td>72.0</td>\n",
       "      <td>10.4</td>\n",
       "      <td>11.0</td>\n",
       "      <td>96.0</td>\n",
       "      <td>T</td>\n",
       "      <td>M</td>\n",
       "      <td>2.9</td>\n",
       "      <td>2.0</td>\n",
       "    </tr>\n",
       "    <tr>\n",
       "      <th>2</th>\n",
       "      <td>BPL</td>\n",
       "      <td>24.0</td>\n",
       "      <td>155.0</td>\n",
       "      <td>B(+ve)</td>\n",
       "      <td>1.0</td>\n",
       "      <td>3.0</td>\n",
       "      <td>49.0</td>\n",
       "      <td>55.0</td>\n",
       "      <td>91.0</td>\n",
       "      <td>52.0</td>\n",
       "      <td>110.0</td>\n",
       "      <td>70.0</td>\n",
       "      <td>11.0</td>\n",
       "      <td>11.6</td>\n",
       "      <td>102.0</td>\n",
       "      <td>T</td>\n",
       "      <td>M</td>\n",
       "      <td>2.4</td>\n",
       "      <td>1.0</td>\n",
       "    </tr>\n",
       "    <tr>\n",
       "      <th>3</th>\n",
       "      <td>BPL</td>\n",
       "      <td>19.0</td>\n",
       "      <td>154.0</td>\n",
       "      <td>NIL</td>\n",
       "      <td>1.0</td>\n",
       "      <td>2.0</td>\n",
       "      <td>49.0</td>\n",
       "      <td>50.0</td>\n",
       "      <td>90.0</td>\n",
       "      <td>52.0</td>\n",
       "      <td>100.0</td>\n",
       "      <td>60.0</td>\n",
       "      <td>10.0</td>\n",
       "      <td>10.6</td>\n",
       "      <td>103.0</td>\n",
       "      <td>T</td>\n",
       "      <td>F</td>\n",
       "      <td>2.6</td>\n",
       "      <td>2.0</td>\n",
       "    </tr>\n",
       "    <tr>\n",
       "      <th>4</th>\n",
       "      <td>BPL</td>\n",
       "      <td>21.0</td>\n",
       "      <td>150.0</td>\n",
       "      <td>NIL</td>\n",
       "      <td>1.0</td>\n",
       "      <td>4.0</td>\n",
       "      <td>41.0</td>\n",
       "      <td>48.0</td>\n",
       "      <td>100.0</td>\n",
       "      <td>60.0</td>\n",
       "      <td>110.0</td>\n",
       "      <td>70.0</td>\n",
       "      <td>9.0</td>\n",
       "      <td>10.2</td>\n",
       "      <td>99.0</td>\n",
       "      <td>T</td>\n",
       "      <td>F</td>\n",
       "      <td>2.3</td>\n",
       "      <td>1.0</td>\n",
       "    </tr>\n",
       "  </tbody>\n",
       "</table>\n",
       "</div>"
      ],
      "text/plain": [
       "   SEC  Age(years)  Height(cm)  Bgroup  Parity  ANC  Iwt(kg)  FWt(kg)  \\\n",
       "0  BPL        23.0       146.0  A(+ve)     1.0  4.0     34.0     42.0   \n",
       "1  BPL        25.0       165.0     NIL     1.0  3.0     68.0     71.0   \n",
       "2  BPL        24.0       155.0  B(+ve)     1.0  3.0     49.0     55.0   \n",
       "3  BPL        19.0       154.0     NIL     1.0  2.0     49.0     50.0   \n",
       "4  BPL        21.0       150.0     NIL     1.0  4.0     41.0     48.0   \n",
       "\n",
       "   IBP_sys  IBP_dias  FBP_sys  FBP_dias  IHb(gm%)  FHb(gm%)  BS(RBS)  \\\n",
       "0    116.0      78.0    120.0      70.0      10.0      13.2     90.0   \n",
       "1     96.0      70.0    110.0      72.0      10.4      11.0     96.0   \n",
       "2     91.0      52.0    110.0      70.0      11.0      11.6    102.0   \n",
       "3     90.0      52.0    100.0      60.0      10.0      10.6    103.0   \n",
       "4    100.0      60.0    110.0      70.0       9.0      10.2     99.0   \n",
       "\n",
       "  Term/Preterm Sex  BWt(kg)  LNH  \n",
       "0            T   F      2.7  2.0  \n",
       "1            T   M      2.9  2.0  \n",
       "2            T   M      2.4  1.0  \n",
       "3            T   F      2.6  2.0  \n",
       "4            T   F      2.3  1.0  "
      ]
     },
     "execution_count": 5,
     "metadata": {},
     "output_type": "execute_result"
    }
   ],
   "source": [
    "df.head()"
   ]
  },
  {
   "cell_type": "markdown",
   "id": "6c6adca1",
   "metadata": {},
   "source": [
    "Ispis deskriptivne statistike."
   ]
  },
  {
   "cell_type": "code",
   "execution_count": 6,
   "id": "4ec8249b",
   "metadata": {},
   "outputs": [
    {
     "data": {
      "text/html": [
       "<div>\n",
       "<style scoped>\n",
       "    .dataframe tbody tr th:only-of-type {\n",
       "        vertical-align: middle;\n",
       "    }\n",
       "\n",
       "    .dataframe tbody tr th {\n",
       "        vertical-align: top;\n",
       "    }\n",
       "\n",
       "    .dataframe thead th {\n",
       "        text-align: right;\n",
       "    }\n",
       "</style>\n",
       "<table border=\"1\" class=\"dataframe\">\n",
       "  <thead>\n",
       "    <tr style=\"text-align: right;\">\n",
       "      <th></th>\n",
       "      <th>Age(years)</th>\n",
       "      <th>Height(cm)</th>\n",
       "      <th>Parity</th>\n",
       "      <th>ANC</th>\n",
       "      <th>Iwt(kg)</th>\n",
       "      <th>FWt(kg)</th>\n",
       "      <th>IBP_sys</th>\n",
       "      <th>IBP_dias</th>\n",
       "      <th>FBP_sys</th>\n",
       "      <th>FBP_dias</th>\n",
       "      <th>IHb(gm%)</th>\n",
       "      <th>FHb(gm%)</th>\n",
       "      <th>BS(RBS)</th>\n",
       "      <th>BWt(kg)</th>\n",
       "      <th>LNH</th>\n",
       "    </tr>\n",
       "  </thead>\n",
       "  <tbody>\n",
       "    <tr>\n",
       "      <th>count</th>\n",
       "      <td>1786.000000</td>\n",
       "      <td>1527.000000</td>\n",
       "      <td>1767.000000</td>\n",
       "      <td>1781.000000</td>\n",
       "      <td>1751.000000</td>\n",
       "      <td>1739.000000</td>\n",
       "      <td>1760.000000</td>\n",
       "      <td>1760.000000</td>\n",
       "      <td>1749.000000</td>\n",
       "      <td>1748.000000</td>\n",
       "      <td>1395.000000</td>\n",
       "      <td>1393.000000</td>\n",
       "      <td>608.000000</td>\n",
       "      <td>1072.000000</td>\n",
       "      <td>1072.000000</td>\n",
       "    </tr>\n",
       "    <tr>\n",
       "      <th>mean</th>\n",
       "      <td>22.986002</td>\n",
       "      <td>143.785855</td>\n",
       "      <td>0.667233</td>\n",
       "      <td>3.423358</td>\n",
       "      <td>45.749857</td>\n",
       "      <td>51.645371</td>\n",
       "      <td>108.032386</td>\n",
       "      <td>66.091477</td>\n",
       "      <td>111.819325</td>\n",
       "      <td>69.405606</td>\n",
       "      <td>9.919398</td>\n",
       "      <td>10.401651</td>\n",
       "      <td>100.898026</td>\n",
       "      <td>2.759580</td>\n",
       "      <td>1.871269</td>\n",
       "    </tr>\n",
       "    <tr>\n",
       "      <th>std</th>\n",
       "      <td>4.050843</td>\n",
       "      <td>19.702879</td>\n",
       "      <td>0.993277</td>\n",
       "      <td>0.889005</td>\n",
       "      <td>6.655457</td>\n",
       "      <td>6.905943</td>\n",
       "      <td>12.021658</td>\n",
       "      <td>8.263232</td>\n",
       "      <td>11.809435</td>\n",
       "      <td>9.249682</td>\n",
       "      <td>1.052058</td>\n",
       "      <td>0.989487</td>\n",
       "      <td>17.251874</td>\n",
       "      <td>0.430413</td>\n",
       "      <td>0.346026</td>\n",
       "    </tr>\n",
       "    <tr>\n",
       "      <th>min</th>\n",
       "      <td>8.000000</td>\n",
       "      <td>10.000000</td>\n",
       "      <td>0.000000</td>\n",
       "      <td>1.000000</td>\n",
       "      <td>30.000000</td>\n",
       "      <td>30.000000</td>\n",
       "      <td>10.000000</td>\n",
       "      <td>14.000000</td>\n",
       "      <td>10.000000</td>\n",
       "      <td>10.000000</td>\n",
       "      <td>6.000000</td>\n",
       "      <td>1.500000</td>\n",
       "      <td>12.000000</td>\n",
       "      <td>0.500000</td>\n",
       "      <td>1.000000</td>\n",
       "    </tr>\n",
       "    <tr>\n",
       "      <th>25%</th>\n",
       "      <td>20.000000</td>\n",
       "      <td>135.000000</td>\n",
       "      <td>0.000000</td>\n",
       "      <td>3.000000</td>\n",
       "      <td>41.000000</td>\n",
       "      <td>47.000000</td>\n",
       "      <td>100.000000</td>\n",
       "      <td>60.000000</td>\n",
       "      <td>110.000000</td>\n",
       "      <td>60.000000</td>\n",
       "      <td>9.200000</td>\n",
       "      <td>10.000000</td>\n",
       "      <td>93.000000</td>\n",
       "      <td>2.500000</td>\n",
       "      <td>2.000000</td>\n",
       "    </tr>\n",
       "    <tr>\n",
       "      <th>50%</th>\n",
       "      <td>22.000000</td>\n",
       "      <td>150.000000</td>\n",
       "      <td>0.000000</td>\n",
       "      <td>4.000000</td>\n",
       "      <td>45.000000</td>\n",
       "      <td>51.000000</td>\n",
       "      <td>110.000000</td>\n",
       "      <td>66.000000</td>\n",
       "      <td>110.000000</td>\n",
       "      <td>70.000000</td>\n",
       "      <td>10.000000</td>\n",
       "      <td>10.400000</td>\n",
       "      <td>100.000000</td>\n",
       "      <td>2.700000</td>\n",
       "      <td>2.000000</td>\n",
       "    </tr>\n",
       "    <tr>\n",
       "      <th>75%</th>\n",
       "      <td>25.000000</td>\n",
       "      <td>150.000000</td>\n",
       "      <td>1.000000</td>\n",
       "      <td>4.000000</td>\n",
       "      <td>50.000000</td>\n",
       "      <td>55.000000</td>\n",
       "      <td>112.000000</td>\n",
       "      <td>70.000000</td>\n",
       "      <td>120.000000</td>\n",
       "      <td>78.000000</td>\n",
       "      <td>10.600000</td>\n",
       "      <td>11.000000</td>\n",
       "      <td>109.000000</td>\n",
       "      <td>3.000000</td>\n",
       "      <td>2.000000</td>\n",
       "    </tr>\n",
       "    <tr>\n",
       "      <th>max</th>\n",
       "      <td>55.000000</td>\n",
       "      <td>195.000000</td>\n",
       "      <td>6.000000</td>\n",
       "      <td>4.000000</td>\n",
       "      <td>93.000000</td>\n",
       "      <td>100.000000</td>\n",
       "      <td>196.000000</td>\n",
       "      <td>100.000000</td>\n",
       "      <td>160.000000</td>\n",
       "      <td>117.000000</td>\n",
       "      <td>13.000000</td>\n",
       "      <td>13.200000</td>\n",
       "      <td>240.000000</td>\n",
       "      <td>4.500000</td>\n",
       "      <td>3.000000</td>\n",
       "    </tr>\n",
       "  </tbody>\n",
       "</table>\n",
       "</div>"
      ],
      "text/plain": [
       "        Age(years)   Height(cm)       Parity          ANC      Iwt(kg)  \\\n",
       "count  1786.000000  1527.000000  1767.000000  1781.000000  1751.000000   \n",
       "mean     22.986002   143.785855     0.667233     3.423358    45.749857   \n",
       "std       4.050843    19.702879     0.993277     0.889005     6.655457   \n",
       "min       8.000000    10.000000     0.000000     1.000000    30.000000   \n",
       "25%      20.000000   135.000000     0.000000     3.000000    41.000000   \n",
       "50%      22.000000   150.000000     0.000000     4.000000    45.000000   \n",
       "75%      25.000000   150.000000     1.000000     4.000000    50.000000   \n",
       "max      55.000000   195.000000     6.000000     4.000000    93.000000   \n",
       "\n",
       "           FWt(kg)      IBP_sys     IBP_dias      FBP_sys     FBP_dias  \\\n",
       "count  1739.000000  1760.000000  1760.000000  1749.000000  1748.000000   \n",
       "mean     51.645371   108.032386    66.091477   111.819325    69.405606   \n",
       "std       6.905943    12.021658     8.263232    11.809435     9.249682   \n",
       "min      30.000000    10.000000    14.000000    10.000000    10.000000   \n",
       "25%      47.000000   100.000000    60.000000   110.000000    60.000000   \n",
       "50%      51.000000   110.000000    66.000000   110.000000    70.000000   \n",
       "75%      55.000000   112.000000    70.000000   120.000000    78.000000   \n",
       "max     100.000000   196.000000   100.000000   160.000000   117.000000   \n",
       "\n",
       "          IHb(gm%)     FHb(gm%)     BS(RBS)      BWt(kg)          LNH  \n",
       "count  1395.000000  1393.000000  608.000000  1072.000000  1072.000000  \n",
       "mean      9.919398    10.401651  100.898026     2.759580     1.871269  \n",
       "std       1.052058     0.989487   17.251874     0.430413     0.346026  \n",
       "min       6.000000     1.500000   12.000000     0.500000     1.000000  \n",
       "25%       9.200000    10.000000   93.000000     2.500000     2.000000  \n",
       "50%      10.000000    10.400000  100.000000     2.700000     2.000000  \n",
       "75%      10.600000    11.000000  109.000000     3.000000     2.000000  \n",
       "max      13.000000    13.200000  240.000000     4.500000     3.000000  "
      ]
     },
     "execution_count": 6,
     "metadata": {},
     "output_type": "execute_result"
    }
   ],
   "source": [
    "df.describe()"
   ]
  },
  {
   "cell_type": "markdown",
   "id": "f342d2a5",
   "metadata": {},
   "source": [
    "Suma jedinstvenih vrijednosti za sve značajke u datasetu."
   ]
  },
  {
   "cell_type": "code",
   "execution_count": 7,
   "id": "dc21c296",
   "metadata": {},
   "outputs": [
    {
     "data": {
      "text/plain": [
       "SEC              2\n",
       "Age(years)      28\n",
       "Height(cm)      59\n",
       "Bgroup          13\n",
       "Parity           7\n",
       "ANC              4\n",
       "Iwt(kg)         45\n",
       "FWt(kg)         48\n",
       "IBP_sys         59\n",
       "IBP_dias        48\n",
       "FBP_sys         55\n",
       "FBP_dias        52\n",
       "IHb(gm%)        55\n",
       "FHb(gm%)        52\n",
       "BS(RBS)         83\n",
       "Term/Preterm     3\n",
       "Sex              3\n",
       "BWt(kg)         36\n",
       "LNH              3\n",
       "dtype: int64"
      ]
     },
     "execution_count": 7,
     "metadata": {},
     "output_type": "execute_result"
    }
   ],
   "source": [
    "df.nunique()"
   ]
  },
  {
   "cell_type": "code",
   "execution_count": 8,
   "id": "bc3cae88",
   "metadata": {},
   "outputs": [
    {
     "name": "stdout",
     "output_type": "stream",
     "text": [
      "<class 'pandas.core.frame.DataFrame'>\n",
      "RangeIndex: 1800 entries, 0 to 1799\n",
      "Data columns (total 19 columns):\n",
      " #   Column        Non-Null Count  Dtype  \n",
      "---  ------        --------------  -----  \n",
      " 0   SEC           1150 non-null   object \n",
      " 1   Age(years)    1786 non-null   float64\n",
      " 2   Height(cm)    1527 non-null   float64\n",
      " 3   Bgroup        798 non-null    object \n",
      " 4   Parity        1767 non-null   float64\n",
      " 5   ANC           1781 non-null   float64\n",
      " 6   Iwt(kg)       1751 non-null   float64\n",
      " 7   FWt(kg)       1739 non-null   float64\n",
      " 8   IBP_sys       1760 non-null   float64\n",
      " 9   IBP_dias      1760 non-null   float64\n",
      " 10  FBP_sys       1749 non-null   float64\n",
      " 11  FBP_dias      1748 non-null   float64\n",
      " 12  IHb(gm%)      1395 non-null   float64\n",
      " 13  FHb(gm%)      1393 non-null   float64\n",
      " 14  BS(RBS)       608 non-null    float64\n",
      " 15  Term/Preterm  962 non-null    object \n",
      " 16  Sex           1142 non-null   object \n",
      " 17  BWt(kg)       1072 non-null   float64\n",
      " 18  LNH           1072 non-null   float64\n",
      "dtypes: float64(15), object(4)\n",
      "memory usage: 267.3+ KB\n"
     ]
    }
   ],
   "source": [
    "df.info()"
   ]
  },
  {
   "cell_type": "markdown",
   "id": "983a47d0",
   "metadata": {},
   "source": [
    "Ispis NaN vrijednosti u datasetu."
   ]
  },
  {
   "cell_type": "code",
   "execution_count": 9,
   "id": "1bffa092",
   "metadata": {},
   "outputs": [
    {
     "data": {
      "text/plain": [
       "SEC              650\n",
       "Age(years)        14\n",
       "Height(cm)       273\n",
       "Bgroup          1002\n",
       "Parity            33\n",
       "ANC               19\n",
       "Iwt(kg)           49\n",
       "FWt(kg)           61\n",
       "IBP_sys           40\n",
       "IBP_dias          40\n",
       "FBP_sys           51\n",
       "FBP_dias          52\n",
       "IHb(gm%)         405\n",
       "FHb(gm%)         407\n",
       "BS(RBS)         1192\n",
       "Term/Preterm     838\n",
       "Sex              658\n",
       "BWt(kg)          728\n",
       "LNH              728\n",
       "dtype: int64"
      ]
     },
     "execution_count": 9,
     "metadata": {},
     "output_type": "execute_result"
    }
   ],
   "source": [
    "df.isna().sum()"
   ]
  },
  {
   "cell_type": "markdown",
   "id": "b88bb9df",
   "metadata": {},
   "source": [
    "Stupac klase koju je potrebno predvidjeti modelom ima 728 NaN vrijednosti koje je potrebno izbaciti iz skupa podataka. Također, nakon pregleda zapisa redaka koji predstavljaju stršeće vrijednosti, potrebno je te zapise izbaciti iz skupa. U skupu za te značajke (Height i Age) će ostati vrijesti veće od 120 cm i 10 godina respektivno."
   ]
  },
  {
   "cell_type": "code",
   "execution_count": 10,
   "id": "9eea6d42",
   "metadata": {},
   "outputs": [],
   "source": [
    "df = df[df['LNH'].notna()]\n",
    "df = df[df['LNH'] != 3]\n",
    "\n",
    "df = df[df['Height(cm)'] > 120]\n",
    "df = df[df['Age(years)'] > 10]\n",
    "\n",
    "df = df.reset_index(drop=True)"
   ]
  },
  {
   "cell_type": "markdown",
   "id": "0d9e3371",
   "metadata": {},
   "source": [
    "Pogled na NaN vrijednosti nakon izbacivanja zapisa prema gore navedenim kriterijima:"
   ]
  },
  {
   "cell_type": "code",
   "execution_count": 11,
   "id": "a2ea37c9",
   "metadata": {},
   "outputs": [
    {
     "data": {
      "text/plain": [
       "SEC             131\n",
       "Age(years)        0\n",
       "Height(cm)        0\n",
       "Bgroup          178\n",
       "Parity            0\n",
       "ANC               0\n",
       "Iwt(kg)           2\n",
       "FWt(kg)           3\n",
       "IBP_sys           1\n",
       "IBP_dias          1\n",
       "FBP_sys           3\n",
       "FBP_dias          3\n",
       "IHb(gm%)         79\n",
       "FHb(gm%)         78\n",
       "BS(RBS)         248\n",
       "Term/Preterm     89\n",
       "Sex               3\n",
       "BWt(kg)           0\n",
       "LNH               0\n",
       "dtype: int64"
      ]
     },
     "execution_count": 11,
     "metadata": {},
     "output_type": "execute_result"
    }
   ],
   "source": [
    "df.isna().sum()"
   ]
  },
  {
   "cell_type": "code",
   "execution_count": 12,
   "id": "f2ee9a9a",
   "metadata": {},
   "outputs": [
    {
     "name": "stdout",
     "output_type": "stream",
     "text": [
      "<class 'pandas.core.frame.DataFrame'>\n",
      "RangeIndex: 740 entries, 0 to 739\n",
      "Data columns (total 19 columns):\n",
      " #   Column        Non-Null Count  Dtype  \n",
      "---  ------        --------------  -----  \n",
      " 0   SEC           609 non-null    object \n",
      " 1   Age(years)    740 non-null    float64\n",
      " 2   Height(cm)    740 non-null    float64\n",
      " 3   Bgroup        562 non-null    object \n",
      " 4   Parity        740 non-null    float64\n",
      " 5   ANC           740 non-null    float64\n",
      " 6   Iwt(kg)       738 non-null    float64\n",
      " 7   FWt(kg)       737 non-null    float64\n",
      " 8   IBP_sys       739 non-null    float64\n",
      " 9   IBP_dias      739 non-null    float64\n",
      " 10  FBP_sys       737 non-null    float64\n",
      " 11  FBP_dias      737 non-null    float64\n",
      " 12  IHb(gm%)      661 non-null    float64\n",
      " 13  FHb(gm%)      662 non-null    float64\n",
      " 14  BS(RBS)       492 non-null    float64\n",
      " 15  Term/Preterm  651 non-null    object \n",
      " 16  Sex           737 non-null    object \n",
      " 17  BWt(kg)       740 non-null    float64\n",
      " 18  LNH           740 non-null    float64\n",
      "dtypes: float64(15), object(4)\n",
      "memory usage: 110.0+ KB\n"
     ]
    }
   ],
   "source": [
    "df.info()"
   ]
  },
  {
   "cell_type": "markdown",
   "id": "dd5c7add",
   "metadata": {},
   "source": [
    "Kontinuirane značajke čije su vrijednosti NaN još uvijek bit će imputane prosječnim vrijednostima dataseta za te značajke."
   ]
  },
  {
   "cell_type": "code",
   "execution_count": 13,
   "id": "32fa66cb",
   "metadata": {},
   "outputs": [],
   "source": [
    "df_tmp = df.copy()\n",
    "\n",
    "# ubaci srednju vrijednost godina tamo gdje nedostaje ta informacija\n",
    "df_tmp.loc[df_tmp['Age(years)'].isna(), 'Age(years)'] = df_tmp.loc[:, 'Age(years)'].mean()\n",
    "\n",
    "# ubaci srednju vrijednosti značajke visine \n",
    "df_tmp.loc[df_tmp['Height(cm)'].isna(), 'Height(cm)'] = df_tmp.loc[:, 'Height(cm)'].mean()\n",
    "\n",
    "# Masa Iwt i FWt\n",
    "df_tmp.loc[df_tmp['Iwt(kg)'].isna(), 'Iwt(kg)'] = df_tmp.loc[:, 'Iwt(kg)'].mean()\n",
    "df_tmp.loc[df_tmp['FWt(kg)'].isna(), 'FWt(kg)'] = df_tmp.loc[:, 'FWt(kg)'].mean()\n",
    "\n",
    "# Tlakova IBP i FBP\n",
    "df_tmp.loc[df_tmp['IBP_sys'].isna(), 'IBP_sys'] = df_tmp.loc[:, 'IBP_sys'].mean()\n",
    "df_tmp.loc[df_tmp['IBP_dias'].isna(), 'IBP_dias'] = df_tmp.loc[:, 'IBP_dias'].mean()\n",
    "df_tmp.loc[df_tmp['FBP_sys'].isna(), 'FBP_sys'] = df_tmp.loc[:, 'FBP_sys'].mean()\n",
    "df_tmp.loc[df_tmp['FBP_dias'].isna(), 'FBP_dias'] = df_tmp.loc[:, 'FBP_dias'].mean()\n",
    "\n",
    "# Hemoglobina\n",
    "df_tmp.loc[df_tmp['IHb(gm%)'].isna(), 'IHb(gm%)'] = df_tmp.loc[:, 'IHb(gm%)'].mean()\n",
    "df_tmp.loc[df_tmp['FHb(gm%)'].isna(), 'FHb(gm%)'] = df_tmp.loc[:, 'FHb(gm%)'].mean()\n",
    "\n",
    "# Šećera\n",
    "df_tmp.loc[df_tmp['BS(RBS)'].isna(), 'BS(RBS)'] = df_tmp.loc[:, 'BS(RBS)'].mean()\n",
    "\n",
    "df_tmp.drop(('SEC'), axis=1, inplace=True)\n",
    "df_tmp.drop(('Term/Preterm'), axis=1, inplace=True)\n",
    "df_tmp.drop(('ANC'), axis=1, inplace=True)\n",
    "df_tmp.drop(('Parity'), axis=1, inplace=True)\n",
    "df_tmp.drop(('Sex'), axis=1, inplace=True)\n",
    "df_tmp.drop(('Bgroup'), axis=1, inplace=True)"
   ]
  },
  {
   "cell_type": "markdown",
   "id": "53139dfe",
   "metadata": {},
   "source": [
    "Kategorijske značajke su izbačene da bismo trenirali samo kontinuirane značajke na modelu Gaussian Naive Bayes."
   ]
  },
  {
   "cell_type": "code",
   "execution_count": 14,
   "id": "a9b37c27",
   "metadata": {},
   "outputs": [
    {
     "name": "stdout",
     "output_type": "stream",
     "text": [
      "<class 'pandas.core.frame.DataFrame'>\n",
      "RangeIndex: 740 entries, 0 to 739\n",
      "Data columns (total 13 columns):\n",
      " #   Column      Non-Null Count  Dtype  \n",
      "---  ------      --------------  -----  \n",
      " 0   Age(years)  740 non-null    float64\n",
      " 1   Height(cm)  740 non-null    float64\n",
      " 2   Iwt(kg)     740 non-null    float64\n",
      " 3   FWt(kg)     740 non-null    float64\n",
      " 4   IBP_sys     740 non-null    float64\n",
      " 5   IBP_dias    740 non-null    float64\n",
      " 6   FBP_sys     740 non-null    float64\n",
      " 7   FBP_dias    740 non-null    float64\n",
      " 8   IHb(gm%)    740 non-null    float64\n",
      " 9   FHb(gm%)    740 non-null    float64\n",
      " 10  BS(RBS)     740 non-null    float64\n",
      " 11  BWt(kg)     740 non-null    float64\n",
      " 12  LNH         740 non-null    float64\n",
      "dtypes: float64(13)\n",
      "memory usage: 75.3 KB\n"
     ]
    }
   ],
   "source": [
    "df_tmp.info()"
   ]
  },
  {
   "cell_type": "markdown",
   "id": "d888c83e",
   "metadata": {},
   "source": [
    "Za potrebe su definirane funckije klasifikacija koje koriste Gaussian Naive Bayes, Categorical Naive Bayes i Multinomial Naive Bayes modele. Prije treniranja modela i predviđanja, u obje funkcije su splitani podaci na train i test u omjeru 70% i 30%, u jednakim omjerima kao što su zastupljeni u datasetu (stratify=y), s jednakim podacima (random_state=4). Također, za razliku od 2. faze projekta, izbačen je stupac mase djeteta prema kojem su kreirane klase L, N i H."
   ]
  },
  {
   "cell_type": "code",
   "execution_count": 15,
   "id": "cc1c2521",
   "metadata": {},
   "outputs": [],
   "source": [
    "def classification(df):\n",
    "    # odvajanje oznake klase\n",
    "    X = df.loc[:,  (df.columns != 'LNH') & (df.columns != 'BWt(kg)')]\n",
    "    y = df.loc[:, 'LNH']\n",
    "    \n",
    "    # razdvoji podatke\n",
    "    # 70% training i 30% test\n",
    "    X_train, X_test, y_train, y_test = train_test_split(X, y, test_size=0.3, random_state=4, stratify=y) \n",
    "    \n",
    "    # instanca klase i treniranje modela\n",
    "    nbc = GaussianNB()\n",
    "    nbc.fit(X_train, y_train)\n",
    "    y_pred = nbc.predict(X_test)\n",
    "    \n",
    "    # isprintaj matricu konfuzije\n",
    "    print(confusion_matrix(y_test, y_pred))\n",
    "    \n",
    "    # isprintaj klasifikacijski report s metrikama točnosti, odziva, f1 \n",
    "    label_names = ['L', 'N']\n",
    "    print(classification_report(y_test, y_pred ,target_names=label_names))"
   ]
  },
  {
   "cell_type": "code",
   "execution_count": 16,
   "id": "f3ec7c9e",
   "metadata": {},
   "outputs": [],
   "source": [
    "def classification_cat_nb(df):\n",
    "    # odvajanje oznake klase\n",
    "    X = df.loc[:,  (df.columns != 'LNH') & (df.columns != 'BWt(kg)')]\n",
    "    y = df.loc[:, 'LNH']\n",
    "    \n",
    "    # razdvoji podatke\n",
    "    # 70% training i 30% test\n",
    "    X_train, X_test, y_train, y_test = train_test_split(X, y, test_size=0.3, random_state=4, stratify=y) \n",
    "    \n",
    "    # instanca klase i treniranje modela\n",
    "    nb_cat = CategoricalNB()\n",
    "    nb_cat.fit(X_train, y_train)\n",
    "    y_pred = nb_cat.predict(X_test)\n",
    "    \n",
    "    # isprintaj matricu konfuzije\n",
    "    print(confusion_matrix(y_test, y_pred))\n",
    "    \n",
    "    # isprintaj klasifikacijski report s metrikama točnosti, odziva, f1 \n",
    "    label_names = ['L', 'N']\n",
    "    print(classification_report(y_test, y_pred ,target_names=label_names))"
   ]
  },
  {
   "cell_type": "code",
   "execution_count": 17,
   "id": "81498d1c",
   "metadata": {},
   "outputs": [],
   "source": [
    "def multinomial_nb(df):\n",
    "    # odvajanje oznake klase\n",
    "    X = df.loc[:,  (df.columns != 'LNH') & (df.columns != 'BWt(kg)')]\n",
    "    y = df.loc[:, 'LNH']\n",
    "    \n",
    "    # razdvoji podatke\n",
    "    # 70% training i 30% test\n",
    "    X_train, X_test, y_train, y_test = train_test_split(X, y, test_size=0.3, random_state=4, stratify=y) \n",
    "    \n",
    "    # instanca klase i treniranje modela\n",
    "    mlt = MultinomialNB()\n",
    "    mlt.fit(X_train, y_train)\n",
    "    y_pred = mlt.predict(X_test)\n",
    "    \n",
    "    # isprintaj matricu konfuzije\n",
    "    print(confusion_matrix(y_test, y_pred))\n",
    "    \n",
    "    # isprintaj klasifikacijski report s metrikama točnosti, odziva, f1 \n",
    "    label_names = ['L', 'N']\n",
    "    print(classification_report(y_test, y_pred ,target_names=label_names))"
   ]
  },
  {
   "cell_type": "markdown",
   "id": "eca427da",
   "metadata": {},
   "source": [
    "Na imputanim podacima dobiveni su sljedeći podaci:"
   ]
  },
  {
   "cell_type": "code",
   "execution_count": 18,
   "id": "9335c3d9",
   "metadata": {},
   "outputs": [
    {
     "name": "stdout",
     "output_type": "stream",
     "text": [
      "[[  1  36]\n",
      " [  2 183]]\n",
      "              precision    recall  f1-score   support\n",
      "\n",
      "           L       0.33      0.03      0.05        37\n",
      "           N       0.84      0.99      0.91       185\n",
      "\n",
      "    accuracy                           0.83       222\n",
      "   macro avg       0.58      0.51      0.48       222\n",
      "weighted avg       0.75      0.83      0.76       222\n",
      "\n"
     ]
    }
   ],
   "source": [
    "classification(df_tmp)"
   ]
  },
  {
   "cell_type": "markdown",
   "id": "74d09f76",
   "metadata": {},
   "source": [
    "Lošiji su od podataka iz druge faze projekta jer je izbačen navedeni stupac mase djeteta. Stoga ćemo se pozabaviti dodavanjem kategoričkih varijabli te dobiti predikcije za takve skupove podataka korišteći modele par čelija iznad."
   ]
  },
  {
   "cell_type": "markdown",
   "id": "7f5668b7",
   "metadata": {},
   "source": [
    "Za početak ćemo srediti značajku spola djeteta. Te izračunati prosječnu masu djeteta prema spolu da vidimo razlikuje li se masa po toj varijabli."
   ]
  },
  {
   "cell_type": "code",
   "execution_count": 19,
   "id": "a3148c6e",
   "metadata": {},
   "outputs": [
    {
     "data": {
      "text/html": [
       "<div>\n",
       "<style scoped>\n",
       "    .dataframe tbody tr th:only-of-type {\n",
       "        vertical-align: middle;\n",
       "    }\n",
       "\n",
       "    .dataframe tbody tr th {\n",
       "        vertical-align: top;\n",
       "    }\n",
       "\n",
       "    .dataframe thead th {\n",
       "        text-align: right;\n",
       "    }\n",
       "</style>\n",
       "<table border=\"1\" class=\"dataframe\">\n",
       "  <thead>\n",
       "    <tr style=\"text-align: right;\">\n",
       "      <th></th>\n",
       "      <th>Sex</th>\n",
       "      <th>BWt(kg)</th>\n",
       "    </tr>\n",
       "  </thead>\n",
       "  <tbody>\n",
       "    <tr>\n",
       "      <th>0</th>\n",
       "      <td>F</td>\n",
       "      <td>2.712325</td>\n",
       "    </tr>\n",
       "    <tr>\n",
       "      <th>1</th>\n",
       "      <td>M</td>\n",
       "      <td>2.728307</td>\n",
       "    </tr>\n",
       "  </tbody>\n",
       "</table>\n",
       "</div>"
      ],
      "text/plain": [
       "  Sex   BWt(kg)\n",
       "0   F  2.712325\n",
       "1   M  2.728307"
      ]
     },
     "execution_count": 19,
     "metadata": {},
     "output_type": "execute_result"
    }
   ],
   "source": [
    "df = df.loc[df.Sex != 'T', :]\n",
    "df[['Sex', 'BWt(kg)']].groupby(['Sex'], as_index=False).mean()"
   ]
  },
  {
   "cell_type": "markdown",
   "id": "a57331a1",
   "metadata": {},
   "source": [
    "Ne razlikuje se previše, no svejedno ćemo isprobati kako modeli tretiraju istu. Isto ćemo napraviti i sa značajkom Term/Preterm."
   ]
  },
  {
   "cell_type": "code",
   "execution_count": 20,
   "id": "a6c54655",
   "metadata": {},
   "outputs": [
    {
     "data": {
      "text/html": [
       "<div>\n",
       "<style scoped>\n",
       "    .dataframe tbody tr th:only-of-type {\n",
       "        vertical-align: middle;\n",
       "    }\n",
       "\n",
       "    .dataframe tbody tr th {\n",
       "        vertical-align: top;\n",
       "    }\n",
       "\n",
       "    .dataframe thead th {\n",
       "        text-align: right;\n",
       "    }\n",
       "</style>\n",
       "<table border=\"1\" class=\"dataframe\">\n",
       "  <thead>\n",
       "    <tr style=\"text-align: right;\">\n",
       "      <th></th>\n",
       "      <th>Term/Preterm</th>\n",
       "      <th>BWt(kg)</th>\n",
       "    </tr>\n",
       "  </thead>\n",
       "  <tbody>\n",
       "    <tr>\n",
       "      <th>0</th>\n",
       "      <td>PT</td>\n",
       "      <td>2.385484</td>\n",
       "    </tr>\n",
       "    <tr>\n",
       "      <th>1</th>\n",
       "      <td>T</td>\n",
       "      <td>2.760136</td>\n",
       "    </tr>\n",
       "  </tbody>\n",
       "</table>\n",
       "</div>"
      ],
      "text/plain": [
       "  Term/Preterm   BWt(kg)\n",
       "0           PT  2.385484\n",
       "1            T  2.760136"
      ]
     },
     "execution_count": 20,
     "metadata": {},
     "output_type": "execute_result"
    }
   ],
   "source": [
    "df['Term/Preterm'] = df['Term/Preterm'].replace('t', 'T')\n",
    "df[['Term/Preterm', 'BWt(kg)']].groupby(['Term/Preterm'], as_index=False).mean()"
   ]
  },
  {
   "cell_type": "markdown",
   "id": "da161322",
   "metadata": {},
   "source": [
    "Očekivano, značajka koja govori je li dijete rođeno u terminu ili ranije, razlikuje prosječnu masu djeteta. "
   ]
  },
  {
   "cell_type": "markdown",
   "id": "5c2baec8",
   "metadata": {},
   "source": [
    "Uz to, kako izgledaju prosječne mase djeteta grupirane prema značajkama SEC, Parity i ANC."
   ]
  },
  {
   "cell_type": "code",
   "execution_count": 21,
   "id": "84dfa15d",
   "metadata": {},
   "outputs": [
    {
     "data": {
      "text/html": [
       "<div>\n",
       "<style scoped>\n",
       "    .dataframe tbody tr th:only-of-type {\n",
       "        vertical-align: middle;\n",
       "    }\n",
       "\n",
       "    .dataframe tbody tr th {\n",
       "        vertical-align: top;\n",
       "    }\n",
       "\n",
       "    .dataframe thead th {\n",
       "        text-align: right;\n",
       "    }\n",
       "</style>\n",
       "<table border=\"1\" class=\"dataframe\">\n",
       "  <thead>\n",
       "    <tr style=\"text-align: right;\">\n",
       "      <th></th>\n",
       "      <th>SEC</th>\n",
       "      <th>BWt(kg)</th>\n",
       "    </tr>\n",
       "  </thead>\n",
       "  <tbody>\n",
       "    <tr>\n",
       "      <th>0</th>\n",
       "      <td>APL</td>\n",
       "      <td>2.707372</td>\n",
       "    </tr>\n",
       "    <tr>\n",
       "      <th>1</th>\n",
       "      <td>BPL</td>\n",
       "      <td>2.742239</td>\n",
       "    </tr>\n",
       "  </tbody>\n",
       "</table>\n",
       "</div>"
      ],
      "text/plain": [
       "   SEC   BWt(kg)\n",
       "0  APL  2.707372\n",
       "1  BPL  2.742239"
      ]
     },
     "execution_count": 21,
     "metadata": {},
     "output_type": "execute_result"
    }
   ],
   "source": [
    "df[['SEC', 'BWt(kg)']].groupby(['SEC'], as_index=False).mean()"
   ]
  },
  {
   "cell_type": "code",
   "execution_count": 22,
   "id": "2db4d9e5",
   "metadata": {},
   "outputs": [
    {
     "data": {
      "text/html": [
       "<div>\n",
       "<style scoped>\n",
       "    .dataframe tbody tr th:only-of-type {\n",
       "        vertical-align: middle;\n",
       "    }\n",
       "\n",
       "    .dataframe tbody tr th {\n",
       "        vertical-align: top;\n",
       "    }\n",
       "\n",
       "    .dataframe thead th {\n",
       "        text-align: right;\n",
       "    }\n",
       "</style>\n",
       "<table border=\"1\" class=\"dataframe\">\n",
       "  <thead>\n",
       "    <tr style=\"text-align: right;\">\n",
       "      <th></th>\n",
       "      <th>ANC</th>\n",
       "      <th>BWt(kg)</th>\n",
       "    </tr>\n",
       "  </thead>\n",
       "  <tbody>\n",
       "    <tr>\n",
       "      <th>0</th>\n",
       "      <td>1.0</td>\n",
       "      <td>2.550000</td>\n",
       "    </tr>\n",
       "    <tr>\n",
       "      <th>1</th>\n",
       "      <td>2.0</td>\n",
       "      <td>2.665714</td>\n",
       "    </tr>\n",
       "    <tr>\n",
       "      <th>2</th>\n",
       "      <td>3.0</td>\n",
       "      <td>2.653659</td>\n",
       "    </tr>\n",
       "    <tr>\n",
       "      <th>3</th>\n",
       "      <td>4.0</td>\n",
       "      <td>2.743085</td>\n",
       "    </tr>\n",
       "  </tbody>\n",
       "</table>\n",
       "</div>"
      ],
      "text/plain": [
       "   ANC   BWt(kg)\n",
       "0  1.0  2.550000\n",
       "1  2.0  2.665714\n",
       "2  3.0  2.653659\n",
       "3  4.0  2.743085"
      ]
     },
     "execution_count": 22,
     "metadata": {},
     "output_type": "execute_result"
    }
   ],
   "source": [
    "df[['ANC', 'BWt(kg)']].groupby(['ANC'], as_index=False).mean()"
   ]
  },
  {
   "cell_type": "code",
   "execution_count": 23,
   "id": "a263ba23",
   "metadata": {},
   "outputs": [
    {
     "data": {
      "text/html": [
       "<div>\n",
       "<style scoped>\n",
       "    .dataframe tbody tr th:only-of-type {\n",
       "        vertical-align: middle;\n",
       "    }\n",
       "\n",
       "    .dataframe tbody tr th {\n",
       "        vertical-align: top;\n",
       "    }\n",
       "\n",
       "    .dataframe thead th {\n",
       "        text-align: right;\n",
       "    }\n",
       "</style>\n",
       "<table border=\"1\" class=\"dataframe\">\n",
       "  <thead>\n",
       "    <tr style=\"text-align: right;\">\n",
       "      <th></th>\n",
       "      <th>Parity</th>\n",
       "      <th>BWt(kg)</th>\n",
       "    </tr>\n",
       "  </thead>\n",
       "  <tbody>\n",
       "    <tr>\n",
       "      <th>0</th>\n",
       "      <td>0.0</td>\n",
       "      <td>2.742197</td>\n",
       "    </tr>\n",
       "    <tr>\n",
       "      <th>1</th>\n",
       "      <td>1.0</td>\n",
       "      <td>2.717153</td>\n",
       "    </tr>\n",
       "    <tr>\n",
       "      <th>2</th>\n",
       "      <td>2.0</td>\n",
       "      <td>2.631944</td>\n",
       "    </tr>\n",
       "    <tr>\n",
       "      <th>3</th>\n",
       "      <td>3.0</td>\n",
       "      <td>2.635294</td>\n",
       "    </tr>\n",
       "    <tr>\n",
       "      <th>4</th>\n",
       "      <td>4.0</td>\n",
       "      <td>2.528571</td>\n",
       "    </tr>\n",
       "    <tr>\n",
       "      <th>5</th>\n",
       "      <td>6.0</td>\n",
       "      <td>3.100000</td>\n",
       "    </tr>\n",
       "  </tbody>\n",
       "</table>\n",
       "</div>"
      ],
      "text/plain": [
       "   Parity   BWt(kg)\n",
       "0     0.0  2.742197\n",
       "1     1.0  2.717153\n",
       "2     2.0  2.631944\n",
       "3     3.0  2.635294\n",
       "4     4.0  2.528571\n",
       "5     6.0  3.100000"
      ]
     },
     "execution_count": 23,
     "metadata": {},
     "output_type": "execute_result"
    }
   ],
   "source": [
    "df[['Parity', 'BWt(kg)']].groupby(['Parity'], as_index=False).mean()"
   ]
  },
  {
   "cell_type": "markdown",
   "id": "0a2e30a7",
   "metadata": {},
   "source": [
    "Grupirane značajke prema broju trudnoća prije promatrane (Parity) te prosječna dob majke dalju sljedeći podaci."
   ]
  },
  {
   "cell_type": "code",
   "execution_count": 24,
   "id": "505532c1",
   "metadata": {},
   "outputs": [
    {
     "data": {
      "text/html": [
       "<div>\n",
       "<style scoped>\n",
       "    .dataframe tbody tr th:only-of-type {\n",
       "        vertical-align: middle;\n",
       "    }\n",
       "\n",
       "    .dataframe tbody tr th {\n",
       "        vertical-align: top;\n",
       "    }\n",
       "\n",
       "    .dataframe thead th {\n",
       "        text-align: right;\n",
       "    }\n",
       "</style>\n",
       "<table border=\"1\" class=\"dataframe\">\n",
       "  <thead>\n",
       "    <tr style=\"text-align: right;\">\n",
       "      <th></th>\n",
       "      <th>Parity</th>\n",
       "      <th>Age(years)</th>\n",
       "    </tr>\n",
       "  </thead>\n",
       "  <tbody>\n",
       "    <tr>\n",
       "      <th>0</th>\n",
       "      <td>0.0</td>\n",
       "      <td>21.505133</td>\n",
       "    </tr>\n",
       "    <tr>\n",
       "      <th>1</th>\n",
       "      <td>1.0</td>\n",
       "      <td>24.518248</td>\n",
       "    </tr>\n",
       "    <tr>\n",
       "      <th>2</th>\n",
       "      <td>2.0</td>\n",
       "      <td>26.305556</td>\n",
       "    </tr>\n",
       "    <tr>\n",
       "      <th>3</th>\n",
       "      <td>3.0</td>\n",
       "      <td>26.676471</td>\n",
       "    </tr>\n",
       "    <tr>\n",
       "      <th>4</th>\n",
       "      <td>4.0</td>\n",
       "      <td>27.857143</td>\n",
       "    </tr>\n",
       "    <tr>\n",
       "      <th>5</th>\n",
       "      <td>6.0</td>\n",
       "      <td>26.000000</td>\n",
       "    </tr>\n",
       "  </tbody>\n",
       "</table>\n",
       "</div>"
      ],
      "text/plain": [
       "   Parity  Age(years)\n",
       "0     0.0   21.505133\n",
       "1     1.0   24.518248\n",
       "2     2.0   26.305556\n",
       "3     3.0   26.676471\n",
       "4     4.0   27.857143\n",
       "5     6.0   26.000000"
      ]
     },
     "execution_count": 24,
     "metadata": {},
     "output_type": "execute_result"
    }
   ],
   "source": [
    "parity_age = df[['Parity', 'Age(years)']].groupby(['Parity'], as_index=False).mean()\n",
    "parity_age"
   ]
  },
  {
   "cell_type": "markdown",
   "id": "341a83c5",
   "metadata": {},
   "source": [
    "Gore grupirane vrijednosti će u sljedećem koraku biti korištene za imputanje nedostajućih vrijednosti značajki Parity, inicijalne mase majke (IWt), finalne mase majke (FWt) i visine majke (Height)."
   ]
  },
  {
   "cell_type": "code",
   "execution_count": 25,
   "id": "5aeb8a14",
   "metadata": {},
   "outputs": [
    {
     "ename": "IndexError",
     "evalue": "index 0 is out of bounds for axis 0 with size 0",
     "output_type": "error",
     "traceback": [
      "\u001b[1;31m---------------------------------------------------------------------------\u001b[0m",
      "\u001b[1;31mIndexError\u001b[0m                                Traceback (most recent call last)",
      "Cell \u001b[1;32mIn [25], line 13\u001b[0m\n\u001b[0;32m     11\u001b[0m df\u001b[38;5;241m.\u001b[39mloc[mask, \u001b[38;5;124m'\u001b[39m\u001b[38;5;124mAge(years)\u001b[39m\u001b[38;5;124m'\u001b[39m] \u001b[38;5;241m=\u001b[39m parity_age\u001b[38;5;241m.\u001b[39mloc[parity_age[\u001b[38;5;124m'\u001b[39m\u001b[38;5;124mParity\u001b[39m\u001b[38;5;124m'\u001b[39m] \u001b[38;5;241m==\u001b[39m \u001b[38;5;241m4\u001b[39m, \u001b[38;5;124m'\u001b[39m\u001b[38;5;124mAge(years)\u001b[39m\u001b[38;5;124m'\u001b[39m]\u001b[38;5;241m.\u001b[39mvalues[\u001b[38;5;241m0\u001b[39m]\n\u001b[0;32m     12\u001b[0m mask \u001b[38;5;241m=\u001b[39m (df[\u001b[38;5;124m'\u001b[39m\u001b[38;5;124mParity\u001b[39m\u001b[38;5;124m'\u001b[39m] \u001b[38;5;241m==\u001b[39m \u001b[38;5;241m5\u001b[39m) \u001b[38;5;241m&\u001b[39m (df[\u001b[38;5;124m'\u001b[39m\u001b[38;5;124mAge(years)\u001b[39m\u001b[38;5;124m'\u001b[39m]\u001b[38;5;241m.\u001b[39misna())\n\u001b[1;32m---> 13\u001b[0m df\u001b[38;5;241m.\u001b[39mloc[mask, \u001b[38;5;124m'\u001b[39m\u001b[38;5;124mAge(years)\u001b[39m\u001b[38;5;124m'\u001b[39m] \u001b[38;5;241m=\u001b[39m \u001b[43mparity_age\u001b[49m\u001b[38;5;241;43m.\u001b[39;49m\u001b[43mloc\u001b[49m\u001b[43m[\u001b[49m\u001b[43mparity_age\u001b[49m\u001b[43m[\u001b[49m\u001b[38;5;124;43m'\u001b[39;49m\u001b[38;5;124;43mParity\u001b[39;49m\u001b[38;5;124;43m'\u001b[39;49m\u001b[43m]\u001b[49m\u001b[43m \u001b[49m\u001b[38;5;241;43m==\u001b[39;49m\u001b[43m \u001b[49m\u001b[38;5;241;43m5\u001b[39;49m\u001b[43m,\u001b[49m\u001b[43m \u001b[49m\u001b[38;5;124;43m'\u001b[39;49m\u001b[38;5;124;43mAge(years)\u001b[39;49m\u001b[38;5;124;43m'\u001b[39;49m\u001b[43m]\u001b[49m\u001b[38;5;241;43m.\u001b[39;49m\u001b[43mvalues\u001b[49m\u001b[43m[\u001b[49m\u001b[38;5;241;43m0\u001b[39;49m\u001b[43m]\u001b[49m\n\u001b[0;32m     14\u001b[0m mask \u001b[38;5;241m=\u001b[39m (df[\u001b[38;5;124m'\u001b[39m\u001b[38;5;124mParity\u001b[39m\u001b[38;5;124m'\u001b[39m] \u001b[38;5;241m==\u001b[39m \u001b[38;5;241m6\u001b[39m) \u001b[38;5;241m&\u001b[39m (df[\u001b[38;5;124m'\u001b[39m\u001b[38;5;124mAge(years)\u001b[39m\u001b[38;5;124m'\u001b[39m]\u001b[38;5;241m.\u001b[39misna())\n\u001b[0;32m     15\u001b[0m df\u001b[38;5;241m.\u001b[39mloc[mask, \u001b[38;5;124m'\u001b[39m\u001b[38;5;124mAge(years)\u001b[39m\u001b[38;5;124m'\u001b[39m] \u001b[38;5;241m=\u001b[39m parity_age\u001b[38;5;241m.\u001b[39mloc[parity_age[\u001b[38;5;124m'\u001b[39m\u001b[38;5;124mParity\u001b[39m\u001b[38;5;124m'\u001b[39m] \u001b[38;5;241m==\u001b[39m \u001b[38;5;241m6\u001b[39m, \u001b[38;5;124m'\u001b[39m\u001b[38;5;124mAge(years)\u001b[39m\u001b[38;5;124m'\u001b[39m]\u001b[38;5;241m.\u001b[39mvalues[\u001b[38;5;241m0\u001b[39m]\n",
      "\u001b[1;31mIndexError\u001b[0m: index 0 is out of bounds for axis 0 with size 0"
     ]
    }
   ],
   "source": [
    "# popuni nedostajuće vrijednosti stupca Age(years) na temelju vrijednosti stupca Parity\n",
    "mask = (df['Parity'] == 0) & (df['Age(years)'].isna())\n",
    "df.loc[mask, 'Age(years)'] = parity_age.loc[parity_age['Parity'] == 0, 'Age(years)'].values[0]\n",
    "mask = (df['Parity'] == 1) & (df['Age(years)'].isna())\n",
    "df.loc[mask, 'Age(years)'] = parity_age.loc[parity_age['Parity'] == 1, 'Age(years)'].values[0]\n",
    "mask = (df['Parity'] == 2) & (df['Age(years)'].isna())\n",
    "df.loc[mask, 'Age(years)'] = parity_age.loc[parity_age['Parity'] == 2, 'Age(years)'].values[0]\n",
    "mask = (df['Parity'] == 3) & (df['Age(years)'].isna())\n",
    "df.loc[mask, 'Age(years)'] = parity_age.loc[parity_age['Parity'] == 3, 'Age(years)'].values[0]\n",
    "mask = (df['Parity'] == 4) & (df['Age(years)'].isna())\n",
    "df.loc[mask, 'Age(years)'] = parity_age.loc[parity_age['Parity'] == 4, 'Age(years)'].values[0]\n",
    "mask = (df['Parity'] == 5) & (df['Age(years)'].isna())\n",
    "df.loc[mask, 'Age(years)'] = parity_age.loc[parity_age['Parity'] == 5, 'Age(years)'].values[0]\n",
    "mask = (df['Parity'] == 6) & (df['Age(years)'].isna())\n",
    "df.loc[mask, 'Age(years)'] = parity_age.loc[parity_age['Parity'] == 6, 'Age(years)'].values[0]"
   ]
  },
  {
   "cell_type": "code",
   "execution_count": 26,
   "id": "00107ec8",
   "metadata": {},
   "outputs": [
    {
     "data": {
      "text/html": [
       "<div>\n",
       "<style scoped>\n",
       "    .dataframe tbody tr th:only-of-type {\n",
       "        vertical-align: middle;\n",
       "    }\n",
       "\n",
       "    .dataframe tbody tr th {\n",
       "        vertical-align: top;\n",
       "    }\n",
       "\n",
       "    .dataframe thead th {\n",
       "        text-align: right;\n",
       "    }\n",
       "</style>\n",
       "<table border=\"1\" class=\"dataframe\">\n",
       "  <thead>\n",
       "    <tr style=\"text-align: right;\">\n",
       "      <th></th>\n",
       "      <th>Parity</th>\n",
       "      <th>Iwt(kg)</th>\n",
       "    </tr>\n",
       "  </thead>\n",
       "  <tbody>\n",
       "    <tr>\n",
       "      <th>0</th>\n",
       "      <td>0.0</td>\n",
       "      <td>45.422680</td>\n",
       "    </tr>\n",
       "    <tr>\n",
       "      <th>1</th>\n",
       "      <td>1.0</td>\n",
       "      <td>46.912409</td>\n",
       "    </tr>\n",
       "    <tr>\n",
       "      <th>2</th>\n",
       "      <td>2.0</td>\n",
       "      <td>47.805556</td>\n",
       "    </tr>\n",
       "    <tr>\n",
       "      <th>3</th>\n",
       "      <td>3.0</td>\n",
       "      <td>44.205882</td>\n",
       "    </tr>\n",
       "    <tr>\n",
       "      <th>4</th>\n",
       "      <td>4.0</td>\n",
       "      <td>43.285714</td>\n",
       "    </tr>\n",
       "    <tr>\n",
       "      <th>5</th>\n",
       "      <td>6.0</td>\n",
       "      <td>60.000000</td>\n",
       "    </tr>\n",
       "  </tbody>\n",
       "</table>\n",
       "</div>"
      ],
      "text/plain": [
       "   Parity    Iwt(kg)\n",
       "0     0.0  45.422680\n",
       "1     1.0  46.912409\n",
       "2     2.0  47.805556\n",
       "3     3.0  44.205882\n",
       "4     4.0  43.285714\n",
       "5     6.0  60.000000"
      ]
     },
     "execution_count": 26,
     "metadata": {},
     "output_type": "execute_result"
    }
   ],
   "source": [
    "parity_iwt = df[['Parity', 'Iwt(kg)']].groupby(['Parity'], as_index=False).mean()\n",
    "parity_iwt"
   ]
  },
  {
   "cell_type": "code",
   "execution_count": 27,
   "id": "e3eca601",
   "metadata": {},
   "outputs": [
    {
     "ename": "IndexError",
     "evalue": "index 0 is out of bounds for axis 0 with size 0",
     "output_type": "error",
     "traceback": [
      "\u001b[1;31m---------------------------------------------------------------------------\u001b[0m",
      "\u001b[1;31mIndexError\u001b[0m                                Traceback (most recent call last)",
      "Cell \u001b[1;32mIn [27], line 13\u001b[0m\n\u001b[0;32m     11\u001b[0m df\u001b[38;5;241m.\u001b[39mloc[mask, \u001b[38;5;124m'\u001b[39m\u001b[38;5;124mIwt(kg)\u001b[39m\u001b[38;5;124m'\u001b[39m] \u001b[38;5;241m=\u001b[39m parity_iwt\u001b[38;5;241m.\u001b[39mloc[parity_iwt[\u001b[38;5;124m'\u001b[39m\u001b[38;5;124mParity\u001b[39m\u001b[38;5;124m'\u001b[39m] \u001b[38;5;241m==\u001b[39m \u001b[38;5;241m4\u001b[39m, \u001b[38;5;124m'\u001b[39m\u001b[38;5;124mIwt(kg)\u001b[39m\u001b[38;5;124m'\u001b[39m]\u001b[38;5;241m.\u001b[39mvalues[\u001b[38;5;241m0\u001b[39m]\n\u001b[0;32m     12\u001b[0m mask \u001b[38;5;241m=\u001b[39m (df[\u001b[38;5;124m'\u001b[39m\u001b[38;5;124mParity\u001b[39m\u001b[38;5;124m'\u001b[39m] \u001b[38;5;241m==\u001b[39m \u001b[38;5;241m5\u001b[39m) \u001b[38;5;241m&\u001b[39m (df[\u001b[38;5;124m'\u001b[39m\u001b[38;5;124mIwt(kg)\u001b[39m\u001b[38;5;124m'\u001b[39m]\u001b[38;5;241m.\u001b[39misna())\n\u001b[1;32m---> 13\u001b[0m df\u001b[38;5;241m.\u001b[39mloc[mask, \u001b[38;5;124m'\u001b[39m\u001b[38;5;124mIwt(kg)\u001b[39m\u001b[38;5;124m'\u001b[39m] \u001b[38;5;241m=\u001b[39m \u001b[43mparity_iwt\u001b[49m\u001b[38;5;241;43m.\u001b[39;49m\u001b[43mloc\u001b[49m\u001b[43m[\u001b[49m\u001b[43mparity_iwt\u001b[49m\u001b[43m[\u001b[49m\u001b[38;5;124;43m'\u001b[39;49m\u001b[38;5;124;43mParity\u001b[39;49m\u001b[38;5;124;43m'\u001b[39;49m\u001b[43m]\u001b[49m\u001b[43m \u001b[49m\u001b[38;5;241;43m==\u001b[39;49m\u001b[43m \u001b[49m\u001b[38;5;241;43m5\u001b[39;49m\u001b[43m,\u001b[49m\u001b[43m \u001b[49m\u001b[38;5;124;43m'\u001b[39;49m\u001b[38;5;124;43mIwt(kg)\u001b[39;49m\u001b[38;5;124;43m'\u001b[39;49m\u001b[43m]\u001b[49m\u001b[38;5;241;43m.\u001b[39;49m\u001b[43mvalues\u001b[49m\u001b[43m[\u001b[49m\u001b[38;5;241;43m0\u001b[39;49m\u001b[43m]\u001b[49m\n\u001b[0;32m     14\u001b[0m mask \u001b[38;5;241m=\u001b[39m (df[\u001b[38;5;124m'\u001b[39m\u001b[38;5;124mParity\u001b[39m\u001b[38;5;124m'\u001b[39m] \u001b[38;5;241m==\u001b[39m \u001b[38;5;241m6\u001b[39m) \u001b[38;5;241m&\u001b[39m (df[\u001b[38;5;124m'\u001b[39m\u001b[38;5;124mIwt(kg)\u001b[39m\u001b[38;5;124m'\u001b[39m]\u001b[38;5;241m.\u001b[39misna())\n\u001b[0;32m     15\u001b[0m df\u001b[38;5;241m.\u001b[39mloc[mask, \u001b[38;5;124m'\u001b[39m\u001b[38;5;124mIwt(kg)\u001b[39m\u001b[38;5;124m'\u001b[39m] \u001b[38;5;241m=\u001b[39m parity_iwt\u001b[38;5;241m.\u001b[39mloc[parity_iwt[\u001b[38;5;124m'\u001b[39m\u001b[38;5;124mParity\u001b[39m\u001b[38;5;124m'\u001b[39m] \u001b[38;5;241m==\u001b[39m \u001b[38;5;241m6\u001b[39m, \u001b[38;5;124m'\u001b[39m\u001b[38;5;124mIwt(kg)\u001b[39m\u001b[38;5;124m'\u001b[39m]\u001b[38;5;241m.\u001b[39mvalues[\u001b[38;5;241m0\u001b[39m]\n",
      "\u001b[1;31mIndexError\u001b[0m: index 0 is out of bounds for axis 0 with size 0"
     ]
    }
   ],
   "source": [
    "# popuni nedostajuće vrijednosti stupca Iwt(kg) na temelju vrijednosti stupca Parity\n",
    "mask = (df['Parity'] == 0) & (df['Iwt(kg)'].isna())\n",
    "df.loc[mask, 'Iwt(kg)'] = parity_iwt.loc[parity_iwt['Parity'] == 0, 'Iwt(kg)'].values[0]\n",
    "mask = (df['Parity'] == 1) & (df['Iwt(kg)'].isna())\n",
    "df.loc[mask, 'Iwt(kg)'] = parity_iwt.loc[parity_iwt['Parity'] == 1, 'Iwt(kg)'].values[0]\n",
    "mask = (df['Parity'] == 2) & (df['Iwt(kg)'].isna())\n",
    "df.loc[mask, 'Iwt(kg)'] = parity_iwt.loc[parity_iwt['Parity'] == 2, 'Iwt(kg)'].values[0]\n",
    "mask = (df['Parity'] == 3) & (df['Iwt(kg)'].isna())\n",
    "df.loc[mask, 'Iwt(kg)'] = parity_iwt.loc[parity_iwt['Parity'] == 3, 'Iwt(kg)'].values[0]\n",
    "mask = (df['Parity'] == 4) & (df['Iwt(kg)'].isna())\n",
    "df.loc[mask, 'Iwt(kg)'] = parity_iwt.loc[parity_iwt['Parity'] == 4, 'Iwt(kg)'].values[0]\n",
    "mask = (df['Parity'] == 5) & (df['Iwt(kg)'].isna())\n",
    "df.loc[mask, 'Iwt(kg)'] = parity_iwt.loc[parity_iwt['Parity'] == 5, 'Iwt(kg)'].values[0]\n",
    "mask = (df['Parity'] == 6) & (df['Iwt(kg)'].isna())\n",
    "df.loc[mask, 'Iwt(kg)'] = parity_iwt.loc[parity_iwt['Parity'] == 6, 'Iwt(kg)'].values[0]"
   ]
  },
  {
   "cell_type": "code",
   "execution_count": 28,
   "id": "0401e829",
   "metadata": {},
   "outputs": [
    {
     "data": {
      "text/html": [
       "<div>\n",
       "<style scoped>\n",
       "    .dataframe tbody tr th:only-of-type {\n",
       "        vertical-align: middle;\n",
       "    }\n",
       "\n",
       "    .dataframe tbody tr th {\n",
       "        vertical-align: top;\n",
       "    }\n",
       "\n",
       "    .dataframe thead th {\n",
       "        text-align: right;\n",
       "    }\n",
       "</style>\n",
       "<table border=\"1\" class=\"dataframe\">\n",
       "  <thead>\n",
       "    <tr style=\"text-align: right;\">\n",
       "      <th></th>\n",
       "      <th>Parity</th>\n",
       "      <th>FWt(kg)</th>\n",
       "    </tr>\n",
       "  </thead>\n",
       "  <tbody>\n",
       "    <tr>\n",
       "      <th>0</th>\n",
       "      <td>0.0</td>\n",
       "      <td>51.953099</td>\n",
       "    </tr>\n",
       "    <tr>\n",
       "      <th>1</th>\n",
       "      <td>1.0</td>\n",
       "      <td>53.605839</td>\n",
       "    </tr>\n",
       "    <tr>\n",
       "      <th>2</th>\n",
       "      <td>2.0</td>\n",
       "      <td>53.416667</td>\n",
       "    </tr>\n",
       "    <tr>\n",
       "      <th>3</th>\n",
       "      <td>3.0</td>\n",
       "      <td>51.705882</td>\n",
       "    </tr>\n",
       "    <tr>\n",
       "      <th>4</th>\n",
       "      <td>4.0</td>\n",
       "      <td>51.000000</td>\n",
       "    </tr>\n",
       "    <tr>\n",
       "      <th>5</th>\n",
       "      <td>6.0</td>\n",
       "      <td>66.000000</td>\n",
       "    </tr>\n",
       "  </tbody>\n",
       "</table>\n",
       "</div>"
      ],
      "text/plain": [
       "   Parity    FWt(kg)\n",
       "0     0.0  51.953099\n",
       "1     1.0  53.605839\n",
       "2     2.0  53.416667\n",
       "3     3.0  51.705882\n",
       "4     4.0  51.000000\n",
       "5     6.0  66.000000"
      ]
     },
     "execution_count": 28,
     "metadata": {},
     "output_type": "execute_result"
    }
   ],
   "source": [
    "parity_fwt = df[['Parity', 'FWt(kg)']].groupby(['Parity'], as_index=False).mean()\n",
    "parity_fwt"
   ]
  },
  {
   "cell_type": "code",
   "execution_count": 29,
   "id": "0d69c0e2",
   "metadata": {},
   "outputs": [
    {
     "ename": "IndexError",
     "evalue": "index 0 is out of bounds for axis 0 with size 0",
     "output_type": "error",
     "traceback": [
      "\u001b[1;31m---------------------------------------------------------------------------\u001b[0m",
      "\u001b[1;31mIndexError\u001b[0m                                Traceback (most recent call last)",
      "Cell \u001b[1;32mIn [29], line 13\u001b[0m\n\u001b[0;32m     11\u001b[0m df\u001b[38;5;241m.\u001b[39mloc[mask, \u001b[38;5;124m'\u001b[39m\u001b[38;5;124mFWt(kg)\u001b[39m\u001b[38;5;124m'\u001b[39m] \u001b[38;5;241m=\u001b[39m parity_fwt\u001b[38;5;241m.\u001b[39mloc[parity_fwt[\u001b[38;5;124m'\u001b[39m\u001b[38;5;124mParity\u001b[39m\u001b[38;5;124m'\u001b[39m] \u001b[38;5;241m==\u001b[39m \u001b[38;5;241m4\u001b[39m, \u001b[38;5;124m'\u001b[39m\u001b[38;5;124mFWt(kg)\u001b[39m\u001b[38;5;124m'\u001b[39m]\u001b[38;5;241m.\u001b[39mvalues[\u001b[38;5;241m0\u001b[39m]\n\u001b[0;32m     12\u001b[0m mask \u001b[38;5;241m=\u001b[39m (df[\u001b[38;5;124m'\u001b[39m\u001b[38;5;124mParity\u001b[39m\u001b[38;5;124m'\u001b[39m] \u001b[38;5;241m==\u001b[39m \u001b[38;5;241m5\u001b[39m) \u001b[38;5;241m&\u001b[39m (df[\u001b[38;5;124m'\u001b[39m\u001b[38;5;124mFWt(kg)\u001b[39m\u001b[38;5;124m'\u001b[39m]\u001b[38;5;241m.\u001b[39misna())\n\u001b[1;32m---> 13\u001b[0m df\u001b[38;5;241m.\u001b[39mloc[mask, \u001b[38;5;124m'\u001b[39m\u001b[38;5;124mFWt(kg)\u001b[39m\u001b[38;5;124m'\u001b[39m] \u001b[38;5;241m=\u001b[39m \u001b[43mparity_fwt\u001b[49m\u001b[38;5;241;43m.\u001b[39;49m\u001b[43mloc\u001b[49m\u001b[43m[\u001b[49m\u001b[43mparity_fwt\u001b[49m\u001b[43m[\u001b[49m\u001b[38;5;124;43m'\u001b[39;49m\u001b[38;5;124;43mParity\u001b[39;49m\u001b[38;5;124;43m'\u001b[39;49m\u001b[43m]\u001b[49m\u001b[43m \u001b[49m\u001b[38;5;241;43m==\u001b[39;49m\u001b[43m \u001b[49m\u001b[38;5;241;43m5\u001b[39;49m\u001b[43m,\u001b[49m\u001b[43m \u001b[49m\u001b[38;5;124;43m'\u001b[39;49m\u001b[38;5;124;43mFWt(kg)\u001b[39;49m\u001b[38;5;124;43m'\u001b[39;49m\u001b[43m]\u001b[49m\u001b[38;5;241;43m.\u001b[39;49m\u001b[43mvalues\u001b[49m\u001b[43m[\u001b[49m\u001b[38;5;241;43m0\u001b[39;49m\u001b[43m]\u001b[49m\n\u001b[0;32m     14\u001b[0m mask \u001b[38;5;241m=\u001b[39m (df[\u001b[38;5;124m'\u001b[39m\u001b[38;5;124mParity\u001b[39m\u001b[38;5;124m'\u001b[39m] \u001b[38;5;241m==\u001b[39m \u001b[38;5;241m6\u001b[39m) \u001b[38;5;241m&\u001b[39m (df[\u001b[38;5;124m'\u001b[39m\u001b[38;5;124mFWt(kg)\u001b[39m\u001b[38;5;124m'\u001b[39m]\u001b[38;5;241m.\u001b[39misna())\n\u001b[0;32m     15\u001b[0m df\u001b[38;5;241m.\u001b[39mloc[mask, \u001b[38;5;124m'\u001b[39m\u001b[38;5;124mFWt(kg)\u001b[39m\u001b[38;5;124m'\u001b[39m] \u001b[38;5;241m=\u001b[39m parity_fwt\u001b[38;5;241m.\u001b[39mloc[parity_fwt[\u001b[38;5;124m'\u001b[39m\u001b[38;5;124mParity\u001b[39m\u001b[38;5;124m'\u001b[39m] \u001b[38;5;241m==\u001b[39m \u001b[38;5;241m6\u001b[39m, \u001b[38;5;124m'\u001b[39m\u001b[38;5;124mFWt(kg)\u001b[39m\u001b[38;5;124m'\u001b[39m]\u001b[38;5;241m.\u001b[39mvalues[\u001b[38;5;241m0\u001b[39m]\n",
      "\u001b[1;31mIndexError\u001b[0m: index 0 is out of bounds for axis 0 with size 0"
     ]
    }
   ],
   "source": [
    "# popuni nedostajuće vrijednosti stupca 'FWt(kg)' na temelju prosječne vrijednosti stupca Parity\n",
    "mask = (df['Parity'] == 0) & (df['FWt(kg)'].isna())\n",
    "df.loc[mask, 'FWt(kg)'] = parity_fwt.loc[parity_fwt['Parity'] == 0, 'FWt(kg)'].values[0]\n",
    "mask = (df['Parity'] == 1) & (df['FWt(kg)'].isna())\n",
    "df.loc[mask, 'FWt(kg)'] = parity_fwt.loc[parity_fwt['Parity'] == 1, 'FWt(kg)'].values[0]\n",
    "mask = (df['Parity'] == 2) & (df['FWt(kg)'].isna())\n",
    "df.loc[mask, 'FWt(kg)'] = parity_fwt.loc[parity_fwt['Parity'] == 2, 'FWt(kg)'].values[0]\n",
    "mask = (df['Parity'] == 3) & (df['FWt(kg)'].isna())\n",
    "df.loc[mask, 'FWt(kg)'] = parity_fwt.loc[parity_fwt['Parity'] == 3, 'FWt(kg)'].values[0]\n",
    "mask = (df['Parity'] == 4) & (df['FWt(kg)'].isna())\n",
    "df.loc[mask, 'FWt(kg)'] = parity_fwt.loc[parity_fwt['Parity'] == 4, 'FWt(kg)'].values[0]\n",
    "mask = (df['Parity'] == 5) & (df['FWt(kg)'].isna())\n",
    "df.loc[mask, 'FWt(kg)'] = parity_fwt.loc[parity_fwt['Parity'] == 5, 'FWt(kg)'].values[0]\n",
    "mask = (df['Parity'] == 6) & (df['FWt(kg)'].isna())\n",
    "df.loc[mask, 'FWt(kg)'] = parity_fwt.loc[parity_fwt['Parity'] == 6, 'FWt(kg)'].values[0]"
   ]
  },
  {
   "cell_type": "code",
   "execution_count": 30,
   "id": "5d67d57d",
   "metadata": {},
   "outputs": [
    {
     "data": {
      "text/html": [
       "<div>\n",
       "<style scoped>\n",
       "    .dataframe tbody tr th:only-of-type {\n",
       "        vertical-align: middle;\n",
       "    }\n",
       "\n",
       "    .dataframe tbody tr th {\n",
       "        vertical-align: top;\n",
       "    }\n",
       "\n",
       "    .dataframe thead th {\n",
       "        text-align: right;\n",
       "    }\n",
       "</style>\n",
       "<table border=\"1\" class=\"dataframe\">\n",
       "  <thead>\n",
       "    <tr style=\"text-align: right;\">\n",
       "      <th></th>\n",
       "      <th>LNH</th>\n",
       "      <th>Height(cm)</th>\n",
       "    </tr>\n",
       "  </thead>\n",
       "  <tbody>\n",
       "    <tr>\n",
       "      <th>0</th>\n",
       "      <td>1.0</td>\n",
       "      <td>151.647541</td>\n",
       "    </tr>\n",
       "    <tr>\n",
       "      <th>1</th>\n",
       "      <td>2.0</td>\n",
       "      <td>149.152597</td>\n",
       "    </tr>\n",
       "  </tbody>\n",
       "</table>\n",
       "</div>"
      ],
      "text/plain": [
       "   LNH  Height(cm)\n",
       "0  1.0  151.647541\n",
       "1  2.0  149.152597"
      ]
     },
     "execution_count": 30,
     "metadata": {},
     "output_type": "execute_result"
    }
   ],
   "source": [
    "height_lnh = df[['Height(cm)', 'LNH']].groupby(['LNH'], as_index=False).mean()\n",
    "height_lnh"
   ]
  },
  {
   "cell_type": "code",
   "execution_count": 31,
   "id": "0149b27f",
   "metadata": {},
   "outputs": [],
   "source": [
    "# popuni nedostajuće vrijednosti stupca Height(cm) temeljem prosječne vrijednosti za klase LNH\n",
    "mask = (df['LNH'] == 1) & (df['Height(cm)'].isna())\n",
    "df.loc[mask, 'Height(cm)'] = height_lnh.loc[height_lnh['LNH'] == 1, 'Height(cm)'].values[0]\n",
    "mask = (df['LNH'] == 2) & (df['Height(cm)'].isna())\n",
    "df.loc[mask, 'Height(cm)'] = height_lnh.loc[height_lnh['LNH'] == 2, 'Height(cm)'].values[0]"
   ]
  },
  {
   "cell_type": "code",
   "execution_count": 32,
   "id": "5ce966cc",
   "metadata": {},
   "outputs": [
    {
     "data": {
      "text/html": [
       "<div>\n",
       "<style scoped>\n",
       "    .dataframe tbody tr th:only-of-type {\n",
       "        vertical-align: middle;\n",
       "    }\n",
       "\n",
       "    .dataframe tbody tr th {\n",
       "        vertical-align: top;\n",
       "    }\n",
       "\n",
       "    .dataframe thead th {\n",
       "        text-align: right;\n",
       "    }\n",
       "</style>\n",
       "<table border=\"1\" class=\"dataframe\">\n",
       "  <thead>\n",
       "    <tr style=\"text-align: right;\">\n",
       "      <th></th>\n",
       "      <th>LNH</th>\n",
       "      <th>Age(years)</th>\n",
       "    </tr>\n",
       "  </thead>\n",
       "  <tbody>\n",
       "    <tr>\n",
       "      <th>0</th>\n",
       "      <td>1.0</td>\n",
       "      <td>22.409836</td>\n",
       "    </tr>\n",
       "    <tr>\n",
       "      <th>1</th>\n",
       "      <td>2.0</td>\n",
       "      <td>22.922078</td>\n",
       "    </tr>\n",
       "  </tbody>\n",
       "</table>\n",
       "</div>"
      ],
      "text/plain": [
       "   LNH  Age(years)\n",
       "0  1.0   22.409836\n",
       "1  2.0   22.922078"
      ]
     },
     "execution_count": 32,
     "metadata": {},
     "output_type": "execute_result"
    }
   ],
   "source": [
    "age_lnh = df[['Age(years)', 'LNH']].groupby(['LNH'], as_index=False).mean()\n",
    "age_lnh"
   ]
  },
  {
   "cell_type": "markdown",
   "id": "23a371ad",
   "metadata": {},
   "source": [
    "Nedostajuće vrijednosti za krvne tlakove, udio hemoglobina u krvi te krvnog tlaka bit će imputane prosječnim vrijednostima tih značajki."
   ]
  },
  {
   "cell_type": "code",
   "execution_count": 33,
   "id": "3d94929b",
   "metadata": {},
   "outputs": [],
   "source": [
    "df.loc[df['IBP_sys'].isna(),'IBP_sys'] = df.loc[:,'IBP_sys'].mean()\n",
    "df.loc[df['IBP_dias'].isna(),'IBP_dias'] = df.loc[:,'IBP_dias'].mean()\n",
    "df.loc[df['FBP_sys'].isna(),'FBP_sys'] = df.loc[:,'FBP_sys'].mean()\n",
    "df.loc[df['FBP_dias'].isna(),'FBP_dias'] = df.loc[:,'FBP_dias'].mean()\n",
    "df.loc[df['IHb(gm%)'].isna(),'IHb(gm%)'] = df.loc[:,'IHb(gm%)'].mean()\n",
    "df.loc[df['FHb(gm%)'].isna(),'FHb(gm%)'] = df.loc[:,'FHb(gm%)'].mean()\n",
    "df.loc[df['FBP_sys'].isna(),'FBP_sys'] = df.loc[:,'FBP_sys'].mean()\n",
    "df.loc[df['BS(RBS)'].isna(),'BS(RBS)'] = df.loc[:,'BS(RBS)'].mean()"
   ]
  },
  {
   "cell_type": "code",
   "execution_count": 34,
   "id": "5b56d63d",
   "metadata": {},
   "outputs": [],
   "source": [
    "df = df.reset_index(drop=True)"
   ]
  },
  {
   "cell_type": "markdown",
   "id": "1807048a",
   "metadata": {},
   "source": [
    "Nedostajuće vrijednosti značajke Term/Preterm će biti izbačene iz skupa podataka."
   ]
  },
  {
   "cell_type": "code",
   "execution_count": 35,
   "id": "a1f42480",
   "metadata": {},
   "outputs": [],
   "source": [
    "df = df[df['Term/Preterm'].notna()]"
   ]
  },
  {
   "cell_type": "code",
   "execution_count": 36,
   "id": "546e678e",
   "metadata": {},
   "outputs": [],
   "source": [
    "df = df.reset_index(drop=True)"
   ]
  },
  {
   "cell_type": "markdown",
   "id": "e43274ba",
   "metadata": {},
   "source": [
    "Provjera nedostajućih vrijednosti."
   ]
  },
  {
   "cell_type": "code",
   "execution_count": 37,
   "id": "7145f51b",
   "metadata": {},
   "outputs": [
    {
     "data": {
      "text/plain": [
       "SEC             43\n",
       "Age(years)       0\n",
       "Height(cm)       0\n",
       "Bgroup          88\n",
       "Parity           0\n",
       "ANC              0\n",
       "Iwt(kg)          0\n",
       "FWt(kg)          0\n",
       "IBP_sys          0\n",
       "IBP_dias         0\n",
       "FBP_sys          0\n",
       "FBP_dias         0\n",
       "IHb(gm%)         0\n",
       "FHb(gm%)         0\n",
       "BS(RBS)          0\n",
       "Term/Preterm     0\n",
       "Sex              3\n",
       "BWt(kg)          0\n",
       "LNH              0\n",
       "dtype: int64"
      ]
     },
     "execution_count": 37,
     "metadata": {},
     "output_type": "execute_result"
    }
   ],
   "source": [
    "df.isna().sum()"
   ]
  },
  {
   "cell_type": "code",
   "execution_count": 38,
   "id": "1229d52e",
   "metadata": {},
   "outputs": [
    {
     "name": "stdout",
     "output_type": "stream",
     "text": [
      "<class 'pandas.core.frame.DataFrame'>\n",
      "RangeIndex: 649 entries, 0 to 648\n",
      "Data columns (total 19 columns):\n",
      " #   Column        Non-Null Count  Dtype  \n",
      "---  ------        --------------  -----  \n",
      " 0   SEC           606 non-null    object \n",
      " 1   Age(years)    649 non-null    float64\n",
      " 2   Height(cm)    649 non-null    float64\n",
      " 3   Bgroup        561 non-null    object \n",
      " 4   Parity        649 non-null    float64\n",
      " 5   ANC           649 non-null    float64\n",
      " 6   Iwt(kg)       649 non-null    float64\n",
      " 7   FWt(kg)       649 non-null    float64\n",
      " 8   IBP_sys       649 non-null    float64\n",
      " 9   IBP_dias      649 non-null    float64\n",
      " 10  FBP_sys       649 non-null    float64\n",
      " 11  FBP_dias      649 non-null    float64\n",
      " 12  IHb(gm%)      649 non-null    float64\n",
      " 13  FHb(gm%)      649 non-null    float64\n",
      " 14  BS(RBS)       649 non-null    float64\n",
      " 15  Term/Preterm  649 non-null    object \n",
      " 16  Sex           646 non-null    object \n",
      " 17  BWt(kg)       649 non-null    float64\n",
      " 18  LNH           649 non-null    float64\n",
      "dtypes: float64(15), object(4)\n",
      "memory usage: 96.5+ KB\n"
     ]
    }
   ],
   "source": [
    "df.info()"
   ]
  },
  {
   "cell_type": "markdown",
   "id": "69be04c2",
   "metadata": {},
   "source": [
    "Ostaju još značajke SEC i Krvna grupa sa čime ćemo se pozabaviti nešto kasnije."
   ]
  },
  {
   "cell_type": "markdown",
   "id": "f5482d40",
   "metadata": {},
   "source": [
    "Nadalje, inicijaliziramo enkoder za kodiranje podataka tipa string u integer s Label Encoderom. Prvo, za značajku Term/Preterm."
   ]
  },
  {
   "cell_type": "code",
   "execution_count": 39,
   "id": "04ba623c",
   "metadata": {},
   "outputs": [
    {
     "name": "stderr",
     "output_type": "stream",
     "text": [
      "C:\\Users\\AntonioB25\\AppData\\Local\\Temp\\ipykernel_8508\\1458233906.py:6: FutureWarning: In a future version, `df.iloc[:, i] = newvals` will attempt to set the values inplace instead of always setting a new array. To retain the old behavior, use either `df[df.columns[i]] = newvals` or, if columns are non-unique, `df.isetitem(i, newvals)`\n",
      "  df.loc[:, 'Term/Preterm'] = le.transform(df.loc[:, 'Term/Preterm'])\n"
     ]
    }
   ],
   "source": [
    "# inicijalizacija enkodera\n",
    "le = LabelEncoder()\n",
    "\n",
    "# Term/Preterm\n",
    "le.fit(df.loc[:, 'Term/Preterm'])\n",
    "df.loc[:, 'Term/Preterm'] = le.transform(df.loc[:, 'Term/Preterm'])"
   ]
  },
  {
   "cell_type": "code",
   "execution_count": 40,
   "id": "daafe7cc",
   "metadata": {},
   "outputs": [
    {
     "data": {
      "text/html": [
       "<div>\n",
       "<style scoped>\n",
       "    .dataframe tbody tr th:only-of-type {\n",
       "        vertical-align: middle;\n",
       "    }\n",
       "\n",
       "    .dataframe tbody tr th {\n",
       "        vertical-align: top;\n",
       "    }\n",
       "\n",
       "    .dataframe thead th {\n",
       "        text-align: right;\n",
       "    }\n",
       "</style>\n",
       "<table border=\"1\" class=\"dataframe\">\n",
       "  <thead>\n",
       "    <tr style=\"text-align: right;\">\n",
       "      <th></th>\n",
       "      <th>SEC</th>\n",
       "      <th>Age(years)</th>\n",
       "      <th>Height(cm)</th>\n",
       "      <th>Bgroup</th>\n",
       "      <th>Parity</th>\n",
       "      <th>ANC</th>\n",
       "      <th>Iwt(kg)</th>\n",
       "      <th>FWt(kg)</th>\n",
       "      <th>IBP_sys</th>\n",
       "      <th>IBP_dias</th>\n",
       "      <th>FBP_sys</th>\n",
       "      <th>FBP_dias</th>\n",
       "      <th>IHb(gm%)</th>\n",
       "      <th>FHb(gm%)</th>\n",
       "      <th>BS(RBS)</th>\n",
       "      <th>Term/Preterm</th>\n",
       "      <th>Sex</th>\n",
       "      <th>BWt(kg)</th>\n",
       "      <th>LNH</th>\n",
       "    </tr>\n",
       "  </thead>\n",
       "  <tbody>\n",
       "    <tr>\n",
       "      <th>0</th>\n",
       "      <td>BPL</td>\n",
       "      <td>23.0</td>\n",
       "      <td>146.0</td>\n",
       "      <td>A(+ve)</td>\n",
       "      <td>1.0</td>\n",
       "      <td>4.0</td>\n",
       "      <td>34.0</td>\n",
       "      <td>42.0</td>\n",
       "      <td>116.0</td>\n",
       "      <td>78.0</td>\n",
       "      <td>120.0</td>\n",
       "      <td>70.0</td>\n",
       "      <td>10.0</td>\n",
       "      <td>13.2</td>\n",
       "      <td>90.0</td>\n",
       "      <td>1</td>\n",
       "      <td>F</td>\n",
       "      <td>2.7</td>\n",
       "      <td>2.0</td>\n",
       "    </tr>\n",
       "    <tr>\n",
       "      <th>1</th>\n",
       "      <td>BPL</td>\n",
       "      <td>25.0</td>\n",
       "      <td>165.0</td>\n",
       "      <td>NIL</td>\n",
       "      <td>1.0</td>\n",
       "      <td>3.0</td>\n",
       "      <td>68.0</td>\n",
       "      <td>71.0</td>\n",
       "      <td>96.0</td>\n",
       "      <td>70.0</td>\n",
       "      <td>110.0</td>\n",
       "      <td>72.0</td>\n",
       "      <td>10.4</td>\n",
       "      <td>11.0</td>\n",
       "      <td>96.0</td>\n",
       "      <td>1</td>\n",
       "      <td>M</td>\n",
       "      <td>2.9</td>\n",
       "      <td>2.0</td>\n",
       "    </tr>\n",
       "    <tr>\n",
       "      <th>2</th>\n",
       "      <td>BPL</td>\n",
       "      <td>24.0</td>\n",
       "      <td>155.0</td>\n",
       "      <td>B(+ve)</td>\n",
       "      <td>1.0</td>\n",
       "      <td>3.0</td>\n",
       "      <td>49.0</td>\n",
       "      <td>55.0</td>\n",
       "      <td>91.0</td>\n",
       "      <td>52.0</td>\n",
       "      <td>110.0</td>\n",
       "      <td>70.0</td>\n",
       "      <td>11.0</td>\n",
       "      <td>11.6</td>\n",
       "      <td>102.0</td>\n",
       "      <td>1</td>\n",
       "      <td>M</td>\n",
       "      <td>2.4</td>\n",
       "      <td>1.0</td>\n",
       "    </tr>\n",
       "    <tr>\n",
       "      <th>3</th>\n",
       "      <td>BPL</td>\n",
       "      <td>19.0</td>\n",
       "      <td>154.0</td>\n",
       "      <td>NIL</td>\n",
       "      <td>1.0</td>\n",
       "      <td>2.0</td>\n",
       "      <td>49.0</td>\n",
       "      <td>50.0</td>\n",
       "      <td>90.0</td>\n",
       "      <td>52.0</td>\n",
       "      <td>100.0</td>\n",
       "      <td>60.0</td>\n",
       "      <td>10.0</td>\n",
       "      <td>10.6</td>\n",
       "      <td>103.0</td>\n",
       "      <td>1</td>\n",
       "      <td>F</td>\n",
       "      <td>2.6</td>\n",
       "      <td>2.0</td>\n",
       "    </tr>\n",
       "    <tr>\n",
       "      <th>4</th>\n",
       "      <td>BPL</td>\n",
       "      <td>21.0</td>\n",
       "      <td>150.0</td>\n",
       "      <td>NIL</td>\n",
       "      <td>1.0</td>\n",
       "      <td>4.0</td>\n",
       "      <td>41.0</td>\n",
       "      <td>48.0</td>\n",
       "      <td>100.0</td>\n",
       "      <td>60.0</td>\n",
       "      <td>110.0</td>\n",
       "      <td>70.0</td>\n",
       "      <td>9.0</td>\n",
       "      <td>10.2</td>\n",
       "      <td>99.0</td>\n",
       "      <td>1</td>\n",
       "      <td>F</td>\n",
       "      <td>2.3</td>\n",
       "      <td>1.0</td>\n",
       "    </tr>\n",
       "  </tbody>\n",
       "</table>\n",
       "</div>"
      ],
      "text/plain": [
       "   SEC  Age(years)  Height(cm)  Bgroup  Parity  ANC  Iwt(kg)  FWt(kg)  \\\n",
       "0  BPL        23.0       146.0  A(+ve)     1.0  4.0     34.0     42.0   \n",
       "1  BPL        25.0       165.0     NIL     1.0  3.0     68.0     71.0   \n",
       "2  BPL        24.0       155.0  B(+ve)     1.0  3.0     49.0     55.0   \n",
       "3  BPL        19.0       154.0     NIL     1.0  2.0     49.0     50.0   \n",
       "4  BPL        21.0       150.0     NIL     1.0  4.0     41.0     48.0   \n",
       "\n",
       "   IBP_sys  IBP_dias  FBP_sys  FBP_dias  IHb(gm%)  FHb(gm%)  BS(RBS)  \\\n",
       "0    116.0      78.0    120.0      70.0      10.0      13.2     90.0   \n",
       "1     96.0      70.0    110.0      72.0      10.4      11.0     96.0   \n",
       "2     91.0      52.0    110.0      70.0      11.0      11.6    102.0   \n",
       "3     90.0      52.0    100.0      60.0      10.0      10.6    103.0   \n",
       "4    100.0      60.0    110.0      70.0       9.0      10.2     99.0   \n",
       "\n",
       "   Term/Preterm Sex  BWt(kg)  LNH  \n",
       "0             1   F      2.7  2.0  \n",
       "1             1   M      2.9  2.0  \n",
       "2             1   M      2.4  1.0  \n",
       "3             1   F      2.6  2.0  \n",
       "4             1   F      2.3  1.0  "
      ]
     },
     "execution_count": 40,
     "metadata": {},
     "output_type": "execute_result"
    }
   ],
   "source": [
    "df.head()"
   ]
  },
  {
   "cell_type": "markdown",
   "id": "587efcfa",
   "metadata": {},
   "source": [
    "Klasifikacija na svim značajka osim spola, socio ekonomskog statusa i krvne grupe. Rezultati su nešto bolji od klasificiranja na samo kontinuiranim podacima."
   ]
  },
  {
   "cell_type": "code",
   "execution_count": 41,
   "id": "2f94114c",
   "metadata": {},
   "outputs": [
    {
     "name": "stdout",
     "output_type": "stream",
     "text": [
      "[[ 11  20]\n",
      " [ 25 139]]\n",
      "              precision    recall  f1-score   support\n",
      "\n",
      "           L       0.31      0.35      0.33        31\n",
      "           N       0.87      0.85      0.86       164\n",
      "\n",
      "    accuracy                           0.77       195\n",
      "   macro avg       0.59      0.60      0.59       195\n",
      "weighted avg       0.78      0.77      0.78       195\n",
      "\n"
     ]
    }
   ],
   "source": [
    "df_tmp = df.loc[:, ~df.columns.isin(['SEC', 'Sex', 'Bgroup'])].copy()\n",
    "classification(df_tmp)"
   ]
  },
  {
   "cell_type": "markdown",
   "id": "c55506fd",
   "metadata": {},
   "source": [
    "Kodiranje i značajke spola; umjesto F i M podataka bit će zamijenjeni 0 i 1."
   ]
  },
  {
   "cell_type": "code",
   "execution_count": 42,
   "id": "f284ccea",
   "metadata": {},
   "outputs": [
    {
     "data": {
      "text/plain": [
       "array(['F', 'M', nan], dtype=object)"
      ]
     },
     "execution_count": 42,
     "metadata": {},
     "output_type": "execute_result"
    }
   ],
   "source": [
    "df['Sex'].unique()"
   ]
  },
  {
   "cell_type": "code",
   "execution_count": 43,
   "id": "c70e0e98",
   "metadata": {},
   "outputs": [
    {
     "data": {
      "text/plain": [
       "array(['F', 'M'], dtype=object)"
      ]
     },
     "execution_count": 43,
     "metadata": {},
     "output_type": "execute_result"
    }
   ],
   "source": [
    "df = df[df['Sex'].notna()]\n",
    "df['Sex'].unique()"
   ]
  },
  {
   "cell_type": "code",
   "execution_count": 44,
   "id": "841dbaad",
   "metadata": {},
   "outputs": [
    {
     "data": {
      "text/plain": [
       "RangeIndex(start=0, stop=646, step=1)"
      ]
     },
     "execution_count": 44,
     "metadata": {},
     "output_type": "execute_result"
    }
   ],
   "source": [
    "df = df.reset_index(drop=True)\n",
    "df.index"
   ]
  },
  {
   "cell_type": "code",
   "execution_count": 45,
   "id": "ce1bbc3c",
   "metadata": {},
   "outputs": [
    {
     "name": "stderr",
     "output_type": "stream",
     "text": [
      "C:\\Users\\AntonioB25\\AppData\\Local\\Temp\\ipykernel_8508\\2634546750.py:2: FutureWarning: In a future version, `df.iloc[:, i] = newvals` will attempt to set the values inplace instead of always setting a new array. To retain the old behavior, use either `df[df.columns[i]] = newvals` or, if columns are non-unique, `df.isetitem(i, newvals)`\n",
      "  df.loc[:, 'Sex'] = le.transform(df.loc[:, 'Sex'])\n"
     ]
    }
   ],
   "source": [
    "le.fit(df.loc[:, 'Sex'])\n",
    "df.loc[:, 'Sex'] = le.transform(df.loc[:, 'Sex'])"
   ]
  },
  {
   "cell_type": "markdown",
   "id": "ad83e63d",
   "metadata": {},
   "source": [
    "Klasifikacija koristeći sve značajke osim SEC i Bgroup. Rezultati nepromijenjeni."
   ]
  },
  {
   "cell_type": "code",
   "execution_count": 46,
   "id": "555fb617",
   "metadata": {},
   "outputs": [
    {
     "name": "stdout",
     "output_type": "stream",
     "text": [
      "[[ 11  20]\n",
      " [ 24 139]]\n",
      "              precision    recall  f1-score   support\n",
      "\n",
      "           L       0.31      0.35      0.33        31\n",
      "           N       0.87      0.85      0.86       163\n",
      "\n",
      "    accuracy                           0.77       194\n",
      "   macro avg       0.59      0.60      0.60       194\n",
      "weighted avg       0.78      0.77      0.78       194\n",
      "\n"
     ]
    }
   ],
   "source": [
    "df_tmp = df.loc[:, ~df.columns.isin(['SEC', 'Bgroup'])].copy()\n",
    "classification(df_tmp)"
   ]
  },
  {
   "cell_type": "markdown",
   "id": "07194d3a",
   "metadata": {},
   "source": [
    "U sljedećem ćemo koraku vidjeti kakvi su rezultati ako u Gaussian Naive Bayes model ubacimo samo kategoričke varijable. "
   ]
  },
  {
   "cell_type": "code",
   "execution_count": 47,
   "id": "0e005ad1",
   "metadata": {},
   "outputs": [
    {
     "name": "stdout",
     "output_type": "stream",
     "text": [
      "[[ 12  19]\n",
      " [ 18 145]]\n",
      "              precision    recall  f1-score   support\n",
      "\n",
      "           L       0.40      0.39      0.39        31\n",
      "           N       0.88      0.89      0.89       163\n",
      "\n",
      "    accuracy                           0.81       194\n",
      "   macro avg       0.64      0.64      0.64       194\n",
      "weighted avg       0.81      0.81      0.81       194\n",
      "\n"
     ]
    }
   ],
   "source": [
    "df_tmp = df.loc[:, df.columns.isin(['Term/Preterm', 'Parity', 'ANC', 'LNH'])].copy()\n",
    "classification(df_tmp)"
   ]
  },
  {
   "cell_type": "markdown",
   "id": "ef06d420",
   "metadata": {},
   "source": [
    "Nešto su bolji, no ajmo isprobati i _Categorical Naive Bayes_ model koji je kreiran samo za kategoričke varijable."
   ]
  },
  {
   "cell_type": "code",
   "execution_count": 48,
   "id": "6ee93cdc",
   "metadata": {},
   "outputs": [
    {
     "name": "stdout",
     "output_type": "stream",
     "text": [
      "[[  9  22]\n",
      " [ 13 150]]\n",
      "              precision    recall  f1-score   support\n",
      "\n",
      "           L       0.41      0.29      0.34        31\n",
      "           N       0.87      0.92      0.90       163\n",
      "\n",
      "    accuracy                           0.82       194\n",
      "   macro avg       0.64      0.61      0.62       194\n",
      "weighted avg       0.80      0.82      0.81       194\n",
      "\n"
     ]
    }
   ],
   "source": [
    "classification_cat_nb(df_tmp)"
   ]
  },
  {
   "cell_type": "markdown",
   "id": "ef0e56fb",
   "metadata": {},
   "source": [
    "Takav model dalje nešto bolje rezultate za točnost i preciznost, no lošije za odziv i f1 score."
   ]
  },
  {
   "cell_type": "markdown",
   "id": "585ba19d",
   "metadata": {},
   "source": [
    "Sljedeći je korak provjera korelirajućih značajki koje bi trebalo izbaciti za modele Naive Bayes."
   ]
  },
  {
   "cell_type": "markdown",
   "id": "e9403d92",
   "metadata": {},
   "source": [
    "#### Provjera korelirajućih značajki\n",
    "\n",
    "Imamo nekoliko parova koji su jako korelirajući <br>\n",
    "Uglavnom su to vrijednosti za parametre na početku i na kraju trudnoće <br> <br>\n",
    "To su stupci: <br>\n",
    "`IHb(gm%)`  i  `FHb(gm%)`  - razina hemoglobina<br>\n",
    "`IWt(kg)`  i  `FWt(kg)`  - težina<br>\n",
    "`IBP_dias`  i  `FBP_dias` - dijastolički tlak<br>\n",
    "`IBP_sys`  i  `IBP_sys` - sistolički tlak<br>\n"
   ]
  },
  {
   "cell_type": "code",
   "execution_count": 49,
   "id": "5dde4ab9",
   "metadata": {},
   "outputs": [
    {
     "name": "stderr",
     "output_type": "stream",
     "text": [
      "C:\\Users\\AntonioB25\\AppData\\Local\\Temp\\ipykernel_8508\\2683113364.py:1: FutureWarning: The default value of numeric_only in DataFrame.corr is deprecated. In a future version, it will default to False. Select only valid columns or specify the value of numeric_only to silence this warning.\n",
      "  correlations = df.corr()\n"
     ]
    },
    {
     "data": {
      "image/png": "[encoded data removed]",
      "text/plain": [
       "<Figure size 2000x2000 with 2 Axes>"
      ]
     },
     "metadata": {},
     "output_type": "display_data"
    }
   ],
   "source": [
    "correlations = df.corr()\n",
    "\n",
    "plt.figure(figsize=(20,20))\n",
    "sns.heatmap(correlations, annot=True, cmap=\"RdYlGn\")\n",
    "plt.show()"
   ]
  },
  {
   "cell_type": "markdown",
   "id": "eb20e150",
   "metadata": {},
   "source": [
    "Sukladno tome, izbacit ćemo značajke Iwt(kg), IBP_sys, IBP_dias, IHb(gm%). Dakle, inicijalne metrike (masa, krvni tlak, udio hemoglobina) za majku."
   ]
  },
  {
   "cell_type": "code",
   "execution_count": 50,
   "id": "45b958f7",
   "metadata": {},
   "outputs": [
    {
     "name": "stdout",
     "output_type": "stream",
     "text": [
      "[[  4  27]\n",
      " [ 13 150]]\n",
      "              precision    recall  f1-score   support\n",
      "\n",
      "           L       0.24      0.13      0.17        31\n",
      "           N       0.85      0.92      0.88       163\n",
      "\n",
      "    accuracy                           0.79       194\n",
      "   macro avg       0.54      0.52      0.52       194\n",
      "weighted avg       0.75      0.79      0.77       194\n",
      "\n"
     ]
    }
   ],
   "source": [
    "df_tmp = df.loc[:, ~df.columns.isin(['SEC', 'Bgroup', 'Term/Preterm', 'Iwt(kg)', 'IBP_sys', 'IBP_dias', 'IHb(gm%)'])].copy()\n",
    "classification(df_tmp)"
   ]
  },
  {
   "cell_type": "markdown",
   "id": "270ae1a0",
   "metadata": {},
   "source": [
    "Rezultati su lošiji. Što ako izbacimo iste metrike , ali mjerene na kraju trudnoće ?"
   ]
  },
  {
   "cell_type": "code",
   "execution_count": 51,
   "id": "f908ccd8",
   "metadata": {},
   "outputs": [
    {
     "name": "stdout",
     "output_type": "stream",
     "text": [
      "[[  0  31]\n",
      " [  1 162]]\n",
      "              precision    recall  f1-score   support\n",
      "\n",
      "           L       0.00      0.00      0.00        31\n",
      "           N       0.84      0.99      0.91       163\n",
      "\n",
      "    accuracy                           0.84       194\n",
      "   macro avg       0.42      0.50      0.46       194\n",
      "weighted avg       0.71      0.84      0.76       194\n",
      "\n"
     ]
    }
   ],
   "source": [
    "df_tmp = df.loc[:, ~df.columns.isin(['SEC', 'Sex', 'Bgroup', 'Parity', 'ANC', 'Term/Preterm', 'FWt(kg)', 'FBP_sys', 'FBP_dias', 'FHb(gm%)'])].copy()\n",
    "classification(df_tmp)"
   ]
  },
  {
   "cell_type": "markdown",
   "id": "c58b5528",
   "metadata": {},
   "source": [
    "Rezultati su ok za klasu N, no želimo uhvatiti i drugu klasu."
   ]
  },
  {
   "cell_type": "markdown",
   "id": "8e8d7ca4",
   "metadata": {},
   "source": [
    "Klasifikacija na istim značajkama, ali bez značajke krvnog tlaka s obzirom da ona nije normalno distribuirana."
   ]
  },
  {
   "cell_type": "code",
   "execution_count": 52,
   "id": "7db741f8",
   "metadata": {},
   "outputs": [
    {
     "name": "stdout",
     "output_type": "stream",
     "text": [
      "[[  0  31]\n",
      " [  1 162]]\n",
      "              precision    recall  f1-score   support\n",
      "\n",
      "           L       0.00      0.00      0.00        31\n",
      "           N       0.84      0.99      0.91       163\n",
      "\n",
      "    accuracy                           0.84       194\n",
      "   macro avg       0.42      0.50      0.46       194\n",
      "weighted avg       0.71      0.84      0.76       194\n",
      "\n"
     ]
    }
   ],
   "source": [
    "df_tmp = df.loc[:, ~df.columns.isin(['SEC', 'Sex', 'Bgroup','Parity', 'ANC', 'Term/Preterm', 'Iwt(kg)', 'IBP_sys', 'IBP_dias', 'IHb(gm%)', 'BS(RBS)'])].copy()\n",
    "classification(df_tmp)"
   ]
  },
  {
   "cell_type": "code",
   "execution_count": 53,
   "id": "e8991c70",
   "metadata": {},
   "outputs": [
    {
     "name": "stdout",
     "output_type": "stream",
     "text": [
      "[[  0  31]\n",
      " [  2 161]]\n",
      "              precision    recall  f1-score   support\n",
      "\n",
      "           L       0.00      0.00      0.00        31\n",
      "           N       0.84      0.99      0.91       163\n",
      "\n",
      "    accuracy                           0.83       194\n",
      "   macro avg       0.42      0.49      0.45       194\n",
      "weighted avg       0.70      0.83      0.76       194\n",
      "\n"
     ]
    }
   ],
   "source": [
    "df_tmp = df.loc[:, ~df.columns.isin(['SEC', 'Sex', 'Bgroup', 'Parity', 'ANC', 'Term/Preterm', 'FWt(kg)', 'FBP_sys', 'FBP_dias', 'FHb(gm%)', 'BS(RBS)'])].copy()\n",
    "classification(df_tmp)"
   ]
  },
  {
   "cell_type": "markdown",
   "id": "b05c32b7",
   "metadata": {},
   "source": [
    "Rezultati se nisu promijenili."
   ]
  },
  {
   "cell_type": "markdown",
   "id": "f884bc52",
   "metadata": {},
   "source": [
    "Nadalje ćemo kreirati nove stupce koji će za korelirane značajke uzimati prosjek metrike na početku i kraju trudnoće. Stoga su kreirane značajke prosječna masa majke, prosječni sistolički i dijastolički tlak, kao i prosjek udjela hemoglobina."
   ]
  },
  {
   "cell_type": "code",
   "execution_count": 54,
   "id": "388fab65",
   "metadata": {},
   "outputs": [],
   "source": [
    "df['Wt(avg)'] = df[['Iwt(kg)', 'FWt(kg)']].mean(axis=1)\n",
    "df['sys(avg)'] = df[['IBP_sys', 'FBP_sys']].mean(axis=1)\n",
    "df['dias(avg)'] = df[['IBP_dias', 'FBP_dias']].mean(axis=1)\n",
    "df['Hb(avg)'] = df[['IHb(gm%)', 'FHb(gm%)']].mean(axis=1)"
   ]
  },
  {
   "cell_type": "markdown",
   "id": "b0cfc728",
   "metadata": {},
   "source": [
    "Klasifikacija na takvim značajkama ne daje bolje rezultate."
   ]
  },
  {
   "cell_type": "code",
   "execution_count": 55,
   "id": "f23ea270",
   "metadata": {},
   "outputs": [
    {
     "name": "stdout",
     "output_type": "stream",
     "text": [
      "[[  0  31]\n",
      " [  2 161]]\n",
      "              precision    recall  f1-score   support\n",
      "\n",
      "           L       0.00      0.00      0.00        31\n",
      "           N       0.84      0.99      0.91       163\n",
      "\n",
      "    accuracy                           0.83       194\n",
      "   macro avg       0.42      0.49      0.45       194\n",
      "weighted avg       0.70      0.83      0.76       194\n",
      "\n"
     ]
    }
   ],
   "source": [
    "features = ['SEC', 'Sex', 'Bgroup','Parity', 'ANC', 'Term/Preterm', 'FWt(kg)', 'FBP_sys', 'FBP_dias', 'FHb(gm%)', 'BS(RBS)', 'Iwt(kg)', 'IBP_sys', 'IBP_dias', 'IHb(gm%)', 'BS(RBS)']\n",
    "df_tmp = df.loc[:, ~df.columns.isin(features)].copy()\n",
    "classification(df_tmp)"
   ]
  },
  {
   "cell_type": "markdown",
   "id": "964937aa",
   "metadata": {},
   "source": [
    "#### Dodavanje stupca BMI"
   ]
  },
  {
   "cell_type": "markdown",
   "id": "da02f1d9",
   "metadata": {},
   "source": [
    "Kao poboljšanje smo odlučili dodati novi stupac koji će predstavljati _Body Mass Index (BMI)_ <br>\n",
    "Računamo ga na sljedeći način: <br>\n",
    "### $$BMI = {{{IWt(kg) + FWt(kg)}\\over {2}}\\over {Height(m)}^2}$$"
   ]
  },
  {
   "cell_type": "code",
   "execution_count": 56,
   "id": "c195bba5",
   "metadata": {},
   "outputs": [
    {
     "data": {
      "text/html": [
       "<div>\n",
       "<style scoped>\n",
       "    .dataframe tbody tr th:only-of-type {\n",
       "        vertical-align: middle;\n",
       "    }\n",
       "\n",
       "    .dataframe tbody tr th {\n",
       "        vertical-align: top;\n",
       "    }\n",
       "\n",
       "    .dataframe thead th {\n",
       "        text-align: right;\n",
       "    }\n",
       "</style>\n",
       "<table border=\"1\" class=\"dataframe\">\n",
       "  <thead>\n",
       "    <tr style=\"text-align: right;\">\n",
       "      <th></th>\n",
       "      <th>SEC</th>\n",
       "      <th>Age(years)</th>\n",
       "      <th>Height(cm)</th>\n",
       "      <th>Bgroup</th>\n",
       "      <th>Parity</th>\n",
       "      <th>ANC</th>\n",
       "      <th>Iwt(kg)</th>\n",
       "      <th>FWt(kg)</th>\n",
       "      <th>IBP_sys</th>\n",
       "      <th>IBP_dias</th>\n",
       "      <th>...</th>\n",
       "      <th>BS(RBS)</th>\n",
       "      <th>Term/Preterm</th>\n",
       "      <th>Sex</th>\n",
       "      <th>BWt(kg)</th>\n",
       "      <th>LNH</th>\n",
       "      <th>Wt(avg)</th>\n",
       "      <th>sys(avg)</th>\n",
       "      <th>dias(avg)</th>\n",
       "      <th>Hb(avg)</th>\n",
       "      <th>BMI</th>\n",
       "    </tr>\n",
       "  </thead>\n",
       "  <tbody>\n",
       "    <tr>\n",
       "      <th>0</th>\n",
       "      <td>BPL</td>\n",
       "      <td>23.0</td>\n",
       "      <td>146.0</td>\n",
       "      <td>A(+ve)</td>\n",
       "      <td>1.0</td>\n",
       "      <td>4.0</td>\n",
       "      <td>34.0</td>\n",
       "      <td>42.0</td>\n",
       "      <td>116.0</td>\n",
       "      <td>78.0</td>\n",
       "      <td>...</td>\n",
       "      <td>90.0</td>\n",
       "      <td>1</td>\n",
       "      <td>0</td>\n",
       "      <td>2.7</td>\n",
       "      <td>2.0</td>\n",
       "      <td>38.0</td>\n",
       "      <td>118.0</td>\n",
       "      <td>74.0</td>\n",
       "      <td>11.6</td>\n",
       "      <td>17.826984</td>\n",
       "    </tr>\n",
       "    <tr>\n",
       "      <th>1</th>\n",
       "      <td>BPL</td>\n",
       "      <td>25.0</td>\n",
       "      <td>165.0</td>\n",
       "      <td>NIL</td>\n",
       "      <td>1.0</td>\n",
       "      <td>3.0</td>\n",
       "      <td>68.0</td>\n",
       "      <td>71.0</td>\n",
       "      <td>96.0</td>\n",
       "      <td>70.0</td>\n",
       "      <td>...</td>\n",
       "      <td>96.0</td>\n",
       "      <td>1</td>\n",
       "      <td>1</td>\n",
       "      <td>2.9</td>\n",
       "      <td>2.0</td>\n",
       "      <td>69.5</td>\n",
       "      <td>103.0</td>\n",
       "      <td>71.0</td>\n",
       "      <td>10.7</td>\n",
       "      <td>25.528007</td>\n",
       "    </tr>\n",
       "    <tr>\n",
       "      <th>2</th>\n",
       "      <td>BPL</td>\n",
       "      <td>24.0</td>\n",
       "      <td>155.0</td>\n",
       "      <td>B(+ve)</td>\n",
       "      <td>1.0</td>\n",
       "      <td>3.0</td>\n",
       "      <td>49.0</td>\n",
       "      <td>55.0</td>\n",
       "      <td>91.0</td>\n",
       "      <td>52.0</td>\n",
       "      <td>...</td>\n",
       "      <td>102.0</td>\n",
       "      <td>1</td>\n",
       "      <td>1</td>\n",
       "      <td>2.4</td>\n",
       "      <td>1.0</td>\n",
       "      <td>52.0</td>\n",
       "      <td>100.5</td>\n",
       "      <td>61.0</td>\n",
       "      <td>11.3</td>\n",
       "      <td>21.644121</td>\n",
       "    </tr>\n",
       "    <tr>\n",
       "      <th>3</th>\n",
       "      <td>BPL</td>\n",
       "      <td>19.0</td>\n",
       "      <td>154.0</td>\n",
       "      <td>NIL</td>\n",
       "      <td>1.0</td>\n",
       "      <td>2.0</td>\n",
       "      <td>49.0</td>\n",
       "      <td>50.0</td>\n",
       "      <td>90.0</td>\n",
       "      <td>52.0</td>\n",
       "      <td>...</td>\n",
       "      <td>103.0</td>\n",
       "      <td>1</td>\n",
       "      <td>0</td>\n",
       "      <td>2.6</td>\n",
       "      <td>2.0</td>\n",
       "      <td>49.5</td>\n",
       "      <td>95.0</td>\n",
       "      <td>56.0</td>\n",
       "      <td>10.3</td>\n",
       "      <td>20.871985</td>\n",
       "    </tr>\n",
       "    <tr>\n",
       "      <th>4</th>\n",
       "      <td>BPL</td>\n",
       "      <td>21.0</td>\n",
       "      <td>150.0</td>\n",
       "      <td>NIL</td>\n",
       "      <td>1.0</td>\n",
       "      <td>4.0</td>\n",
       "      <td>41.0</td>\n",
       "      <td>48.0</td>\n",
       "      <td>100.0</td>\n",
       "      <td>60.0</td>\n",
       "      <td>...</td>\n",
       "      <td>99.0</td>\n",
       "      <td>1</td>\n",
       "      <td>0</td>\n",
       "      <td>2.3</td>\n",
       "      <td>1.0</td>\n",
       "      <td>44.5</td>\n",
       "      <td>105.0</td>\n",
       "      <td>65.0</td>\n",
       "      <td>9.6</td>\n",
       "      <td>19.777778</td>\n",
       "    </tr>\n",
       "  </tbody>\n",
       "</table>\n",
       "<p>5 rows × 24 columns</p>\n",
       "</div>"
      ],
      "text/plain": [
       "   SEC  Age(years)  Height(cm)  Bgroup  Parity  ANC  Iwt(kg)  FWt(kg)  \\\n",
       "0  BPL        23.0       146.0  A(+ve)     1.0  4.0     34.0     42.0   \n",
       "1  BPL        25.0       165.0     NIL     1.0  3.0     68.0     71.0   \n",
       "2  BPL        24.0       155.0  B(+ve)     1.0  3.0     49.0     55.0   \n",
       "3  BPL        19.0       154.0     NIL     1.0  2.0     49.0     50.0   \n",
       "4  BPL        21.0       150.0     NIL     1.0  4.0     41.0     48.0   \n",
       "\n",
       "   IBP_sys  IBP_dias  ...  BS(RBS)  Term/Preterm  Sex  BWt(kg)  LNH  Wt(avg)  \\\n",
       "0    116.0      78.0  ...     90.0             1    0      2.7  2.0     38.0   \n",
       "1     96.0      70.0  ...     96.0             1    1      2.9  2.0     69.5   \n",
       "2     91.0      52.0  ...    102.0             1    1      2.4  1.0     52.0   \n",
       "3     90.0      52.0  ...    103.0             1    0      2.6  2.0     49.5   \n",
       "4    100.0      60.0  ...     99.0             1    0      2.3  1.0     44.5   \n",
       "\n",
       "   sys(avg)  dias(avg)  Hb(avg)        BMI  \n",
       "0     118.0       74.0     11.6  17.826984  \n",
       "1     103.0       71.0     10.7  25.528007  \n",
       "2     100.5       61.0     11.3  21.644121  \n",
       "3      95.0       56.0     10.3  20.871985  \n",
       "4     105.0       65.0      9.6  19.777778  \n",
       "\n",
       "[5 rows x 24 columns]"
      ]
     },
     "execution_count": 56,
     "metadata": {},
     "output_type": "execute_result"
    }
   ],
   "source": [
    "df = df.assign(BMI=lambda x: (x['Iwt(kg)'] + x['FWt(kg)']) / 2 / ((x['Height(cm)'] / 100) ** 2))\n",
    "df.head()"
   ]
  },
  {
   "cell_type": "markdown",
   "id": "3c547730",
   "metadata": {},
   "source": [
    "Ostavljamo samo finalne vrijednosti za: tlak, težinu i hemoglobin<br>\n",
    "Dobivamo malo lošije rezultate"
   ]
  },
  {
   "cell_type": "code",
   "execution_count": 57,
   "id": "57b30d9e",
   "metadata": {},
   "outputs": [
    {
     "name": "stdout",
     "output_type": "stream",
     "text": [
      "[[ 11  20]\n",
      " [ 24 139]]\n",
      "              precision    recall  f1-score   support\n",
      "\n",
      "           L       0.31      0.35      0.33        31\n",
      "           N       0.87      0.85      0.86       163\n",
      "\n",
      "    accuracy                           0.77       194\n",
      "   macro avg       0.59      0.60      0.60       194\n",
      "weighted avg       0.78      0.77      0.78       194\n",
      "\n"
     ]
    }
   ],
   "source": [
    "df_tmp = df.loc[:, ~df.columns.isin([\"IHb(gm%)\", \"Iwt(kg)\", \"IBP_dias\", \"IBP_sys\", 'SEC', 'Wt(avg)',\n",
    "       'sys(avg)', 'dias(avg)', 'Hb(avg)', 'Bgroup'])].copy()\n",
    "classification(df_tmp)"
   ]
  },
  {
   "cell_type": "markdown",
   "id": "b579c241",
   "metadata": {},
   "source": [
    "Potrebno je provjeriti korelacije s obzirom na nove značajke."
   ]
  },
  {
   "cell_type": "code",
   "execution_count": 58,
   "id": "3cdec732",
   "metadata": {},
   "outputs": [
    {
     "data": {
      "image/png": "[encoded data removed]",
      "text/plain": [
       "<Figure size 2000x2000 with 2 Axes>"
      ]
     },
     "metadata": {},
     "output_type": "display_data"
    }
   ],
   "source": [
    "correlations = df_tmp.corr()\n",
    "\n",
    "plt.figure(figsize=(20,20))\n",
    "sns.heatmap(correlations, annot=True, cmap=\"RdYlGn\")\n",
    "plt.show()"
   ]
  },
  {
   "cell_type": "markdown",
   "id": "50d4d6df",
   "metadata": {},
   "source": [
    "Izbacujemo značajke FWt(kg) i Height(cm) te klasificiramo s originalnim podacima kontinuiranih značajki za slučaj matrike majke na kraju trudnoće (dakle, ne uzimamo prosječne vrijednosti).\n",
    "Dobivamo nešto bolje rezultate."
   ]
  },
  {
   "cell_type": "code",
   "execution_count": 59,
   "id": "dd8204fc",
   "metadata": {},
   "outputs": [
    {
     "name": "stdout",
     "output_type": "stream",
     "text": [
      "[[ 12  19]\n",
      " [ 22 141]]\n",
      "              precision    recall  f1-score   support\n",
      "\n",
      "           L       0.35      0.39      0.37        31\n",
      "           N       0.88      0.87      0.87       163\n",
      "\n",
      "    accuracy                           0.79       194\n",
      "   macro avg       0.62      0.63      0.62       194\n",
      "weighted avg       0.80      0.79      0.79       194\n",
      "\n"
     ]
    }
   ],
   "source": [
    "df_tmp = df.loc[:, ~df.columns.isin([\"IHb(gm%)\", \"Iwt(kg)\", \"IBP_dias\", \"IBP_sys\", 'SEC', 'Wt(avg)',\n",
    "       'sys(avg)', 'dias(avg)', 'Hb(avg)', 'Bgroup', 'FWt(kg)', 'Height(cm)'])].copy()\n",
    "classification(df_tmp)"
   ]
  },
  {
   "cell_type": "markdown",
   "id": "fc6018ec",
   "metadata": {},
   "source": [
    "Klasifikacija s prosječnim vrijednostima."
   ]
  },
  {
   "cell_type": "code",
   "execution_count": 60,
   "id": "245226d3",
   "metadata": {},
   "outputs": [
    {
     "name": "stdout",
     "output_type": "stream",
     "text": [
      "[[ 11  20]\n",
      " [ 26 137]]\n",
      "              precision    recall  f1-score   support\n",
      "\n",
      "           L       0.30      0.35      0.32        31\n",
      "           N       0.87      0.84      0.86       163\n",
      "\n",
      "    accuracy                           0.76       194\n",
      "   macro avg       0.58      0.60      0.59       194\n",
      "weighted avg       0.78      0.76      0.77       194\n",
      "\n"
     ]
    }
   ],
   "source": [
    "df_tmp = df.loc[:, df.columns.isin([\"Age(years)\", \"Parity\", \"ANC\", \"Term/Preterm\", 'Sex', 'BWt(kg)', 'LNH', 'Wt(avg)', 'sys(avg)', 'dias(avg)', 'Hb(avg)','BMI'])].copy()\n",
    "classification(df_tmp)"
   ]
  },
  {
   "cell_type": "markdown",
   "id": "30159f21",
   "metadata": {},
   "source": [
    "Nadalje, s obzirom da literatura predlaže diskretizaciju i kodiranje kontinuiranih varijabli, u sljedećim koracima ćemo upravo to i napraviti. Svaka kontinuirana varijabla će biti podijeljena u 5 intervala kojima će biti dodijeljeni kodovi (integeri od 1 do 5), u dataframe-u će biti kreirana nova značajka koju ćemo dodavati u klasifikacijske modele."
   ]
  },
  {
   "cell_type": "markdown",
   "id": "b0bf5c72",
   "metadata": {},
   "source": [
    "Značajka Age(years) podijeljena je u 5 intervala te je u odnosu na te intervale prikazan prosjek mase bebe."
   ]
  },
  {
   "cell_type": "code",
   "execution_count": 61,
   "id": "d7133ae1",
   "metadata": {},
   "outputs": [
    {
     "data": {
      "text/html": [
       "<div>\n",
       "<style scoped>\n",
       "    .dataframe tbody tr th:only-of-type {\n",
       "        vertical-align: middle;\n",
       "    }\n",
       "\n",
       "    .dataframe tbody tr th {\n",
       "        vertical-align: top;\n",
       "    }\n",
       "\n",
       "    .dataframe thead th {\n",
       "        text-align: right;\n",
       "    }\n",
       "</style>\n",
       "<table border=\"1\" class=\"dataframe\">\n",
       "  <thead>\n",
       "    <tr style=\"text-align: right;\">\n",
       "      <th></th>\n",
       "      <th>AgeBand</th>\n",
       "      <th>BWt(kg)</th>\n",
       "    </tr>\n",
       "  </thead>\n",
       "  <tbody>\n",
       "    <tr>\n",
       "      <th>0</th>\n",
       "      <td>(12.975, 18.0]</td>\n",
       "      <td>2.664286</td>\n",
       "    </tr>\n",
       "    <tr>\n",
       "      <th>1</th>\n",
       "      <td>(18.0, 23.0]</td>\n",
       "      <td>2.708940</td>\n",
       "    </tr>\n",
       "    <tr>\n",
       "      <th>2</th>\n",
       "      <td>(23.0, 28.0]</td>\n",
       "      <td>2.757303</td>\n",
       "    </tr>\n",
       "    <tr>\n",
       "      <th>3</th>\n",
       "      <td>(28.0, 33.0]</td>\n",
       "      <td>2.797778</td>\n",
       "    </tr>\n",
       "    <tr>\n",
       "      <th>4</th>\n",
       "      <td>(33.0, 38.0]</td>\n",
       "      <td>2.791304</td>\n",
       "    </tr>\n",
       "  </tbody>\n",
       "</table>\n",
       "</div>"
      ],
      "text/plain": [
       "          AgeBand   BWt(kg)\n",
       "0  (12.975, 18.0]  2.664286\n",
       "1    (18.0, 23.0]  2.708940\n",
       "2    (23.0, 28.0]  2.757303\n",
       "3    (28.0, 33.0]  2.797778\n",
       "4    (33.0, 38.0]  2.791304"
      ]
     },
     "execution_count": 61,
     "metadata": {},
     "output_type": "execute_result"
    }
   ],
   "source": [
    "df_tmp = df.loc[:, ~df.columns.isin(['SEC', 'Iwt(kg)', 'IBP_sys', 'IBP_dias', 'IHb(gm%)', 'BS(RBS)', 'Wt(avg)',\n",
    "       'sys(avg)', 'dias(avg)', 'Hb(avg)'])].copy()\n",
    "\n",
    "df_tmp['AgeBand'] = pd.cut(df['Age(years)'], 5)\n",
    "df_tmp[['AgeBand', 'BWt(kg)']].groupby(['AgeBand'], as_index=False).mean().sort_values(by='AgeBand', ascending=True)"
   ]
  },
  {
   "cell_type": "markdown",
   "id": "de280815",
   "metadata": {},
   "source": [
    "Kodiranje."
   ]
  },
  {
   "cell_type": "code",
   "execution_count": 62,
   "id": "90244250",
   "metadata": {},
   "outputs": [
    {
     "name": "stderr",
     "output_type": "stream",
     "text": [
      "C:\\Users\\AntonioB25\\AppData\\Local\\Temp\\ipykernel_8508\\3967872405.py:4: FutureWarning: In a future version, `df.iloc[:, i] = newvals` will attempt to set the values inplace instead of always setting a new array. To retain the old behavior, use either `df[df.columns[i]] = newvals` or, if columns are non-unique, `df.isetitem(i, newvals)`\n",
      "  df_tmp.loc[:,'AgeBand'] = le.transform(df_tmp.loc[:,'AgeBand'])\n"
     ]
    }
   ],
   "source": [
    "le.fit(df_tmp.loc[:,'AgeBand'])\n",
    "\n",
    "# transformiraj \n",
    "df_tmp.loc[:,'AgeBand'] = le.transform(df_tmp.loc[:,'AgeBand'])"
   ]
  },
  {
   "cell_type": "markdown",
   "id": "80e1d7e3",
   "metadata": {},
   "source": [
    "Pogledajmo kako to izgleda u dataframe-u. Dakle, kreirana je nova značajka/stupac AgeBand."
   ]
  },
  {
   "cell_type": "code",
   "execution_count": 63,
   "id": "e3c19ec5",
   "metadata": {},
   "outputs": [
    {
     "data": {
      "text/html": [
       "<div>\n",
       "<style scoped>\n",
       "    .dataframe tbody tr th:only-of-type {\n",
       "        vertical-align: middle;\n",
       "    }\n",
       "\n",
       "    .dataframe tbody tr th {\n",
       "        vertical-align: top;\n",
       "    }\n",
       "\n",
       "    .dataframe thead th {\n",
       "        text-align: right;\n",
       "    }\n",
       "</style>\n",
       "<table border=\"1\" class=\"dataframe\">\n",
       "  <thead>\n",
       "    <tr style=\"text-align: right;\">\n",
       "      <th></th>\n",
       "      <th>Age(years)</th>\n",
       "      <th>Height(cm)</th>\n",
       "      <th>Bgroup</th>\n",
       "      <th>Parity</th>\n",
       "      <th>ANC</th>\n",
       "      <th>FWt(kg)</th>\n",
       "      <th>FBP_sys</th>\n",
       "      <th>FBP_dias</th>\n",
       "      <th>FHb(gm%)</th>\n",
       "      <th>Term/Preterm</th>\n",
       "      <th>Sex</th>\n",
       "      <th>BWt(kg)</th>\n",
       "      <th>LNH</th>\n",
       "      <th>BMI</th>\n",
       "      <th>AgeBand</th>\n",
       "    </tr>\n",
       "  </thead>\n",
       "  <tbody>\n",
       "    <tr>\n",
       "      <th>0</th>\n",
       "      <td>23.0</td>\n",
       "      <td>146.0</td>\n",
       "      <td>A(+ve)</td>\n",
       "      <td>1.0</td>\n",
       "      <td>4.0</td>\n",
       "      <td>42.0</td>\n",
       "      <td>120.0</td>\n",
       "      <td>70.0</td>\n",
       "      <td>13.200000</td>\n",
       "      <td>1</td>\n",
       "      <td>0</td>\n",
       "      <td>2.7</td>\n",
       "      <td>2.0</td>\n",
       "      <td>17.826984</td>\n",
       "      <td>1</td>\n",
       "    </tr>\n",
       "    <tr>\n",
       "      <th>1</th>\n",
       "      <td>25.0</td>\n",
       "      <td>165.0</td>\n",
       "      <td>NIL</td>\n",
       "      <td>1.0</td>\n",
       "      <td>3.0</td>\n",
       "      <td>71.0</td>\n",
       "      <td>110.0</td>\n",
       "      <td>72.0</td>\n",
       "      <td>11.000000</td>\n",
       "      <td>1</td>\n",
       "      <td>1</td>\n",
       "      <td>2.9</td>\n",
       "      <td>2.0</td>\n",
       "      <td>25.528007</td>\n",
       "      <td>2</td>\n",
       "    </tr>\n",
       "    <tr>\n",
       "      <th>2</th>\n",
       "      <td>24.0</td>\n",
       "      <td>155.0</td>\n",
       "      <td>B(+ve)</td>\n",
       "      <td>1.0</td>\n",
       "      <td>3.0</td>\n",
       "      <td>55.0</td>\n",
       "      <td>110.0</td>\n",
       "      <td>70.0</td>\n",
       "      <td>11.600000</td>\n",
       "      <td>1</td>\n",
       "      <td>1</td>\n",
       "      <td>2.4</td>\n",
       "      <td>1.0</td>\n",
       "      <td>21.644121</td>\n",
       "      <td>2</td>\n",
       "    </tr>\n",
       "    <tr>\n",
       "      <th>3</th>\n",
       "      <td>19.0</td>\n",
       "      <td>154.0</td>\n",
       "      <td>NIL</td>\n",
       "      <td>1.0</td>\n",
       "      <td>2.0</td>\n",
       "      <td>50.0</td>\n",
       "      <td>100.0</td>\n",
       "      <td>60.0</td>\n",
       "      <td>10.600000</td>\n",
       "      <td>1</td>\n",
       "      <td>0</td>\n",
       "      <td>2.6</td>\n",
       "      <td>2.0</td>\n",
       "      <td>20.871985</td>\n",
       "      <td>1</td>\n",
       "    </tr>\n",
       "    <tr>\n",
       "      <th>4</th>\n",
       "      <td>21.0</td>\n",
       "      <td>150.0</td>\n",
       "      <td>NIL</td>\n",
       "      <td>1.0</td>\n",
       "      <td>4.0</td>\n",
       "      <td>48.0</td>\n",
       "      <td>110.0</td>\n",
       "      <td>70.0</td>\n",
       "      <td>10.200000</td>\n",
       "      <td>1</td>\n",
       "      <td>0</td>\n",
       "      <td>2.3</td>\n",
       "      <td>1.0</td>\n",
       "      <td>19.777778</td>\n",
       "      <td>1</td>\n",
       "    </tr>\n",
       "    <tr>\n",
       "      <th>...</th>\n",
       "      <td>...</td>\n",
       "      <td>...</td>\n",
       "      <td>...</td>\n",
       "      <td>...</td>\n",
       "      <td>...</td>\n",
       "      <td>...</td>\n",
       "      <td>...</td>\n",
       "      <td>...</td>\n",
       "      <td>...</td>\n",
       "      <td>...</td>\n",
       "      <td>...</td>\n",
       "      <td>...</td>\n",
       "      <td>...</td>\n",
       "      <td>...</td>\n",
       "      <td>...</td>\n",
       "    </tr>\n",
       "    <tr>\n",
       "      <th>641</th>\n",
       "      <td>28.0</td>\n",
       "      <td>130.0</td>\n",
       "      <td>AB(+ve)</td>\n",
       "      <td>3.0</td>\n",
       "      <td>4.0</td>\n",
       "      <td>51.0</td>\n",
       "      <td>110.0</td>\n",
       "      <td>76.0</td>\n",
       "      <td>10.000000</td>\n",
       "      <td>1</td>\n",
       "      <td>0</td>\n",
       "      <td>2.7</td>\n",
       "      <td>2.0</td>\n",
       "      <td>28.402367</td>\n",
       "      <td>2</td>\n",
       "    </tr>\n",
       "    <tr>\n",
       "      <th>642</th>\n",
       "      <td>23.0</td>\n",
       "      <td>130.0</td>\n",
       "      <td>A(+ve)</td>\n",
       "      <td>1.0</td>\n",
       "      <td>4.0</td>\n",
       "      <td>49.0</td>\n",
       "      <td>120.0</td>\n",
       "      <td>80.0</td>\n",
       "      <td>10.731061</td>\n",
       "      <td>1</td>\n",
       "      <td>1</td>\n",
       "      <td>3.0</td>\n",
       "      <td>2.0</td>\n",
       "      <td>26.627219</td>\n",
       "      <td>1</td>\n",
       "    </tr>\n",
       "    <tr>\n",
       "      <th>643</th>\n",
       "      <td>28.0</td>\n",
       "      <td>135.0</td>\n",
       "      <td>B(+ve)</td>\n",
       "      <td>1.0</td>\n",
       "      <td>4.0</td>\n",
       "      <td>49.0</td>\n",
       "      <td>120.0</td>\n",
       "      <td>80.0</td>\n",
       "      <td>11.500000</td>\n",
       "      <td>1</td>\n",
       "      <td>1</td>\n",
       "      <td>3.0</td>\n",
       "      <td>2.0</td>\n",
       "      <td>23.319616</td>\n",
       "      <td>2</td>\n",
       "    </tr>\n",
       "    <tr>\n",
       "      <th>644</th>\n",
       "      <td>18.0</td>\n",
       "      <td>150.0</td>\n",
       "      <td>B(+ve)</td>\n",
       "      <td>0.0</td>\n",
       "      <td>4.0</td>\n",
       "      <td>48.0</td>\n",
       "      <td>110.0</td>\n",
       "      <td>80.0</td>\n",
       "      <td>10.731061</td>\n",
       "      <td>1</td>\n",
       "      <td>1</td>\n",
       "      <td>3.0</td>\n",
       "      <td>2.0</td>\n",
       "      <td>19.555556</td>\n",
       "      <td>0</td>\n",
       "    </tr>\n",
       "    <tr>\n",
       "      <th>645</th>\n",
       "      <td>28.0</td>\n",
       "      <td>132.0</td>\n",
       "      <td>AB(+ve)</td>\n",
       "      <td>3.0</td>\n",
       "      <td>2.0</td>\n",
       "      <td>52.0</td>\n",
       "      <td>110.0</td>\n",
       "      <td>80.0</td>\n",
       "      <td>10.731061</td>\n",
       "      <td>1</td>\n",
       "      <td>0</td>\n",
       "      <td>2.8</td>\n",
       "      <td>2.0</td>\n",
       "      <td>29.269972</td>\n",
       "      <td>2</td>\n",
       "    </tr>\n",
       "  </tbody>\n",
       "</table>\n",
       "<p>646 rows × 15 columns</p>\n",
       "</div>"
      ],
      "text/plain": [
       "     Age(years)  Height(cm)   Bgroup  Parity  ANC  FWt(kg)  FBP_sys  FBP_dias  \\\n",
       "0          23.0       146.0   A(+ve)     1.0  4.0     42.0    120.0      70.0   \n",
       "1          25.0       165.0      NIL     1.0  3.0     71.0    110.0      72.0   \n",
       "2          24.0       155.0   B(+ve)     1.0  3.0     55.0    110.0      70.0   \n",
       "3          19.0       154.0      NIL     1.0  2.0     50.0    100.0      60.0   \n",
       "4          21.0       150.0      NIL     1.0  4.0     48.0    110.0      70.0   \n",
       "..          ...         ...      ...     ...  ...      ...      ...       ...   \n",
       "641        28.0       130.0  AB(+ve)     3.0  4.0     51.0    110.0      76.0   \n",
       "642        23.0       130.0   A(+ve)     1.0  4.0     49.0    120.0      80.0   \n",
       "643        28.0       135.0   B(+ve)     1.0  4.0     49.0    120.0      80.0   \n",
       "644        18.0       150.0   B(+ve)     0.0  4.0     48.0    110.0      80.0   \n",
       "645        28.0       132.0  AB(+ve)     3.0  2.0     52.0    110.0      80.0   \n",
       "\n",
       "      FHb(gm%)  Term/Preterm  Sex  BWt(kg)  LNH        BMI  AgeBand  \n",
       "0    13.200000             1    0      2.7  2.0  17.826984        1  \n",
       "1    11.000000             1    1      2.9  2.0  25.528007        2  \n",
       "2    11.600000             1    1      2.4  1.0  21.644121        2  \n",
       "3    10.600000             1    0      2.6  2.0  20.871985        1  \n",
       "4    10.200000             1    0      2.3  1.0  19.777778        1  \n",
       "..         ...           ...  ...      ...  ...        ...      ...  \n",
       "641  10.000000             1    0      2.7  2.0  28.402367        2  \n",
       "642  10.731061             1    1      3.0  2.0  26.627219        1  \n",
       "643  11.500000             1    1      3.0  2.0  23.319616        2  \n",
       "644  10.731061             1    1      3.0  2.0  19.555556        0  \n",
       "645  10.731061             1    0      2.8  2.0  29.269972        2  \n",
       "\n",
       "[646 rows x 15 columns]"
      ]
     },
     "execution_count": 63,
     "metadata": {},
     "output_type": "execute_result"
    }
   ],
   "source": [
    "df_tmp"
   ]
  },
  {
   "cell_type": "markdown",
   "id": "720129ea",
   "metadata": {},
   "source": [
    "Značajka Age postala je kategorička, te je zajedno s ostalim kategorijskim značajkama izvršena klasifikacija (trening i test)."
   ]
  },
  {
   "cell_type": "markdown",
   "id": "90e9f12a",
   "metadata": {},
   "source": [
    "Gaussian Naive Bayes:"
   ]
  },
  {
   "cell_type": "code",
   "execution_count": 64,
   "id": "8e3ddb1f",
   "metadata": {},
   "outputs": [
    {
     "name": "stdout",
     "output_type": "stream",
     "text": [
      "[[ 11  20]\n",
      " [ 20 143]]\n",
      "              precision    recall  f1-score   support\n",
      "\n",
      "           L       0.35      0.35      0.35        31\n",
      "           N       0.88      0.88      0.88       163\n",
      "\n",
      "    accuracy                           0.79       194\n",
      "   macro avg       0.62      0.62      0.62       194\n",
      "weighted avg       0.79      0.79      0.79       194\n",
      "\n"
     ]
    }
   ],
   "source": [
    "features = ['Parity', 'ANC', 'Term/Preterm', 'Sex', 'LNH', 'AgeBand']\n",
    "df_tmp_1 = df_tmp.loc[:, df_tmp.columns.isin(features)]\n",
    "classification(df_tmp_1)"
   ]
  },
  {
   "cell_type": "markdown",
   "id": "e8c74056",
   "metadata": {},
   "source": [
    "Categorical Naive Bayes:"
   ]
  },
  {
   "cell_type": "code",
   "execution_count": 65,
   "id": "85e4f97c",
   "metadata": {},
   "outputs": [
    {
     "name": "stdout",
     "output_type": "stream",
     "text": [
      "[[  9  22]\n",
      " [ 10 153]]\n",
      "              precision    recall  f1-score   support\n",
      "\n",
      "           L       0.47      0.29      0.36        31\n",
      "           N       0.87      0.94      0.91       163\n",
      "\n",
      "    accuracy                           0.84       194\n",
      "   macro avg       0.67      0.61      0.63       194\n",
      "weighted avg       0.81      0.84      0.82       194\n",
      "\n"
     ]
    }
   ],
   "source": [
    "classification_cat_nb(df_tmp_1)"
   ]
  },
  {
   "cell_type": "markdown",
   "id": "18711a69",
   "metadata": {},
   "source": [
    "Multinomial Naive Bayes:"
   ]
  },
  {
   "cell_type": "code",
   "execution_count": 66,
   "id": "b6cc080c",
   "metadata": {},
   "outputs": [
    {
     "name": "stdout",
     "output_type": "stream",
     "text": [
      "[[  0  31]\n",
      " [  0 163]]\n",
      "              precision    recall  f1-score   support\n",
      "\n",
      "           L       0.00      0.00      0.00        31\n",
      "           N       0.84      1.00      0.91       163\n",
      "\n",
      "    accuracy                           0.84       194\n",
      "   macro avg       0.42      0.50      0.46       194\n",
      "weighted avg       0.71      0.84      0.77       194\n",
      "\n"
     ]
    },
    {
     "name": "stderr",
     "output_type": "stream",
     "text": [
      "C:\\Python311\\Lib\\site-packages\\sklearn\\metrics\\_classification.py:1334: UndefinedMetricWarning: Precision and F-score are ill-defined and being set to 0.0 in labels with no predicted samples. Use `zero_division` parameter to control this behavior.\n",
      "  _warn_prf(average, modifier, msg_start, len(result))\n",
      "C:\\Python311\\Lib\\site-packages\\sklearn\\metrics\\_classification.py:1334: UndefinedMetricWarning: Precision and F-score are ill-defined and being set to 0.0 in labels with no predicted samples. Use `zero_division` parameter to control this behavior.\n",
      "  _warn_prf(average, modifier, msg_start, len(result))\n",
      "C:\\Python311\\Lib\\site-packages\\sklearn\\metrics\\_classification.py:1334: UndefinedMetricWarning: Precision and F-score are ill-defined and being set to 0.0 in labels with no predicted samples. Use `zero_division` parameter to control this behavior.\n",
      "  _warn_prf(average, modifier, msg_start, len(result))\n"
     ]
    }
   ],
   "source": [
    "multinomial_nb(df_tmp_1)"
   ]
  },
  {
   "cell_type": "markdown",
   "id": "815b2f91",
   "metadata": {},
   "source": [
    "Nadalje je diskretizirana novokreirana značajka BMI:"
   ]
  },
  {
   "cell_type": "code",
   "execution_count": 67,
   "id": "28858aae",
   "metadata": {},
   "outputs": [
    {
     "data": {
      "text/html": [
       "<div>\n",
       "<style scoped>\n",
       "    .dataframe tbody tr th:only-of-type {\n",
       "        vertical-align: middle;\n",
       "    }\n",
       "\n",
       "    .dataframe tbody tr th {\n",
       "        vertical-align: top;\n",
       "    }\n",
       "\n",
       "    .dataframe thead th {\n",
       "        text-align: right;\n",
       "    }\n",
       "</style>\n",
       "<table border=\"1\" class=\"dataframe\">\n",
       "  <thead>\n",
       "    <tr style=\"text-align: right;\">\n",
       "      <th></th>\n",
       "      <th>BMIBand</th>\n",
       "      <th>BMI</th>\n",
       "    </tr>\n",
       "  </thead>\n",
       "  <tbody>\n",
       "    <tr>\n",
       "      <th>0</th>\n",
       "      <td>(13.096, 17.455]</td>\n",
       "      <td>16.155218</td>\n",
       "    </tr>\n",
       "    <tr>\n",
       "      <th>1</th>\n",
       "      <td>(17.455, 21.793]</td>\n",
       "      <td>20.181060</td>\n",
       "    </tr>\n",
       "    <tr>\n",
       "      <th>2</th>\n",
       "      <td>(21.793, 26.131]</td>\n",
       "      <td>23.528906</td>\n",
       "    </tr>\n",
       "    <tr>\n",
       "      <th>3</th>\n",
       "      <td>(26.131, 30.469]</td>\n",
       "      <td>27.918365</td>\n",
       "    </tr>\n",
       "    <tr>\n",
       "      <th>4</th>\n",
       "      <td>(30.469, 34.807]</td>\n",
       "      <td>32.477021</td>\n",
       "    </tr>\n",
       "  </tbody>\n",
       "</table>\n",
       "</div>"
      ],
      "text/plain": [
       "            BMIBand        BMI\n",
       "0  (13.096, 17.455]  16.155218\n",
       "1  (17.455, 21.793]  20.181060\n",
       "2  (21.793, 26.131]  23.528906\n",
       "3  (26.131, 30.469]  27.918365\n",
       "4  (30.469, 34.807]  32.477021"
      ]
     },
     "execution_count": 67,
     "metadata": {},
     "output_type": "execute_result"
    }
   ],
   "source": [
    "df_tmp['BMIBand'] = pd.cut(df['BMI'], 5)\n",
    "df_tmp[['BMIBand', 'BMI']].groupby(['BMIBand'], as_index=False).mean().sort_values(by='BMIBand', ascending=True)"
   ]
  },
  {
   "cell_type": "code",
   "execution_count": 68,
   "id": "a89b1864",
   "metadata": {},
   "outputs": [
    {
     "name": "stderr",
     "output_type": "stream",
     "text": [
      "C:\\Users\\AntonioB25\\AppData\\Local\\Temp\\ipykernel_8508\\3536689546.py:4: FutureWarning: In a future version, `df.iloc[:, i] = newvals` will attempt to set the values inplace instead of always setting a new array. To retain the old behavior, use either `df[df.columns[i]] = newvals` or, if columns are non-unique, `df.isetitem(i, newvals)`\n",
      "  df_tmp.loc[:,'BMIBand'] = le.transform(df_tmp.loc[:,'BMIBand'])\n"
     ]
    }
   ],
   "source": [
    "le.fit(df_tmp.loc[:,'BMIBand'])\n",
    "\n",
    "# transformiraj \n",
    "df_tmp.loc[:,'BMIBand'] = le.transform(df_tmp.loc[:,'BMIBand'])"
   ]
  },
  {
   "cell_type": "markdown",
   "id": "6e3e8d88",
   "metadata": {},
   "source": [
    "Klasifikacija (trening i test) s obzirom na novu kategorijsku značajku BMIBand. Zna gaussov model dobiveni su nešto bolji rezultati."
   ]
  },
  {
   "cell_type": "code",
   "execution_count": 69,
   "id": "b79574a0",
   "metadata": {},
   "outputs": [
    {
     "name": "stdout",
     "output_type": "stream",
     "text": [
      "[[ 12  19]\n",
      " [ 23 140]]\n",
      "              precision    recall  f1-score   support\n",
      "\n",
      "           L       0.34      0.39      0.36        31\n",
      "           N       0.88      0.86      0.87       163\n",
      "\n",
      "    accuracy                           0.78       194\n",
      "   macro avg       0.61      0.62      0.62       194\n",
      "weighted avg       0.79      0.78      0.79       194\n",
      "\n"
     ]
    }
   ],
   "source": [
    "features = ['Parity', 'ANC', 'Term/Preterm', 'Sex', 'LNH', 'AgeBand', 'BMIBand']\n",
    "df_tmp_1 = df_tmp.loc[:, df_tmp.columns.isin(features)]\n",
    "classification(df_tmp_1)"
   ]
  },
  {
   "cell_type": "code",
   "execution_count": 70,
   "id": "06e4fc52",
   "metadata": {},
   "outputs": [
    {
     "name": "stdout",
     "output_type": "stream",
     "text": [
      "[[  7  24]\n",
      " [  8 155]]\n",
      "              precision    recall  f1-score   support\n",
      "\n",
      "           L       0.47      0.23      0.30        31\n",
      "           N       0.87      0.95      0.91       163\n",
      "\n",
      "    accuracy                           0.84       194\n",
      "   macro avg       0.67      0.59      0.61       194\n",
      "weighted avg       0.80      0.84      0.81       194\n",
      "\n"
     ]
    }
   ],
   "source": [
    "classification_cat_nb(df_tmp_1)"
   ]
  },
  {
   "cell_type": "code",
   "execution_count": 71,
   "id": "586a5f7a",
   "metadata": {},
   "outputs": [
    {
     "name": "stdout",
     "output_type": "stream",
     "text": [
      "[[  0  31]\n",
      " [  0 163]]\n",
      "              precision    recall  f1-score   support\n",
      "\n",
      "           L       0.00      0.00      0.00        31\n",
      "           N       0.84      1.00      0.91       163\n",
      "\n",
      "    accuracy                           0.84       194\n",
      "   macro avg       0.42      0.50      0.46       194\n",
      "weighted avg       0.71      0.84      0.77       194\n",
      "\n"
     ]
    },
    {
     "name": "stderr",
     "output_type": "stream",
     "text": [
      "C:\\Python311\\Lib\\site-packages\\sklearn\\metrics\\_classification.py:1334: UndefinedMetricWarning: Precision and F-score are ill-defined and being set to 0.0 in labels with no predicted samples. Use `zero_division` parameter to control this behavior.\n",
      "  _warn_prf(average, modifier, msg_start, len(result))\n",
      "C:\\Python311\\Lib\\site-packages\\sklearn\\metrics\\_classification.py:1334: UndefinedMetricWarning: Precision and F-score are ill-defined and being set to 0.0 in labels with no predicted samples. Use `zero_division` parameter to control this behavior.\n",
      "  _warn_prf(average, modifier, msg_start, len(result))\n",
      "C:\\Python311\\Lib\\site-packages\\sklearn\\metrics\\_classification.py:1334: UndefinedMetricWarning: Precision and F-score are ill-defined and being set to 0.0 in labels with no predicted samples. Use `zero_division` parameter to control this behavior.\n",
      "  _warn_prf(average, modifier, msg_start, len(result))\n"
     ]
    }
   ],
   "source": [
    "multinomial_nb(df_tmp_1)"
   ]
  },
  {
   "cell_type": "markdown",
   "id": "70247507",
   "metadata": {},
   "source": [
    "Nadalje diskretiziramo značajku Height."
   ]
  },
  {
   "cell_type": "code",
   "execution_count": 72,
   "id": "d8fea059",
   "metadata": {},
   "outputs": [
    {
     "data": {
      "text/html": [
       "<div>\n",
       "<style scoped>\n",
       "    .dataframe tbody tr th:only-of-type {\n",
       "        vertical-align: middle;\n",
       "    }\n",
       "\n",
       "    .dataframe tbody tr th {\n",
       "        vertical-align: top;\n",
       "    }\n",
       "\n",
       "    .dataframe thead th {\n",
       "        text-align: right;\n",
       "    }\n",
       "</style>\n",
       "<table border=\"1\" class=\"dataframe\">\n",
       "  <thead>\n",
       "    <tr style=\"text-align: right;\">\n",
       "      <th></th>\n",
       "      <th>HeightBand</th>\n",
       "      <th>BWt(kg)</th>\n",
       "    </tr>\n",
       "  </thead>\n",
       "  <tbody>\n",
       "    <tr>\n",
       "      <th>0</th>\n",
       "      <td>(124.945, 136.0]</td>\n",
       "      <td>2.845652</td>\n",
       "    </tr>\n",
       "    <tr>\n",
       "      <th>1</th>\n",
       "      <td>(136.0, 147.0]</td>\n",
       "      <td>2.679741</td>\n",
       "    </tr>\n",
       "    <tr>\n",
       "      <th>2</th>\n",
       "      <td>(147.0, 158.0]</td>\n",
       "      <td>2.743792</td>\n",
       "    </tr>\n",
       "    <tr>\n",
       "      <th>3</th>\n",
       "      <td>(158.0, 169.0]</td>\n",
       "      <td>2.651163</td>\n",
       "    </tr>\n",
       "    <tr>\n",
       "      <th>4</th>\n",
       "      <td>(169.0, 180.0]</td>\n",
       "      <td>2.600000</td>\n",
       "    </tr>\n",
       "  </tbody>\n",
       "</table>\n",
       "</div>"
      ],
      "text/plain": [
       "         HeightBand   BWt(kg)\n",
       "0  (124.945, 136.0]  2.845652\n",
       "1    (136.0, 147.0]  2.679741\n",
       "2    (147.0, 158.0]  2.743792\n",
       "3    (158.0, 169.0]  2.651163\n",
       "4    (169.0, 180.0]  2.600000"
      ]
     },
     "execution_count": 72,
     "metadata": {},
     "output_type": "execute_result"
    }
   ],
   "source": [
    "df_tmp['HeightBand'] = pd.cut(df_tmp['Height(cm)'], 5)\n",
    "df_tmp[['HeightBand', 'BWt(kg)']].groupby(['HeightBand'], as_index=False).mean().sort_values(by='HeightBand', ascending=True)\n"
   ]
  },
  {
   "cell_type": "code",
   "execution_count": 73,
   "id": "65fa36b2",
   "metadata": {},
   "outputs": [
    {
     "name": "stderr",
     "output_type": "stream",
     "text": [
      "C:\\Users\\AntonioB25\\AppData\\Local\\Temp\\ipykernel_8508\\569933544.py:4: FutureWarning: In a future version, `df.iloc[:, i] = newvals` will attempt to set the values inplace instead of always setting a new array. To retain the old behavior, use either `df[df.columns[i]] = newvals` or, if columns are non-unique, `df.isetitem(i, newvals)`\n",
      "  df_tmp.loc[:,'HeightBand'] = le.transform(df_tmp.loc[:,'HeightBand'])\n"
     ]
    }
   ],
   "source": [
    "le.fit(df_tmp.loc[:,'HeightBand'])\n",
    "\n",
    "# transformiraj \n",
    "df_tmp.loc[:,'HeightBand'] = le.transform(df_tmp.loc[:,'HeightBand'])"
   ]
  },
  {
   "cell_type": "markdown",
   "id": "eb099056",
   "metadata": {},
   "source": [
    "Klasifikcija s novom značajkom."
   ]
  },
  {
   "cell_type": "code",
   "execution_count": 74,
   "id": "17db8518",
   "metadata": {},
   "outputs": [
    {
     "name": "stdout",
     "output_type": "stream",
     "text": [
      "[[ 12  19]\n",
      " [ 25 138]]\n",
      "              precision    recall  f1-score   support\n",
      "\n",
      "           L       0.32      0.39      0.35        31\n",
      "           N       0.88      0.85      0.86       163\n",
      "\n",
      "    accuracy                           0.77       194\n",
      "   macro avg       0.60      0.62      0.61       194\n",
      "weighted avg       0.79      0.77      0.78       194\n",
      "\n"
     ]
    }
   ],
   "source": [
    "features = ['Parity', 'ANC', 'Term/Preterm', 'Sex', 'LNH', 'AgeBand', 'HeightBand', 'BMIBand']\n",
    "df_tmp_1 = df_tmp.loc[:, df_tmp.columns.isin(features)]\n",
    "classification(df_tmp_1)"
   ]
  },
  {
   "cell_type": "code",
   "execution_count": 75,
   "id": "1fdaae11",
   "metadata": {},
   "outputs": [
    {
     "name": "stdout",
     "output_type": "stream",
     "text": [
      "[[  7  24]\n",
      " [ 10 153]]\n",
      "              precision    recall  f1-score   support\n",
      "\n",
      "           L       0.41      0.23      0.29        31\n",
      "           N       0.86      0.94      0.90       163\n",
      "\n",
      "    accuracy                           0.82       194\n",
      "   macro avg       0.64      0.58      0.60       194\n",
      "weighted avg       0.79      0.82      0.80       194\n",
      "\n"
     ]
    }
   ],
   "source": [
    "classification_cat_nb(df_tmp_1)"
   ]
  },
  {
   "cell_type": "code",
   "execution_count": 76,
   "id": "b9334a82",
   "metadata": {},
   "outputs": [
    {
     "name": "stdout",
     "output_type": "stream",
     "text": [
      "[[  0  31]\n",
      " [  0 163]]\n",
      "              precision    recall  f1-score   support\n",
      "\n",
      "           L       0.00      0.00      0.00        31\n",
      "           N       0.84      1.00      0.91       163\n",
      "\n",
      "    accuracy                           0.84       194\n",
      "   macro avg       0.42      0.50      0.46       194\n",
      "weighted avg       0.71      0.84      0.77       194\n",
      "\n"
     ]
    },
    {
     "name": "stderr",
     "output_type": "stream",
     "text": [
      "C:\\Python311\\Lib\\site-packages\\sklearn\\metrics\\_classification.py:1334: UndefinedMetricWarning: Precision and F-score are ill-defined and being set to 0.0 in labels with no predicted samples. Use `zero_division` parameter to control this behavior.\n",
      "  _warn_prf(average, modifier, msg_start, len(result))\n",
      "C:\\Python311\\Lib\\site-packages\\sklearn\\metrics\\_classification.py:1334: UndefinedMetricWarning: Precision and F-score are ill-defined and being set to 0.0 in labels with no predicted samples. Use `zero_division` parameter to control this behavior.\n",
      "  _warn_prf(average, modifier, msg_start, len(result))\n",
      "C:\\Python311\\Lib\\site-packages\\sklearn\\metrics\\_classification.py:1334: UndefinedMetricWarning: Precision and F-score are ill-defined and being set to 0.0 in labels with no predicted samples. Use `zero_division` parameter to control this behavior.\n",
      "  _warn_prf(average, modifier, msg_start, len(result))\n"
     ]
    }
   ],
   "source": [
    "multinomial_nb(df_tmp_1)"
   ]
  },
  {
   "cell_type": "markdown",
   "id": "bcccd5cf",
   "metadata": {},
   "source": [
    "Diskretizacija nove kontinuirane varijable FWt(kg)."
   ]
  },
  {
   "cell_type": "code",
   "execution_count": 77,
   "id": "40221225",
   "metadata": {},
   "outputs": [
    {
     "name": "stderr",
     "output_type": "stream",
     "text": [
      "C:\\Users\\AntonioB25\\AppData\\Local\\Temp\\ipykernel_8508\\3028797726.py:7: FutureWarning: In a future version, `df.iloc[:, i] = newvals` will attempt to set the values inplace instead of always setting a new array. To retain the old behavior, use either `df[df.columns[i]] = newvals` or, if columns are non-unique, `df.isetitem(i, newvals)`\n",
      "  df_tmp.loc[:,'FWTBand'] = le.transform(df_tmp.loc[:,'FWTBand'])\n"
     ]
    }
   ],
   "source": [
    "df_tmp['FWTBand'] = pd.cut(df['FWt(kg)'], 5)\n",
    "df_tmp = df_tmp.drop(['FWt(kg)'], axis=1)\n",
    "\n",
    "le.fit(df_tmp.loc[:,'FWTBand'])\n",
    "\n",
    "# transformiraj \n",
    "df_tmp.loc[:,'FWTBand'] = le.transform(df_tmp.loc[:,'FWTBand'])"
   ]
  },
  {
   "cell_type": "markdown",
   "id": "e4e01e41",
   "metadata": {},
   "source": [
    "Klasifikacija, ali ovaj put bez značajke BMIBand jer je korelirana sa značajkama visine i mase majke."
   ]
  },
  {
   "cell_type": "code",
   "execution_count": 78,
   "id": "8f9e8f4a",
   "metadata": {},
   "outputs": [
    {
     "name": "stdout",
     "output_type": "stream",
     "text": [
      "[[ 11  20]\n",
      " [ 22 141]]\n",
      "              precision    recall  f1-score   support\n",
      "\n",
      "           L       0.33      0.35      0.34        31\n",
      "           N       0.88      0.87      0.87       163\n",
      "\n",
      "    accuracy                           0.78       194\n",
      "   macro avg       0.60      0.61      0.61       194\n",
      "weighted avg       0.79      0.78      0.79       194\n",
      "\n"
     ]
    }
   ],
   "source": [
    "features = ['Parity', 'ANC', 'Term/Preterm', 'Sex', 'LNH', 'AgeBand', 'HeightBand', 'FWTBand']\n",
    "df_tmp_1 = df_tmp.loc[:, df_tmp.columns.isin(features)]\n",
    "classification(df_tmp_1)"
   ]
  },
  {
   "cell_type": "markdown",
   "id": "1b31d997",
   "metadata": {},
   "source": [
    "Rezultati su nešto bolji za categorijski naive bayes."
   ]
  },
  {
   "cell_type": "code",
   "execution_count": 79,
   "id": "9783fe1f",
   "metadata": {},
   "outputs": [
    {
     "name": "stdout",
     "output_type": "stream",
     "text": [
      "[[  7  24]\n",
      " [  8 155]]\n",
      "              precision    recall  f1-score   support\n",
      "\n",
      "           L       0.47      0.23      0.30        31\n",
      "           N       0.87      0.95      0.91       163\n",
      "\n",
      "    accuracy                           0.84       194\n",
      "   macro avg       0.67      0.59      0.61       194\n",
      "weighted avg       0.80      0.84      0.81       194\n",
      "\n"
     ]
    }
   ],
   "source": [
    "classification_cat_nb(df_tmp_1)"
   ]
  },
  {
   "cell_type": "code",
   "execution_count": 80,
   "id": "29db20b8",
   "metadata": {},
   "outputs": [
    {
     "name": "stdout",
     "output_type": "stream",
     "text": [
      "[[  0  31]\n",
      " [  0 163]]\n",
      "              precision    recall  f1-score   support\n",
      "\n",
      "           L       0.00      0.00      0.00        31\n",
      "           N       0.84      1.00      0.91       163\n",
      "\n",
      "    accuracy                           0.84       194\n",
      "   macro avg       0.42      0.50      0.46       194\n",
      "weighted avg       0.71      0.84      0.77       194\n",
      "\n"
     ]
    },
    {
     "name": "stderr",
     "output_type": "stream",
     "text": [
      "C:\\Python311\\Lib\\site-packages\\sklearn\\metrics\\_classification.py:1334: UndefinedMetricWarning: Precision and F-score are ill-defined and being set to 0.0 in labels with no predicted samples. Use `zero_division` parameter to control this behavior.\n",
      "  _warn_prf(average, modifier, msg_start, len(result))\n",
      "C:\\Python311\\Lib\\site-packages\\sklearn\\metrics\\_classification.py:1334: UndefinedMetricWarning: Precision and F-score are ill-defined and being set to 0.0 in labels with no predicted samples. Use `zero_division` parameter to control this behavior.\n",
      "  _warn_prf(average, modifier, msg_start, len(result))\n",
      "C:\\Python311\\Lib\\site-packages\\sklearn\\metrics\\_classification.py:1334: UndefinedMetricWarning: Precision and F-score are ill-defined and being set to 0.0 in labels with no predicted samples. Use `zero_division` parameter to control this behavior.\n",
      "  _warn_prf(average, modifier, msg_start, len(result))\n"
     ]
    }
   ],
   "source": [
    "multinomial_nb(df_tmp_1)"
   ]
  },
  {
   "cell_type": "markdown",
   "id": "31a0eb57",
   "metadata": {},
   "source": [
    "Nadalje diskretizacija značajke krvnog tlaka majke ne daje bolje rezultate."
   ]
  },
  {
   "cell_type": "code",
   "execution_count": 81,
   "id": "cda20aea",
   "metadata": {},
   "outputs": [
    {
     "name": "stderr",
     "output_type": "stream",
     "text": [
      "C:\\Users\\AntonioB25\\AppData\\Local\\Temp\\ipykernel_8508\\3080843246.py:7: FutureWarning: In a future version, `df.iloc[:, i] = newvals` will attempt to set the values inplace instead of always setting a new array. To retain the old behavior, use either `df[df.columns[i]] = newvals` or, if columns are non-unique, `df.isetitem(i, newvals)`\n",
      "  df_tmp.loc[:,'FWPS'] = le.transform(df_tmp.loc[:,'FWPS'])\n"
     ]
    }
   ],
   "source": [
    "df_tmp['FWPS'] = pd.cut(df['FBP_sys'], 5)\n",
    "df_tmp = df_tmp.drop(['FBP_sys'], axis=1)\n",
    "\n",
    "le.fit(df_tmp.loc[:,'FWPS'])\n",
    "\n",
    "# transformiraj \n",
    "df_tmp.loc[:,'FWPS'] = le.transform(df_tmp.loc[:,'FWPS'])"
   ]
  },
  {
   "cell_type": "code",
   "execution_count": 82,
   "id": "a3c796de",
   "metadata": {},
   "outputs": [
    {
     "name": "stdout",
     "output_type": "stream",
     "text": [
      "[[ 11  20]\n",
      " [ 24 139]]\n",
      "              precision    recall  f1-score   support\n",
      "\n",
      "           L       0.31      0.35      0.33        31\n",
      "           N       0.87      0.85      0.86       163\n",
      "\n",
      "    accuracy                           0.77       194\n",
      "   macro avg       0.59      0.60      0.60       194\n",
      "weighted avg       0.78      0.77      0.78       194\n",
      "\n"
     ]
    }
   ],
   "source": [
    "features = ['Parity', 'ANC', 'Term/Preterm', 'Sex', 'LNH', 'AgeBand', 'HeightBand', 'FWTBand', 'FWPS']\n",
    "df_tmp_1 = df_tmp.loc[:, df_tmp.columns.isin(features)]\n",
    "classification(df_tmp_1)"
   ]
  },
  {
   "cell_type": "code",
   "execution_count": 83,
   "id": "34e91082",
   "metadata": {},
   "outputs": [
    {
     "name": "stdout",
     "output_type": "stream",
     "text": [
      "[[  7  24]\n",
      " [  8 155]]\n",
      "              precision    recall  f1-score   support\n",
      "\n",
      "           L       0.47      0.23      0.30        31\n",
      "           N       0.87      0.95      0.91       163\n",
      "\n",
      "    accuracy                           0.84       194\n",
      "   macro avg       0.67      0.59      0.61       194\n",
      "weighted avg       0.80      0.84      0.81       194\n",
      "\n"
     ]
    }
   ],
   "source": [
    "classification_cat_nb(df_tmp_1)"
   ]
  },
  {
   "cell_type": "code",
   "execution_count": 84,
   "id": "6cef43a0",
   "metadata": {},
   "outputs": [
    {
     "name": "stdout",
     "output_type": "stream",
     "text": [
      "[[  0  31]\n",
      " [  0 163]]\n",
      "              precision    recall  f1-score   support\n",
      "\n",
      "           L       0.00      0.00      0.00        31\n",
      "           N       0.84      1.00      0.91       163\n",
      "\n",
      "    accuracy                           0.84       194\n",
      "   macro avg       0.42      0.50      0.46       194\n",
      "weighted avg       0.71      0.84      0.77       194\n",
      "\n"
     ]
    },
    {
     "name": "stderr",
     "output_type": "stream",
     "text": [
      "C:\\Python311\\Lib\\site-packages\\sklearn\\metrics\\_classification.py:1334: UndefinedMetricWarning: Precision and F-score are ill-defined and being set to 0.0 in labels with no predicted samples. Use `zero_division` parameter to control this behavior.\n",
      "  _warn_prf(average, modifier, msg_start, len(result))\n",
      "C:\\Python311\\Lib\\site-packages\\sklearn\\metrics\\_classification.py:1334: UndefinedMetricWarning: Precision and F-score are ill-defined and being set to 0.0 in labels with no predicted samples. Use `zero_division` parameter to control this behavior.\n",
      "  _warn_prf(average, modifier, msg_start, len(result))\n",
      "C:\\Python311\\Lib\\site-packages\\sklearn\\metrics\\_classification.py:1334: UndefinedMetricWarning: Precision and F-score are ill-defined and being set to 0.0 in labels with no predicted samples. Use `zero_division` parameter to control this behavior.\n",
      "  _warn_prf(average, modifier, msg_start, len(result))\n"
     ]
    }
   ],
   "source": [
    "multinomial_nb(df_tmp_1)"
   ]
  },
  {
   "cell_type": "code",
   "execution_count": 85,
   "id": "08cd77f8",
   "metadata": {},
   "outputs": [
    {
     "name": "stderr",
     "output_type": "stream",
     "text": [
      "C:\\Users\\AntonioB25\\AppData\\Local\\Temp\\ipykernel_8508\\498748786.py:7: FutureWarning: In a future version, `df.iloc[:, i] = newvals` will attempt to set the values inplace instead of always setting a new array. To retain the old behavior, use either `df[df.columns[i]] = newvals` or, if columns are non-unique, `df.isetitem(i, newvals)`\n",
      "  df_tmp.loc[:,'FWPD'] = le.transform(df_tmp.loc[:,'FWPD'])\n"
     ]
    }
   ],
   "source": [
    "df_tmp['FWPD'] = pd.cut(df['FBP_dias'], 5)\n",
    "df_tmp = df_tmp.drop(['FBP_dias'], axis=1)\n",
    "\n",
    "le.fit(df_tmp.loc[:,'FWPD'])\n",
    "\n",
    "# transformiraj \n",
    "df_tmp.loc[:,'FWPD'] = le.transform(df_tmp.loc[:,'FWPD'])"
   ]
  },
  {
   "cell_type": "code",
   "execution_count": 86,
   "id": "057f47b7",
   "metadata": {},
   "outputs": [
    {
     "name": "stdout",
     "output_type": "stream",
     "text": [
      "[[ 11  20]\n",
      " [ 24 139]]\n",
      "              precision    recall  f1-score   support\n",
      "\n",
      "           L       0.31      0.35      0.33        31\n",
      "           N       0.87      0.85      0.86       163\n",
      "\n",
      "    accuracy                           0.77       194\n",
      "   macro avg       0.59      0.60      0.60       194\n",
      "weighted avg       0.78      0.77      0.78       194\n",
      "\n"
     ]
    }
   ],
   "source": [
    "features = ['Parity', 'ANC', 'Term/Preterm', 'Sex', 'LNH', 'AgeBand', 'HeightBand', 'FWTBand', 'FWPS', 'FWPD']\n",
    "df_tmp_1 = df_tmp.loc[:, df_tmp.columns.isin(features)]\n",
    "classification(df_tmp_1)"
   ]
  },
  {
   "cell_type": "code",
   "execution_count": 87,
   "id": "e36f5a0e",
   "metadata": {},
   "outputs": [
    {
     "name": "stdout",
     "output_type": "stream",
     "text": [
      "[[  7  24]\n",
      " [  7 156]]\n",
      "              precision    recall  f1-score   support\n",
      "\n",
      "           L       0.50      0.23      0.31        31\n",
      "           N       0.87      0.96      0.91       163\n",
      "\n",
      "    accuracy                           0.84       194\n",
      "   macro avg       0.68      0.59      0.61       194\n",
      "weighted avg       0.81      0.84      0.81       194\n",
      "\n"
     ]
    }
   ],
   "source": [
    "classification_cat_nb(df_tmp_1)"
   ]
  },
  {
   "cell_type": "code",
   "execution_count": 88,
   "id": "47ca1ed4",
   "metadata": {},
   "outputs": [
    {
     "name": "stdout",
     "output_type": "stream",
     "text": [
      "[[  0  31]\n",
      " [  0 163]]\n",
      "              precision    recall  f1-score   support\n",
      "\n",
      "           L       0.00      0.00      0.00        31\n",
      "           N       0.84      1.00      0.91       163\n",
      "\n",
      "    accuracy                           0.84       194\n",
      "   macro avg       0.42      0.50      0.46       194\n",
      "weighted avg       0.71      0.84      0.77       194\n",
      "\n"
     ]
    },
    {
     "name": "stderr",
     "output_type": "stream",
     "text": [
      "C:\\Python311\\Lib\\site-packages\\sklearn\\metrics\\_classification.py:1334: UndefinedMetricWarning: Precision and F-score are ill-defined and being set to 0.0 in labels with no predicted samples. Use `zero_division` parameter to control this behavior.\n",
      "  _warn_prf(average, modifier, msg_start, len(result))\n",
      "C:\\Python311\\Lib\\site-packages\\sklearn\\metrics\\_classification.py:1334: UndefinedMetricWarning: Precision and F-score are ill-defined and being set to 0.0 in labels with no predicted samples. Use `zero_division` parameter to control this behavior.\n",
      "  _warn_prf(average, modifier, msg_start, len(result))\n",
      "C:\\Python311\\Lib\\site-packages\\sklearn\\metrics\\_classification.py:1334: UndefinedMetricWarning: Precision and F-score are ill-defined and being set to 0.0 in labels with no predicted samples. Use `zero_division` parameter to control this behavior.\n",
      "  _warn_prf(average, modifier, msg_start, len(result))\n"
     ]
    }
   ],
   "source": [
    "multinomial_nb(df_tmp_1)"
   ]
  },
  {
   "cell_type": "code",
   "execution_count": 89,
   "id": "be83d58a",
   "metadata": {},
   "outputs": [],
   "source": [
    "df_tmp = df_tmp.drop(('Bgroup'), axis=1)"
   ]
  },
  {
   "cell_type": "markdown",
   "id": "1e499db7",
   "metadata": {},
   "source": [
    "### Koristimo _KNN_\n",
    "Tražimo najbolje parametre za KNN"
   ]
  },
  {
   "cell_type": "code",
   "execution_count": 90,
   "id": "98cecb9c",
   "metadata": {},
   "outputs": [
    {
     "name": "stdout",
     "output_type": "stream",
     "text": [
      "Najbolja točnost = 0.8385507246376811\n",
      "Najbolji parametri : {'metric': 'cityblock', 'n_neighbors': 11}\n"
     ]
    }
   ],
   "source": [
    "X = df_tmp.loc[:,  (df_tmp.columns != 'LNH') & (df_tmp.columns != 'BWt(kg)')]\n",
    "y = df_tmp.loc[:, 'LNH']\n",
    "\n",
    "\n",
    "# razdvoji podatke\n",
    "# 70% training i 30% test\n",
    "X_train, X_test, y_train, y_test = train_test_split(X, y, test_size=0.3, random_state=4, stratify=y) \n",
    "\n",
    "# KNN\n",
    "params_KNN = {'n_neighbors': np.arange(5, 13),\n",
    "             'metric': ['euclidean', 'cityblock']}\n",
    "\n",
    "clf = KNeighborsClassifier()\n",
    "grid = GridSearchCV(clf, param_grid=params_KNN, cv=10, verbose=False)\n",
    "grid.fit(X_train, y_train)\n",
    "print('Najbolja točnost = {}'.format(grid.best_score_))\n",
    "print('Najbolji parametri : {}'.format(grid.best_params_))"
   ]
  },
  {
   "cell_type": "markdown",
   "id": "ed1b81cb",
   "metadata": {},
   "source": [
    "### Koristimo _Klasifikaciju potpornim vektorima_\n",
    "Traženje najboljih parametara"
   ]
  },
  {
   "cell_type": "code",
   "execution_count": 91,
   "id": "b498b80c",
   "metadata": {},
   "outputs": [
    {
     "name": "stdout",
     "output_type": "stream",
     "text": [
      "Točnost = 0.8385507246376811\n",
      "Najbolji parametri za SVC {'C': 1.1}\n"
     ]
    }
   ],
   "source": [
    "# SVC\n",
    "params_SVC = {'C': [1.1, 1.20, 1.30, 1.35, 1.40, 1.50, 1.60, 1.70]}\n",
    "\n",
    "clf = SVC()\n",
    "grid = GridSearchCV(clf, param_grid=params_SVC, cv=10, verbose=False)\n",
    "grid.fit(X_train, y_train)\n",
    "print('Točnost = {}'.format(grid.best_score_))\n",
    "print('Najbolji parametri za SVC {}'.format(grid.best_params_))"
   ]
  },
  {
   "cell_type": "markdown",
   "id": "598807ed",
   "metadata": {},
   "source": [
    "### Koristimo _Logističku regresiju_\n",
    "Traženje najboljih parametara"
   ]
  },
  {
   "cell_type": "code",
   "execution_count": 92,
   "id": "1f6765c7",
   "metadata": {},
   "outputs": [
    {
     "name": "stdout",
     "output_type": "stream",
     "text": [
      "Točnost 0.8475362318840579\n",
      "Najbolji parametri {'C': 0.4, 'penalty': 'l2'}\n"
     ]
    }
   ],
   "source": [
    "# Logistička regresija\n",
    "params_LG = {'penalty': ['l2'],\n",
    "             'C': [0.30, 0.40, 0.50, 0.60]}\n",
    "\n",
    "\n",
    "clf = LogisticRegression(max_iter=1000)\n",
    "grid = GridSearchCV(clf, param_grid=params_LG, cv=10, verbose=False)\n",
    "grid.fit(X_train, y_train)\n",
    "print('Točnost {}'.format(grid.best_score_))\n",
    "print('Najbolji parametri {}'.format(grid.best_params_))"
   ]
  },
  {
   "cell_type": "markdown",
   "id": "bb13494b",
   "metadata": {},
   "source": [
    "### Koristimo `VotingClassifier` kojem predajemo prethodno navedene klasifikatore i koristimo tip glasanja `hard`\n",
    "Dobivamo malo poboljšanje u rezultatima."
   ]
  },
  {
   "cell_type": "code",
   "execution_count": 93,
   "id": "c07d9b4f",
   "metadata": {},
   "outputs": [
    {
     "name": "stdout",
     "output_type": "stream",
     "text": [
      "Točnost =  0.8453140096618357\n",
      "[[  4  27]\n",
      " [  2 161]]\n",
      "              precision    recall  f1-score   support\n",
      "\n",
      "           L       0.67      0.13      0.22        31\n",
      "           N       0.86      0.99      0.92       163\n",
      "\n",
      "    accuracy                           0.85       194\n",
      "   macro avg       0.76      0.56      0.57       194\n",
      "weighted avg       0.83      0.85      0.81       194\n",
      "\n"
     ]
    }
   ],
   "source": [
    "estimator = [('KNN' , KNeighborsClassifier(metric='euclidean', n_neighbors=11)),\n",
    "             ('lr', LogisticRegression(C=0.4, penalty='l2', max_iter=1000)),\n",
    "             ('SVC', SVC(C=1.1, probability=True)),\n",
    "             ('GNB', GaussianNB()),\n",
    "             ]\n",
    "\n",
    "eclf = VotingClassifier(estimators=estimator, voting='hard')\n",
    "cv_scores = cross_val_score(eclf, X_train, y_train, cv=10, verbose=False)\n",
    "eclf.fit(X_train, y_train)\n",
    "print('Točnost = ', cv_scores.mean())\n",
    "\n",
    "y_pred = eclf.predict(X_test)\n",
    "\n",
    "# isprintaj matricu konfuzije\n",
    "print(confusion_matrix(y_test, y_pred))\n",
    "    \n",
    "# isprintaj klasifikacijski report s metrikama točnosti, odziva, f1 \n",
    "label_names = ['L', 'N']\n",
    "print(classification_report(y_test, y_pred ,target_names=label_names))"
   ]
  },
  {
   "cell_type": "markdown",
   "id": "449d4df9",
   "metadata": {},
   "source": [
    "### Sada ćemo pokušati na neki drugi način popuniti nedostajuće vrijednosti <br>\n",
    "### Koristit ćemo `IterativeImputer` \n"
   ]
  },
  {
   "cell_type": "code",
   "execution_count": 94,
   "id": "cb10dfef",
   "metadata": {},
   "outputs": [],
   "source": [
    "# Učitavanje vrijednosti\n",
    "from sklearn.experimental import enable_iterative_imputer\n",
    "from sklearn.impute import IterativeImputer"
   ]
  },
  {
   "cell_type": "code",
   "execution_count": 95,
   "id": "9f09cfbe",
   "metadata": {},
   "outputs": [],
   "source": [
    "data_it = pd.read_csv('CBWDB.csv')"
   ]
  },
  {
   "cell_type": "code",
   "execution_count": 96,
   "id": "c4ad7c3f",
   "metadata": {},
   "outputs": [
    {
     "data": {
      "text/html": [
       "<div>\n",
       "<style scoped>\n",
       "    .dataframe tbody tr th:only-of-type {\n",
       "        vertical-align: middle;\n",
       "    }\n",
       "\n",
       "    .dataframe tbody tr th {\n",
       "        vertical-align: top;\n",
       "    }\n",
       "\n",
       "    .dataframe thead th {\n",
       "        text-align: right;\n",
       "    }\n",
       "</style>\n",
       "<table border=\"1\" class=\"dataframe\">\n",
       "  <thead>\n",
       "    <tr style=\"text-align: right;\">\n",
       "      <th></th>\n",
       "      <th>SEC</th>\n",
       "      <th>Age(years)</th>\n",
       "      <th>Height(cm)</th>\n",
       "      <th>Bgroup</th>\n",
       "      <th>Parity</th>\n",
       "      <th>ANC</th>\n",
       "      <th>Iwt(kg)</th>\n",
       "      <th>FWt(kg)</th>\n",
       "      <th>IBP_sys</th>\n",
       "      <th>IBP_dias</th>\n",
       "      <th>FBP_sys</th>\n",
       "      <th>FBP_dias</th>\n",
       "      <th>IHb(gm%)</th>\n",
       "      <th>FHb(gm%)</th>\n",
       "      <th>BS(RBS)</th>\n",
       "      <th>Term/Preterm</th>\n",
       "      <th>Sex</th>\n",
       "      <th>BWt(kg)</th>\n",
       "      <th>LNH</th>\n",
       "    </tr>\n",
       "  </thead>\n",
       "  <tbody>\n",
       "    <tr>\n",
       "      <th>0</th>\n",
       "      <td>BPL</td>\n",
       "      <td>23.0</td>\n",
       "      <td>146.0</td>\n",
       "      <td>A(+ve)</td>\n",
       "      <td>1.0</td>\n",
       "      <td>4.0</td>\n",
       "      <td>34.0</td>\n",
       "      <td>42.0</td>\n",
       "      <td>116.0</td>\n",
       "      <td>78.0</td>\n",
       "      <td>120.0</td>\n",
       "      <td>70.0</td>\n",
       "      <td>10.0</td>\n",
       "      <td>13.2</td>\n",
       "      <td>90.0</td>\n",
       "      <td>T</td>\n",
       "      <td>F</td>\n",
       "      <td>2.7</td>\n",
       "      <td>2.0</td>\n",
       "    </tr>\n",
       "    <tr>\n",
       "      <th>1</th>\n",
       "      <td>BPL</td>\n",
       "      <td>25.0</td>\n",
       "      <td>165.0</td>\n",
       "      <td>NIL</td>\n",
       "      <td>1.0</td>\n",
       "      <td>3.0</td>\n",
       "      <td>68.0</td>\n",
       "      <td>71.0</td>\n",
       "      <td>96.0</td>\n",
       "      <td>70.0</td>\n",
       "      <td>110.0</td>\n",
       "      <td>72.0</td>\n",
       "      <td>10.4</td>\n",
       "      <td>11.0</td>\n",
       "      <td>96.0</td>\n",
       "      <td>T</td>\n",
       "      <td>M</td>\n",
       "      <td>2.9</td>\n",
       "      <td>2.0</td>\n",
       "    </tr>\n",
       "    <tr>\n",
       "      <th>2</th>\n",
       "      <td>BPL</td>\n",
       "      <td>24.0</td>\n",
       "      <td>155.0</td>\n",
       "      <td>B(+ve)</td>\n",
       "      <td>1.0</td>\n",
       "      <td>3.0</td>\n",
       "      <td>49.0</td>\n",
       "      <td>55.0</td>\n",
       "      <td>91.0</td>\n",
       "      <td>52.0</td>\n",
       "      <td>110.0</td>\n",
       "      <td>70.0</td>\n",
       "      <td>11.0</td>\n",
       "      <td>11.6</td>\n",
       "      <td>102.0</td>\n",
       "      <td>T</td>\n",
       "      <td>M</td>\n",
       "      <td>2.4</td>\n",
       "      <td>1.0</td>\n",
       "    </tr>\n",
       "    <tr>\n",
       "      <th>3</th>\n",
       "      <td>BPL</td>\n",
       "      <td>19.0</td>\n",
       "      <td>154.0</td>\n",
       "      <td>NIL</td>\n",
       "      <td>1.0</td>\n",
       "      <td>2.0</td>\n",
       "      <td>49.0</td>\n",
       "      <td>50.0</td>\n",
       "      <td>90.0</td>\n",
       "      <td>52.0</td>\n",
       "      <td>100.0</td>\n",
       "      <td>60.0</td>\n",
       "      <td>10.0</td>\n",
       "      <td>10.6</td>\n",
       "      <td>103.0</td>\n",
       "      <td>T</td>\n",
       "      <td>F</td>\n",
       "      <td>2.6</td>\n",
       "      <td>2.0</td>\n",
       "    </tr>\n",
       "    <tr>\n",
       "      <th>4</th>\n",
       "      <td>BPL</td>\n",
       "      <td>21.0</td>\n",
       "      <td>150.0</td>\n",
       "      <td>NIL</td>\n",
       "      <td>1.0</td>\n",
       "      <td>4.0</td>\n",
       "      <td>41.0</td>\n",
       "      <td>48.0</td>\n",
       "      <td>100.0</td>\n",
       "      <td>60.0</td>\n",
       "      <td>110.0</td>\n",
       "      <td>70.0</td>\n",
       "      <td>9.0</td>\n",
       "      <td>10.2</td>\n",
       "      <td>99.0</td>\n",
       "      <td>T</td>\n",
       "      <td>F</td>\n",
       "      <td>2.3</td>\n",
       "      <td>1.0</td>\n",
       "    </tr>\n",
       "  </tbody>\n",
       "</table>\n",
       "</div>"
      ],
      "text/plain": [
       "   SEC  Age(years)  Height(cm)  Bgroup  Parity  ANC  Iwt(kg)  FWt(kg)  \\\n",
       "0  BPL        23.0       146.0  A(+ve)     1.0  4.0     34.0     42.0   \n",
       "1  BPL        25.0       165.0     NIL     1.0  3.0     68.0     71.0   \n",
       "2  BPL        24.0       155.0  B(+ve)     1.0  3.0     49.0     55.0   \n",
       "3  BPL        19.0       154.0     NIL     1.0  2.0     49.0     50.0   \n",
       "4  BPL        21.0       150.0     NIL     1.0  4.0     41.0     48.0   \n",
       "\n",
       "   IBP_sys  IBP_dias  FBP_sys  FBP_dias  IHb(gm%)  FHb(gm%)  BS(RBS)  \\\n",
       "0    116.0      78.0    120.0      70.0      10.0      13.2     90.0   \n",
       "1     96.0      70.0    110.0      72.0      10.4      11.0     96.0   \n",
       "2     91.0      52.0    110.0      70.0      11.0      11.6    102.0   \n",
       "3     90.0      52.0    100.0      60.0      10.0      10.6    103.0   \n",
       "4    100.0      60.0    110.0      70.0       9.0      10.2     99.0   \n",
       "\n",
       "  Term/Preterm Sex  BWt(kg)  LNH  \n",
       "0            T   F      2.7  2.0  \n",
       "1            T   M      2.9  2.0  \n",
       "2            T   M      2.4  1.0  \n",
       "3            T   F      2.6  2.0  \n",
       "4            T   F      2.3  1.0  "
      ]
     },
     "execution_count": 96,
     "metadata": {},
     "output_type": "execute_result"
    }
   ],
   "source": [
    "data_it.head()"
   ]
  },
  {
   "cell_type": "markdown",
   "id": "d11ca7e7",
   "metadata": {},
   "source": [
    "Izbacujemo krvnu grupu jer ima puno kategoričkih vrijednosti i tablica bi nam dobila 8 dodatnih stupaca, a dodatno ostajemo bez velikog dijela zapisa s obzirom na puno NaN i NIL vrijednosti."
   ]
  },
  {
   "cell_type": "code",
   "execution_count": 97,
   "id": "e22c89e5",
   "metadata": {},
   "outputs": [
    {
     "data": {
      "text/html": [
       "<div>\n",
       "<style scoped>\n",
       "    .dataframe tbody tr th:only-of-type {\n",
       "        vertical-align: middle;\n",
       "    }\n",
       "\n",
       "    .dataframe tbody tr th {\n",
       "        vertical-align: top;\n",
       "    }\n",
       "\n",
       "    .dataframe thead th {\n",
       "        text-align: right;\n",
       "    }\n",
       "</style>\n",
       "<table border=\"1\" class=\"dataframe\">\n",
       "  <thead>\n",
       "    <tr style=\"text-align: right;\">\n",
       "      <th></th>\n",
       "      <th>SEC</th>\n",
       "      <th>Age(years)</th>\n",
       "      <th>Height(cm)</th>\n",
       "      <th>Parity</th>\n",
       "      <th>ANC</th>\n",
       "      <th>Iwt(kg)</th>\n",
       "      <th>FWt(kg)</th>\n",
       "      <th>IBP_sys</th>\n",
       "      <th>IBP_dias</th>\n",
       "      <th>FBP_sys</th>\n",
       "      <th>FBP_dias</th>\n",
       "      <th>IHb(gm%)</th>\n",
       "      <th>FHb(gm%)</th>\n",
       "      <th>BS(RBS)</th>\n",
       "      <th>Term/Preterm</th>\n",
       "      <th>Sex</th>\n",
       "      <th>BWt(kg)</th>\n",
       "      <th>LNH</th>\n",
       "    </tr>\n",
       "  </thead>\n",
       "  <tbody>\n",
       "    <tr>\n",
       "      <th>0</th>\n",
       "      <td>BPL</td>\n",
       "      <td>23.0</td>\n",
       "      <td>146.0</td>\n",
       "      <td>1.0</td>\n",
       "      <td>4.0</td>\n",
       "      <td>34.0</td>\n",
       "      <td>42.0</td>\n",
       "      <td>116.0</td>\n",
       "      <td>78.0</td>\n",
       "      <td>120.0</td>\n",
       "      <td>70.0</td>\n",
       "      <td>10.0</td>\n",
       "      <td>13.2</td>\n",
       "      <td>90.0</td>\n",
       "      <td>T</td>\n",
       "      <td>F</td>\n",
       "      <td>2.7</td>\n",
       "      <td>2.0</td>\n",
       "    </tr>\n",
       "    <tr>\n",
       "      <th>1</th>\n",
       "      <td>BPL</td>\n",
       "      <td>25.0</td>\n",
       "      <td>165.0</td>\n",
       "      <td>1.0</td>\n",
       "      <td>3.0</td>\n",
       "      <td>68.0</td>\n",
       "      <td>71.0</td>\n",
       "      <td>96.0</td>\n",
       "      <td>70.0</td>\n",
       "      <td>110.0</td>\n",
       "      <td>72.0</td>\n",
       "      <td>10.4</td>\n",
       "      <td>11.0</td>\n",
       "      <td>96.0</td>\n",
       "      <td>T</td>\n",
       "      <td>M</td>\n",
       "      <td>2.9</td>\n",
       "      <td>2.0</td>\n",
       "    </tr>\n",
       "    <tr>\n",
       "      <th>2</th>\n",
       "      <td>BPL</td>\n",
       "      <td>24.0</td>\n",
       "      <td>155.0</td>\n",
       "      <td>1.0</td>\n",
       "      <td>3.0</td>\n",
       "      <td>49.0</td>\n",
       "      <td>55.0</td>\n",
       "      <td>91.0</td>\n",
       "      <td>52.0</td>\n",
       "      <td>110.0</td>\n",
       "      <td>70.0</td>\n",
       "      <td>11.0</td>\n",
       "      <td>11.6</td>\n",
       "      <td>102.0</td>\n",
       "      <td>T</td>\n",
       "      <td>M</td>\n",
       "      <td>2.4</td>\n",
       "      <td>1.0</td>\n",
       "    </tr>\n",
       "    <tr>\n",
       "      <th>3</th>\n",
       "      <td>BPL</td>\n",
       "      <td>19.0</td>\n",
       "      <td>154.0</td>\n",
       "      <td>1.0</td>\n",
       "      <td>2.0</td>\n",
       "      <td>49.0</td>\n",
       "      <td>50.0</td>\n",
       "      <td>90.0</td>\n",
       "      <td>52.0</td>\n",
       "      <td>100.0</td>\n",
       "      <td>60.0</td>\n",
       "      <td>10.0</td>\n",
       "      <td>10.6</td>\n",
       "      <td>103.0</td>\n",
       "      <td>T</td>\n",
       "      <td>F</td>\n",
       "      <td>2.6</td>\n",
       "      <td>2.0</td>\n",
       "    </tr>\n",
       "    <tr>\n",
       "      <th>4</th>\n",
       "      <td>BPL</td>\n",
       "      <td>21.0</td>\n",
       "      <td>150.0</td>\n",
       "      <td>1.0</td>\n",
       "      <td>4.0</td>\n",
       "      <td>41.0</td>\n",
       "      <td>48.0</td>\n",
       "      <td>100.0</td>\n",
       "      <td>60.0</td>\n",
       "      <td>110.0</td>\n",
       "      <td>70.0</td>\n",
       "      <td>9.0</td>\n",
       "      <td>10.2</td>\n",
       "      <td>99.0</td>\n",
       "      <td>T</td>\n",
       "      <td>F</td>\n",
       "      <td>2.3</td>\n",
       "      <td>1.0</td>\n",
       "    </tr>\n",
       "  </tbody>\n",
       "</table>\n",
       "</div>"
      ],
      "text/plain": [
       "   SEC  Age(years)  Height(cm)  Parity  ANC  Iwt(kg)  FWt(kg)  IBP_sys  \\\n",
       "0  BPL        23.0       146.0     1.0  4.0     34.0     42.0    116.0   \n",
       "1  BPL        25.0       165.0     1.0  3.0     68.0     71.0     96.0   \n",
       "2  BPL        24.0       155.0     1.0  3.0     49.0     55.0     91.0   \n",
       "3  BPL        19.0       154.0     1.0  2.0     49.0     50.0     90.0   \n",
       "4  BPL        21.0       150.0     1.0  4.0     41.0     48.0    100.0   \n",
       "\n",
       "   IBP_dias  FBP_sys  FBP_dias  IHb(gm%)  FHb(gm%)  BS(RBS) Term/Preterm Sex  \\\n",
       "0      78.0    120.0      70.0      10.0      13.2     90.0            T   F   \n",
       "1      70.0    110.0      72.0      10.4      11.0     96.0            T   M   \n",
       "2      52.0    110.0      70.0      11.0      11.6    102.0            T   M   \n",
       "3      52.0    100.0      60.0      10.0      10.6    103.0            T   F   \n",
       "4      60.0    110.0      70.0       9.0      10.2     99.0            T   F   \n",
       "\n",
       "   BWt(kg)  LNH  \n",
       "0      2.7  2.0  \n",
       "1      2.9  2.0  \n",
       "2      2.4  1.0  \n",
       "3      2.6  2.0  \n",
       "4      2.3  1.0  "
      ]
     },
     "execution_count": 97,
     "metadata": {},
     "output_type": "execute_result"
    }
   ],
   "source": [
    "data_it = data_it.drop(['Bgroup'], axis=1)\n",
    "data_it.head()"
   ]
  },
  {
   "cell_type": "markdown",
   "id": "78d144f9",
   "metadata": {},
   "source": [
    "### Izbacujemo zapise koji nisu klasificirani"
   ]
  },
  {
   "cell_type": "code",
   "execution_count": 98,
   "id": "ae6dc7a1",
   "metadata": {},
   "outputs": [
    {
     "data": {
      "text/plain": [
       "SEC             200\n",
       "Age(years)        3\n",
       "Height(cm)      128\n",
       "Parity            0\n",
       "ANC               0\n",
       "Iwt(kg)          12\n",
       "FWt(kg)          13\n",
       "IBP_sys           4\n",
       "IBP_dias          4\n",
       "FBP_sys           6\n",
       "FBP_dias          6\n",
       "IHb(gm%)        103\n",
       "FHb(gm%)        102\n",
       "BS(RBS)         531\n",
       "Term/Preterm    133\n",
       "Sex              11\n",
       "BWt(kg)           0\n",
       "LNH               0\n",
       "dtype: int64"
      ]
     },
     "execution_count": 98,
     "metadata": {},
     "output_type": "execute_result"
    }
   ],
   "source": [
    "data_it = data_it[data_it['LNH'].notna()]\n",
    "data_it.isna().sum()"
   ]
  },
  {
   "cell_type": "markdown",
   "id": "b56a6c3c",
   "metadata": {},
   "source": [
    "Izbacujemo spol s oznakom `T`"
   ]
  },
  {
   "cell_type": "code",
   "execution_count": 99,
   "id": "8cf08949",
   "metadata": {},
   "outputs": [
    {
     "data": {
      "text/plain": [
       "array(['F', 'M'], dtype=object)"
      ]
     },
     "execution_count": 99,
     "metadata": {},
     "output_type": "execute_result"
    }
   ],
   "source": [
    "data_it = data_it[data_it['Sex'].notna()]\n",
    "\n",
    "data_it = data_it[data_it.Sex != 'T']\n",
    "data_it['Sex'].unique()"
   ]
  },
  {
   "cell_type": "markdown",
   "id": "8ba5ef3d",
   "metadata": {},
   "source": [
    "Kodiramo kategoričke vrijednosti za: spol, status, T/P"
   ]
  },
  {
   "cell_type": "code",
   "execution_count": 100,
   "id": "c23ec4ac",
   "metadata": {},
   "outputs": [
    {
     "data": {
      "text/html": [
       "<div>\n",
       "<style scoped>\n",
       "    .dataframe tbody tr th:only-of-type {\n",
       "        vertical-align: middle;\n",
       "    }\n",
       "\n",
       "    .dataframe tbody tr th {\n",
       "        vertical-align: top;\n",
       "    }\n",
       "\n",
       "    .dataframe thead th {\n",
       "        text-align: right;\n",
       "    }\n",
       "</style>\n",
       "<table border=\"1\" class=\"dataframe\">\n",
       "  <thead>\n",
       "    <tr style=\"text-align: right;\">\n",
       "      <th></th>\n",
       "      <th>Age(years)</th>\n",
       "      <th>Height(cm)</th>\n",
       "      <th>Parity</th>\n",
       "      <th>ANC</th>\n",
       "      <th>Iwt(kg)</th>\n",
       "      <th>FWt(kg)</th>\n",
       "      <th>IBP_sys</th>\n",
       "      <th>IBP_dias</th>\n",
       "      <th>FBP_sys</th>\n",
       "      <th>FBP_dias</th>\n",
       "      <th>...</th>\n",
       "      <th>FHb(gm%)</th>\n",
       "      <th>BS(RBS)</th>\n",
       "      <th>BWt(kg)</th>\n",
       "      <th>LNH</th>\n",
       "      <th>SEC_APL</th>\n",
       "      <th>SEC_BPL</th>\n",
       "      <th>Term/Preterm_PT</th>\n",
       "      <th>Term/Preterm_T</th>\n",
       "      <th>Sex_F</th>\n",
       "      <th>Sex_M</th>\n",
       "    </tr>\n",
       "  </thead>\n",
       "  <tbody>\n",
       "    <tr>\n",
       "      <th>0</th>\n",
       "      <td>23.0</td>\n",
       "      <td>146.0</td>\n",
       "      <td>1.0</td>\n",
       "      <td>4.0</td>\n",
       "      <td>34.0</td>\n",
       "      <td>42.0</td>\n",
       "      <td>116.0</td>\n",
       "      <td>78.0</td>\n",
       "      <td>120.0</td>\n",
       "      <td>70.0</td>\n",
       "      <td>...</td>\n",
       "      <td>13.2</td>\n",
       "      <td>90.0</td>\n",
       "      <td>2.7</td>\n",
       "      <td>2.0</td>\n",
       "      <td>0</td>\n",
       "      <td>1</td>\n",
       "      <td>0</td>\n",
       "      <td>1</td>\n",
       "      <td>1</td>\n",
       "      <td>0</td>\n",
       "    </tr>\n",
       "    <tr>\n",
       "      <th>1</th>\n",
       "      <td>25.0</td>\n",
       "      <td>165.0</td>\n",
       "      <td>1.0</td>\n",
       "      <td>3.0</td>\n",
       "      <td>68.0</td>\n",
       "      <td>71.0</td>\n",
       "      <td>96.0</td>\n",
       "      <td>70.0</td>\n",
       "      <td>110.0</td>\n",
       "      <td>72.0</td>\n",
       "      <td>...</td>\n",
       "      <td>11.0</td>\n",
       "      <td>96.0</td>\n",
       "      <td>2.9</td>\n",
       "      <td>2.0</td>\n",
       "      <td>0</td>\n",
       "      <td>1</td>\n",
       "      <td>0</td>\n",
       "      <td>1</td>\n",
       "      <td>0</td>\n",
       "      <td>1</td>\n",
       "    </tr>\n",
       "    <tr>\n",
       "      <th>2</th>\n",
       "      <td>24.0</td>\n",
       "      <td>155.0</td>\n",
       "      <td>1.0</td>\n",
       "      <td>3.0</td>\n",
       "      <td>49.0</td>\n",
       "      <td>55.0</td>\n",
       "      <td>91.0</td>\n",
       "      <td>52.0</td>\n",
       "      <td>110.0</td>\n",
       "      <td>70.0</td>\n",
       "      <td>...</td>\n",
       "      <td>11.6</td>\n",
       "      <td>102.0</td>\n",
       "      <td>2.4</td>\n",
       "      <td>1.0</td>\n",
       "      <td>0</td>\n",
       "      <td>1</td>\n",
       "      <td>0</td>\n",
       "      <td>1</td>\n",
       "      <td>0</td>\n",
       "      <td>1</td>\n",
       "    </tr>\n",
       "    <tr>\n",
       "      <th>3</th>\n",
       "      <td>19.0</td>\n",
       "      <td>154.0</td>\n",
       "      <td>1.0</td>\n",
       "      <td>2.0</td>\n",
       "      <td>49.0</td>\n",
       "      <td>50.0</td>\n",
       "      <td>90.0</td>\n",
       "      <td>52.0</td>\n",
       "      <td>100.0</td>\n",
       "      <td>60.0</td>\n",
       "      <td>...</td>\n",
       "      <td>10.6</td>\n",
       "      <td>103.0</td>\n",
       "      <td>2.6</td>\n",
       "      <td>2.0</td>\n",
       "      <td>0</td>\n",
       "      <td>1</td>\n",
       "      <td>0</td>\n",
       "      <td>1</td>\n",
       "      <td>1</td>\n",
       "      <td>0</td>\n",
       "    </tr>\n",
       "    <tr>\n",
       "      <th>4</th>\n",
       "      <td>21.0</td>\n",
       "      <td>150.0</td>\n",
       "      <td>1.0</td>\n",
       "      <td>4.0</td>\n",
       "      <td>41.0</td>\n",
       "      <td>48.0</td>\n",
       "      <td>100.0</td>\n",
       "      <td>60.0</td>\n",
       "      <td>110.0</td>\n",
       "      <td>70.0</td>\n",
       "      <td>...</td>\n",
       "      <td>10.2</td>\n",
       "      <td>99.0</td>\n",
       "      <td>2.3</td>\n",
       "      <td>1.0</td>\n",
       "      <td>0</td>\n",
       "      <td>1</td>\n",
       "      <td>0</td>\n",
       "      <td>1</td>\n",
       "      <td>1</td>\n",
       "      <td>0</td>\n",
       "    </tr>\n",
       "  </tbody>\n",
       "</table>\n",
       "<p>5 rows × 21 columns</p>\n",
       "</div>"
      ],
      "text/plain": [
       "   Age(years)  Height(cm)  Parity  ANC  Iwt(kg)  FWt(kg)  IBP_sys  IBP_dias  \\\n",
       "0        23.0       146.0     1.0  4.0     34.0     42.0    116.0      78.0   \n",
       "1        25.0       165.0     1.0  3.0     68.0     71.0     96.0      70.0   \n",
       "2        24.0       155.0     1.0  3.0     49.0     55.0     91.0      52.0   \n",
       "3        19.0       154.0     1.0  2.0     49.0     50.0     90.0      52.0   \n",
       "4        21.0       150.0     1.0  4.0     41.0     48.0    100.0      60.0   \n",
       "\n",
       "   FBP_sys  FBP_dias  ...  FHb(gm%)  BS(RBS)  BWt(kg)  LNH  SEC_APL  SEC_BPL  \\\n",
       "0    120.0      70.0  ...      13.2     90.0      2.7  2.0        0        1   \n",
       "1    110.0      72.0  ...      11.0     96.0      2.9  2.0        0        1   \n",
       "2    110.0      70.0  ...      11.6    102.0      2.4  1.0        0        1   \n",
       "3    100.0      60.0  ...      10.6    103.0      2.6  2.0        0        1   \n",
       "4    110.0      70.0  ...      10.2     99.0      2.3  1.0        0        1   \n",
       "\n",
       "   Term/Preterm_PT  Term/Preterm_T  Sex_F  Sex_M  \n",
       "0                0               1      1      0  \n",
       "1                0               1      0      1  \n",
       "2                0               1      0      1  \n",
       "3                0               1      1      0  \n",
       "4                0               1      1      0  \n",
       "\n",
       "[5 rows x 21 columns]"
      ]
     },
     "execution_count": 100,
     "metadata": {},
     "output_type": "execute_result"
    }
   ],
   "source": [
    "# kodiranje u 0 i 1\n",
    "data_it = pd.get_dummies(data_it)\n",
    "data_it.head()"
   ]
  },
  {
   "cell_type": "code",
   "execution_count": 101,
   "id": "6bfa9b0d",
   "metadata": {},
   "outputs": [],
   "source": [
    "df_imputer_mice = data_it.copy(deep=True)"
   ]
  },
  {
   "cell_type": "markdown",
   "id": "30a8a4b3",
   "metadata": {},
   "source": [
    "Popunjavanje vrijednosti"
   ]
  },
  {
   "cell_type": "code",
   "execution_count": 102,
   "id": "d266e98a",
   "metadata": {},
   "outputs": [
    {
     "name": "stdout",
     "output_type": "stream",
     "text": [
      "[IterativeImputer] Completing matrix with shape (1059, 20)\n",
      "[IterativeImputer] Ending imputation round 1/1000, elapsed time 0.13\n",
      "[IterativeImputer] Change: 22.886475506203396, scaled tolerance: 0.195 \n",
      "[IterativeImputer] Ending imputation round 2/1000, elapsed time 0.22\n",
      "[IterativeImputer] Change: 5.8691581623998985, scaled tolerance: 0.195 \n",
      "[IterativeImputer] Ending imputation round 3/1000, elapsed time 0.31\n",
      "[IterativeImputer] Change: 2.563216042887273, scaled tolerance: 0.195 \n",
      "[IterativeImputer] Ending imputation round 4/1000, elapsed time 0.40\n",
      "[IterativeImputer] Change: 1.3561742903922926, scaled tolerance: 0.195 \n",
      "[IterativeImputer] Ending imputation round 5/1000, elapsed time 0.51\n",
      "[IterativeImputer] Change: 0.8064664134644914, scaled tolerance: 0.195 \n",
      "[IterativeImputer] Ending imputation round 6/1000, elapsed time 0.63\n",
      "[IterativeImputer] Change: 0.5177587944834787, scaled tolerance: 0.195 \n",
      "[IterativeImputer] Ending imputation round 7/1000, elapsed time 0.77\n",
      "[IterativeImputer] Change: 0.3354731134153379, scaled tolerance: 0.195 \n",
      "[IterativeImputer] Ending imputation round 8/1000, elapsed time 0.88\n",
      "[IterativeImputer] Change: 0.21830382280915295, scaled tolerance: 0.195 \n",
      "[IterativeImputer] Ending imputation round 9/1000, elapsed time 0.99\n",
      "[IterativeImputer] Change: 0.14256900029115727, scaled tolerance: 0.195 \n",
      "[IterativeImputer] Early stopping criterion reached.\n"
     ]
    },
    {
     "name": "stderr",
     "output_type": "stream",
     "text": [
      "C:\\Users\\AntonioB25\\AppData\\Local\\Temp\\ipykernel_8508\\1990743879.py:2: FutureWarning: In a future version, `df.iloc[:, i] = newvals` will attempt to set the values inplace instead of always setting a new array. To retain the old behavior, use either `df[df.columns[i]] = newvals` or, if columns are non-unique, `df.isetitem(i, newvals)`\n",
      "  df_imputer_mice.iloc[:,1:]=iterativeimputer.fit_transform(df_imputer_mice.iloc[:,1:])\n"
     ]
    }
   ],
   "source": [
    "iterativeimputer = IterativeImputer(random_state=42,verbose=2, max_iter=1000,min_value=0)\n",
    "df_imputer_mice.iloc[:,1:]=iterativeimputer.fit_transform(df_imputer_mice.iloc[:,1:])"
   ]
  },
  {
   "cell_type": "code",
   "execution_count": 103,
   "id": "1197e4e5",
   "metadata": {},
   "outputs": [],
   "source": [
    "# bilo je 3 vrijednosti gdje su godine bile 'nan'\n",
    "df_imputer_mice.dropna(subset=['Age(years)'], inplace=True)"
   ]
  },
  {
   "cell_type": "code",
   "execution_count": 104,
   "id": "7203614e",
   "metadata": {},
   "outputs": [],
   "source": [
    "data_it = df_imputer_mice"
   ]
  },
  {
   "cell_type": "code",
   "execution_count": 105,
   "id": "39548d6d",
   "metadata": {},
   "outputs": [],
   "source": [
    "# izbacivanje zapisa s klasom H, odnosno 3\n",
    "data_it = data_it[data_it['LNH'] != 3]"
   ]
  },
  {
   "cell_type": "code",
   "execution_count": 106,
   "id": "2355a088",
   "metadata": {},
   "outputs": [
    {
     "data": {
      "text/plain": [
       "Index(['Age(years)', 'Height(cm)', 'Parity', 'ANC', 'Iwt(kg)', 'FWt(kg)',\n",
       "       'IBP_sys', 'IBP_dias', 'FBP_sys', 'FBP_dias', 'IHb(gm%)', 'FHb(gm%)',\n",
       "       'BS(RBS)', 'BWt(kg)', 'LNH', 'SEC_APL', 'SEC_BPL', 'Term/Preterm_PT',\n",
       "       'Term/Preterm_T', 'Sex_F', 'Sex_M'],\n",
       "      dtype='object')"
      ]
     },
     "execution_count": 106,
     "metadata": {},
     "output_type": "execute_result"
    }
   ],
   "source": [
    "data_it.columns"
   ]
  },
  {
   "cell_type": "markdown",
   "id": "9298fb6a",
   "metadata": {},
   "source": [
    "### Rezultati \n",
    "Ne vidimo poboljšanje u odnosu na početne rezultate"
   ]
  },
  {
   "cell_type": "code",
   "execution_count": 107,
   "id": "1009c530",
   "metadata": {},
   "outputs": [
    {
     "name": "stdout",
     "output_type": "stream",
     "text": [
      "[[ 11  32]\n",
      " [ 29 244]]\n",
      "              precision    recall  f1-score   support\n",
      "\n",
      "           L       0.28      0.26      0.27        43\n",
      "           N       0.88      0.89      0.89       273\n",
      "\n",
      "    accuracy                           0.81       316\n",
      "   macro avg       0.58      0.57      0.58       316\n",
      "weighted avg       0.80      0.81      0.80       316\n",
      "\n"
     ]
    }
   ],
   "source": [
    "classification(data_it)"
   ]
  },
  {
   "cell_type": "markdown",
   "id": "541c548f",
   "metadata": {},
   "source": [
    "Ostavljamo samo kategoričke vrijednosti"
   ]
  },
  {
   "cell_type": "code",
   "execution_count": 108,
   "id": "a7d7246f",
   "metadata": {},
   "outputs": [
    {
     "name": "stdout",
     "output_type": "stream",
     "text": [
      "[[  9  34]\n",
      " [ 14 259]]\n",
      "              precision    recall  f1-score   support\n",
      "\n",
      "           L       0.39      0.21      0.27        43\n",
      "           N       0.88      0.95      0.92       273\n",
      "\n",
      "    accuracy                           0.85       316\n",
      "   macro avg       0.64      0.58      0.59       316\n",
      "weighted avg       0.82      0.85      0.83       316\n",
      "\n"
     ]
    }
   ],
   "source": [
    "features = ['BWt(kg)', 'LNH', 'SEC_APL', 'SEC_BPL', 'Term/Preterm_PT', 'Term/Preterm_T', 'Sex_F', 'Sex_M']\n",
    "data_it_tmp = data_it.loc[:, data_it.columns.isin(features)].copy()\n",
    "classification(data_it_tmp)"
   ]
  },
  {
   "cell_type": "markdown",
   "id": "af5669dc",
   "metadata": {},
   "source": [
    "## Budući da su nam podaci nebalansirani, koristit ćemo metode koje će to popraviit"
   ]
  },
  {
   "cell_type": "markdown",
   "id": "324addd9",
   "metadata": {},
   "source": [
    "##### Koristimo prosjeke značajki koje su kontinuirane (prosjek metrika početka i završetka trudnoće)\n"
   ]
  },
  {
   "cell_type": "code",
   "execution_count": 109,
   "id": "af8a5b9c",
   "metadata": {},
   "outputs": [],
   "source": [
    "data = pd.read_csv('CBWDB.csv')"
   ]
  },
  {
   "cell_type": "code",
   "execution_count": 110,
   "id": "86b47ca9",
   "metadata": {},
   "outputs": [],
   "source": [
    "# SEC\n",
    "data['SEC'] = data['SEC'].replace(['APL'], 1)\n",
    "data['SEC'] = data['SEC'].replace(['BPL'], 2)\n",
    "# Bgroup\n",
    "data['Bgroup'].fillna('NIL', inplace=True)\n",
    "data['Bgroup'] = data['Bgroup'].replace(['A(+ve)', 'A(+VE)'], 'A+')\n",
    "data['Bgroup'] = data['Bgroup'].replace(['AB(+ve)'], 'AB+')\n",
    "data['Bgroup'] = data['Bgroup'].replace(['AB(-ve)'], 'AB-')\n",
    "data['Bgroup'] = data['Bgroup'].replace(['B(-ve)'], 'B-')\n",
    "data['Bgroup'] = data['Bgroup'].replace(['A(-ve)'], 'A-')\n",
    "data['Bgroup'] = data['Bgroup'].replace(['B(+VE)', 'B+(+ve)', 'B(+ve)'], 'B+')\n",
    "data['Bgroup'] = data['Bgroup'].replace(['O(+ve)', 'O(+VE)'], '0+')\n",
    "data['Bgroup'] = data['Bgroup'].replace(['O(-ve)'], '0-')\n",
    "\n",
    "# popunjavanje nedostajućih vrijednosti najčešćom krvnom grupom u svijetu\n",
    "data['Bgroup'] = data['Bgroup'].replace(['NIL'], '0+') \n",
    "\n",
    "data['Bgroup'] = data['Bgroup'].replace(['A+'], '1')\n",
    "data['Bgroup'] = data['Bgroup'].replace(['A-'], '2')\n",
    "data['Bgroup'] = data['Bgroup'].replace(['B+'], '3')\n",
    "data['Bgroup'] = data['Bgroup'].replace(['B-'], '4')\n",
    "data['Bgroup'] = data['Bgroup'].replace(['0+'], '5')\n",
    "data['Bgroup'] = data['Bgroup'].replace(['0-'], '6')\n",
    "data['Bgroup'] = data['Bgroup'].replace(['AB+'], '7')\n",
    "data['Bgroup'] = data['Bgroup'].replace(['AB-'], '8')\n",
    "\n",
    "# Height(cm)\n",
    "data['Height(cm)'].fillna(value=round(data['Height(cm)']).mean(), inplace=True)\n",
    "data['Height(cm)'] = np.where(data['Height(cm)'] < 153, data.loc[data['Height(cm)'] > 153, 'Height(cm)'].mean(), data['Height(cm)'])\n",
    "\n",
    "# Age\n",
    "data['Age(years)'].fillna(value=round(data['Age(years)']).mean(), inplace=True)\n",
    "data['Age(years)'] = np.where(data['Age(years)'] < 17, data.loc[data['Age(years)'] > 17, 'Age(years)'].mean(), data['Age(years)'])\n",
    "\n",
    "# Impute mean to nan values\n",
    "data['Parity'].fillna(value=round(data['Parity']).mean(), inplace=True)\n",
    "data['ANC'].fillna(value=round(data['ANC']).mean(), inplace=True)\n",
    "data['Iwt(kg)'].fillna(value=round(data['Iwt(kg)']).mean(), inplace=True)\n",
    "data['FWt(kg)'].fillna(value=round(data['FWt(kg)']).mean(), inplace=True)\n",
    "data['IBP_sys'].fillna(value=round(data['IBP_sys']).mean(), inplace=True)\n",
    "data['IBP_dias'].fillna(value=round(data['IBP_dias']).mean(), inplace=True)\n",
    "data['FBP_sys'].fillna(value=round(data['FBP_sys']).mean(), inplace=True)\n",
    "data['FBP_dias'].fillna(value=round(data['FBP_dias']).mean(), inplace=True)\n",
    "data['IHb(gm%)'].fillna(value=round(data['IHb(gm%)']).mean(), inplace=True)\n",
    "data['FHb(gm%)'].fillna(value=round(data['FHb(gm%)']).mean(), inplace=True)\n",
    "data['BS(RBS)'].fillna(value=round(data['BS(RBS)']).mean(), inplace=True)\n",
    "\n",
    "#Ovo ne treba jer smo izbacili sve koji nisu klasirani (LNH == null) pa znači da nema zapisa koji nemaju težinu bebe \n",
    "#data['BWt(kg)'].fillna(data.groupby('Sex')['BWt(kg)'].transform('mean'), inplace=True)"
   ]
  },
  {
   "cell_type": "code",
   "execution_count": 111,
   "id": "33eece73",
   "metadata": {},
   "outputs": [],
   "source": [
    "# Term/Preterm\n",
    "data['Term/Preterm'] = data['Term/Preterm'].str.upper()\n",
    "data['Term/Preterm'] = data['Term/Preterm'].replace(['T'], 1)\n",
    "data['Term/Preterm'] = data['Term/Preterm'].replace(['PT'], 2)\n",
    "\n",
    "# Sex\n",
    "data = data[data['Sex'].str.contains(\"T\")==False]\n",
    "data['Sex'] = data['Sex'].replace(['M'], 0)\n",
    "data['Sex'] = data['Sex'].replace(['F'], 1)\n",
    "\n",
    "# Prosjek mase rodilje (prije trudnoće i prije poroda)\n",
    "# data['Wt(avg)'] = data[['Iwt(kg)', 'FWt(kg)']].mean(axis=1)\n",
    "\n",
    "data = data[data['Term/Preterm'].notna()]\n",
    "data = data[data['SEC'].notna()]"
   ]
  },
  {
   "cell_type": "markdown",
   "id": "70429ba9",
   "metadata": {},
   "source": [
    "Sa svaku krvnu grupu računamo srednju vrijednost i popunjavamo nedostajuće vrijednosti tom srednjom vrijednošću"
   ]
  },
  {
   "cell_type": "code",
   "execution_count": 112,
   "id": "b1f979b6",
   "metadata": {},
   "outputs": [],
   "source": [
    "# grupiranje podataka po stupcu 'Bgroup' \n",
    "grouped = data.groupby(by='Bgroup')\n",
    "\n",
    "# računanje srednje vrijednosti 'IHb(gm%)' i 'FHb(gm%)' za svaku grupu\n",
    "mean_ihb = grouped['IHb(gm%)'].mean()\n",
    "mean_fhb = grouped['FHb(gm%)'].mean()\n",
    "\n",
    "\n",
    "mean_values = {bgroup: {'IHb(gm%)': ihb, 'FHb(gm%)': fhb}\n",
    "               for bgroup, ihb, fhb in zip(mean_ihb.index, mean_ihb, mean_fhb)}\n",
    "\n",
    "# popuni nedostajuće vrijednosti za svaku grupu 'Bgroup'\n",
    "for bgroup, values in mean_values.items():\n",
    "    data.loc[(data['Bgroup'] == bgroup) & (data['IHb(gm%)'].isna()), 'IHb(gm%)'] = values['IHb(gm%)']\n",
    "    data.loc[(data['Bgroup'] == bgroup) & (data['FHb(gm%)'].isna()), 'FHb(gm%)'] = values['FHb(gm%)']"
   ]
  },
  {
   "cell_type": "code",
   "execution_count": 113,
   "id": "f825b438",
   "metadata": {},
   "outputs": [],
   "source": [
    "data = data[data['LNH'].notna()]\n",
    "data = data[data['LNH'] != 3]"
   ]
  },
  {
   "cell_type": "code",
   "execution_count": 114,
   "id": "81d8eeae",
   "metadata": {},
   "outputs": [],
   "source": [
    "data['Avg_wt'] = data[['Iwt(kg)', 'FWt(kg)']].mean(axis=1)\n",
    "data['Avg_sbp'] = data[['IBP_sys', 'FBP_sys']].mean(axis=1)\n",
    "data['Avg_dbp'] = data[['IBP_dias', 'FBP_dias']].mean(axis=1)\n",
    "data['Avg_hb'] = data[['IHb(gm%)', 'FHb(gm%)']].mean(axis=1)\n",
    "\n",
    "data = data.drop(columns=[\"Iwt(kg)\", \"FWt(kg)\", \"IBP_sys\", \"FBP_sys\", \"IBP_dias\", \"FBP_dias\", \"IHb(gm%)\", \"FHb(gm%)\"])"
   ]
  },
  {
   "cell_type": "code",
   "execution_count": 115,
   "id": "d0843e8c",
   "metadata": {},
   "outputs": [
    {
     "name": "stderr",
     "output_type": "stream",
     "text": [
      "C:\\Users\\AntonioB25\\AppData\\Local\\Temp\\ipykernel_8508\\2588662825.py:5: FutureWarning: In a future version, `df.iloc[:, i] = newvals` will attempt to set the values inplace instead of always setting a new array. To retain the old behavior, use either `df[df.columns[i]] = newvals` or, if columns are non-unique, `df.isetitem(i, newvals)`\n",
      "  data.loc[:, 'Term/Preterm'] = le.transform(data.loc[:, 'Term/Preterm'])\n",
      "C:\\Users\\AntonioB25\\AppData\\Local\\Temp\\ipykernel_8508\\2588662825.py:8: FutureWarning: In a future version, `df.iloc[:, i] = newvals` will attempt to set the values inplace instead of always setting a new array. To retain the old behavior, use either `df[df.columns[i]] = newvals` or, if columns are non-unique, `df.isetitem(i, newvals)`\n",
      "  data.loc[:, 'SEC'] = le.transform(data.loc[:, 'SEC'])\n"
     ]
    }
   ],
   "source": [
    "le.fit(data.loc[:, 'Sex'])\n",
    "data.loc[:, 'Sex'] = le.transform(data.loc[:, 'Sex'])\n",
    "\n",
    "le.fit(data.loc[:, 'Term/Preterm'])\n",
    "data.loc[:, 'Term/Preterm'] = le.transform(data.loc[:, 'Term/Preterm'])\n",
    "\n",
    "le.fit(data.loc[:, 'SEC'])\n",
    "data.loc[:, 'SEC'] = le.transform(data.loc[:, 'SEC'])"
   ]
  },
  {
   "cell_type": "code",
   "execution_count": 116,
   "id": "522572d1",
   "metadata": {},
   "outputs": [
    {
     "data": {
      "text/html": [
       "<div>\n",
       "<style scoped>\n",
       "    .dataframe tbody tr th:only-of-type {\n",
       "        vertical-align: middle;\n",
       "    }\n",
       "\n",
       "    .dataframe tbody tr th {\n",
       "        vertical-align: top;\n",
       "    }\n",
       "\n",
       "    .dataframe thead th {\n",
       "        text-align: right;\n",
       "    }\n",
       "</style>\n",
       "<table border=\"1\" class=\"dataframe\">\n",
       "  <thead>\n",
       "    <tr style=\"text-align: right;\">\n",
       "      <th></th>\n",
       "      <th>SEC</th>\n",
       "      <th>Age(years)</th>\n",
       "      <th>Height(cm)</th>\n",
       "      <th>Bgroup</th>\n",
       "      <th>Parity</th>\n",
       "      <th>ANC</th>\n",
       "      <th>BS(RBS)</th>\n",
       "      <th>Term/Preterm</th>\n",
       "      <th>Sex</th>\n",
       "      <th>BWt(kg)</th>\n",
       "      <th>LNH</th>\n",
       "      <th>Avg_wt</th>\n",
       "      <th>Avg_sbp</th>\n",
       "      <th>Avg_dbp</th>\n",
       "      <th>Avg_hb</th>\n",
       "    </tr>\n",
       "  </thead>\n",
       "  <tbody>\n",
       "    <tr>\n",
       "      <th>0</th>\n",
       "      <td>1</td>\n",
       "      <td>23.0</td>\n",
       "      <td>169.729965</td>\n",
       "      <td>1</td>\n",
       "      <td>1.0</td>\n",
       "      <td>4.0</td>\n",
       "      <td>90.0</td>\n",
       "      <td>0</td>\n",
       "      <td>1</td>\n",
       "      <td>2.7</td>\n",
       "      <td>2.0</td>\n",
       "      <td>38.0</td>\n",
       "      <td>118.0</td>\n",
       "      <td>74.0</td>\n",
       "      <td>11.6</td>\n",
       "    </tr>\n",
       "    <tr>\n",
       "      <th>1</th>\n",
       "      <td>1</td>\n",
       "      <td>25.0</td>\n",
       "      <td>165.000000</td>\n",
       "      <td>5</td>\n",
       "      <td>1.0</td>\n",
       "      <td>3.0</td>\n",
       "      <td>96.0</td>\n",
       "      <td>0</td>\n",
       "      <td>0</td>\n",
       "      <td>2.9</td>\n",
       "      <td>2.0</td>\n",
       "      <td>69.5</td>\n",
       "      <td>103.0</td>\n",
       "      <td>71.0</td>\n",
       "      <td>10.7</td>\n",
       "    </tr>\n",
       "    <tr>\n",
       "      <th>2</th>\n",
       "      <td>1</td>\n",
       "      <td>24.0</td>\n",
       "      <td>155.000000</td>\n",
       "      <td>3</td>\n",
       "      <td>1.0</td>\n",
       "      <td>3.0</td>\n",
       "      <td>102.0</td>\n",
       "      <td>0</td>\n",
       "      <td>0</td>\n",
       "      <td>2.4</td>\n",
       "      <td>1.0</td>\n",
       "      <td>52.0</td>\n",
       "      <td>100.5</td>\n",
       "      <td>61.0</td>\n",
       "      <td>11.3</td>\n",
       "    </tr>\n",
       "    <tr>\n",
       "      <th>3</th>\n",
       "      <td>1</td>\n",
       "      <td>19.0</td>\n",
       "      <td>154.000000</td>\n",
       "      <td>5</td>\n",
       "      <td>1.0</td>\n",
       "      <td>2.0</td>\n",
       "      <td>103.0</td>\n",
       "      <td>0</td>\n",
       "      <td>1</td>\n",
       "      <td>2.6</td>\n",
       "      <td>2.0</td>\n",
       "      <td>49.5</td>\n",
       "      <td>95.0</td>\n",
       "      <td>56.0</td>\n",
       "      <td>10.3</td>\n",
       "    </tr>\n",
       "    <tr>\n",
       "      <th>4</th>\n",
       "      <td>1</td>\n",
       "      <td>21.0</td>\n",
       "      <td>169.729965</td>\n",
       "      <td>5</td>\n",
       "      <td>1.0</td>\n",
       "      <td>4.0</td>\n",
       "      <td>99.0</td>\n",
       "      <td>0</td>\n",
       "      <td>1</td>\n",
       "      <td>2.3</td>\n",
       "      <td>1.0</td>\n",
       "      <td>44.5</td>\n",
       "      <td>105.0</td>\n",
       "      <td>65.0</td>\n",
       "      <td>9.6</td>\n",
       "    </tr>\n",
       "  </tbody>\n",
       "</table>\n",
       "</div>"
      ],
      "text/plain": [
       "   SEC  Age(years)  Height(cm) Bgroup  Parity  ANC  BS(RBS)  Term/Preterm  \\\n",
       "0    1        23.0  169.729965      1     1.0  4.0     90.0             0   \n",
       "1    1        25.0  165.000000      5     1.0  3.0     96.0             0   \n",
       "2    1        24.0  155.000000      3     1.0  3.0    102.0             0   \n",
       "3    1        19.0  154.000000      5     1.0  2.0    103.0             0   \n",
       "4    1        21.0  169.729965      5     1.0  4.0     99.0             0   \n",
       "\n",
       "   Sex  BWt(kg)  LNH  Avg_wt  Avg_sbp  Avg_dbp  Avg_hb  \n",
       "0    1      2.7  2.0    38.0    118.0     74.0    11.6  \n",
       "1    0      2.9  2.0    69.5    103.0     71.0    10.7  \n",
       "2    0      2.4  1.0    52.0    100.5     61.0    11.3  \n",
       "3    1      2.6  2.0    49.5     95.0     56.0    10.3  \n",
       "4    1      2.3  1.0    44.5    105.0     65.0     9.6  "
      ]
     },
     "execution_count": 116,
     "metadata": {},
     "output_type": "execute_result"
    }
   ],
   "source": [
    "data.head()"
   ]
  },
  {
   "cell_type": "code",
   "execution_count": 117,
   "id": "308a052b",
   "metadata": {},
   "outputs": [],
   "source": [
    "data = data[data['LNH'].notna()]\n",
    "data = data[data['LNH'] != 3]"
   ]
  },
  {
   "cell_type": "markdown",
   "id": "38010f89",
   "metadata": {},
   "source": [
    "### Koristimo `RandomOverSampler` kako bismo povećali broj zapisa klase L\n",
    "`sampling_strategy` postavljamo na 0.5, što znači da će na kraju broj zapisa klase _L_ biti polovica broja klase _N_ <br>\n",
    "Ali nažalost ne dobivamo bolje rezultate"
   ]
  },
  {
   "cell_type": "code",
   "execution_count": 118,
   "id": "fbdd9098",
   "metadata": {},
   "outputs": [
    {
     "name": "stdout",
     "output_type": "stream",
     "text": [
      "[[ 12  22]\n",
      " [ 28 195]]\n",
      "              precision    recall  f1-score   support\n",
      "\n",
      "           L       0.30      0.35      0.32        34\n",
      "           N       0.90      0.87      0.89       223\n",
      "\n",
      "    accuracy                           0.81       257\n",
      "   macro avg       0.60      0.61      0.61       257\n",
      "weighted avg       0.82      0.81      0.81       257\n",
      "\n"
     ]
    }
   ],
   "source": [
    "from imblearn.over_sampling import RandomOverSampler\n",
    "data_sampling = data.copy(deep=True)\n",
    "\n",
    "# oversampling radimo tako da broj zapisa klase L bude jednaka polovica klase N \n",
    "oversample = RandomOverSampler(sampling_strategy=0.5)\n",
    "\n",
    "classification(data_sampling)"
   ]
  },
  {
   "cell_type": "markdown",
   "id": "f2c691ce",
   "metadata": {},
   "source": [
    "### Nad istim tim podacima koristimo Logističku regresiju \n",
    "Koristimo `GridSearchCV` kako bismo pronašli najbolje hiperparametre"
   ]
  },
  {
   "cell_type": "code",
   "execution_count": 131,
   "id": "1d9ba6be",
   "metadata": {},
   "outputs": [],
   "source": [
    "X = data_sampling.drop(['LNH','Bgroup', 'BWt(kg)'], axis=1)\n",
    "y = data_sampling.LNH\n",
    "\n",
    "X_train, X_test, y_train, y_test = train_test_split(X, y, test_size=0.3, random_state=0)"
   ]
  },
  {
   "cell_type": "code",
   "execution_count": 126,
   "id": "a4b5228d",
   "metadata": {},
   "outputs": [
    {
     "name": "stdout",
     "output_type": "stream",
     "text": [
      "Najbolji parametri:  {'C': 0.1, 'class_weight': 'balanced', 'fit_intercept': True, 'penalty': 'l1', 'solver': 'liblinear'}\n"
     ]
    }
   ],
   "source": [
    "warnings.filterwarnings('ignore')\n",
    "\n",
    "param_grid = {'penalty': ['l1','l2','elasticnet','none'],\n",
    "             'C': [0.001, 0.01, 0.1, 1, 10],\n",
    "             'fit_intercept': [True, False],\n",
    "             'solver': ['newton-cg', 'lbfgs', 'liblinear', 'sag'],\n",
    "             'class_weight' : ['balanced']}\n",
    "\n",
    "clf = LogisticRegression()\n",
    "grid = GridSearchCV(clf, param_grid, cv=5)\n",
    "grid.fit(X_train, y_train)\n",
    "\n",
    "print(\"Najbolji parametri: \",grid.best_params_)"
   ]
  },
  {
   "cell_type": "markdown",
   "id": "9072d453",
   "metadata": {},
   "source": [
    "Stvaramo model koristeći najbolje parametre <br>\n",
    "Logička regresija daje malo lošije rezultate od NB"
   ]
  },
  {
   "cell_type": "code",
   "execution_count": 127,
   "id": "3733da8c",
   "metadata": {},
   "outputs": [
    {
     "name": "stdout",
     "output_type": "stream",
     "text": [
      "              precision    recall  f1-score   support\n",
      "\n",
      "           L       0.29      0.43      0.34        35\n",
      "           N       0.90      0.83      0.87       222\n",
      "\n",
      "    accuracy                           0.78       257\n",
      "   macro avg       0.60      0.63      0.61       257\n",
      "weighted avg       0.82      0.78      0.80       257\n",
      "\n"
     ]
    }
   ],
   "source": [
    "clf = LogisticRegression(C= 0.1, class_weight= 'balanced', fit_intercept=True, penalty= 'l1', solver= 'liblinear')\n",
    "clf.fit(X_train, y_train)\n",
    "\n",
    "# print scores\n",
    "y_pred=clf.predict(X_test)\n",
    "label_names = ['L', 'N']\n",
    "print(classification_report(y_test, y_pred,target_names=label_names))"
   ]
  },
  {
   "cell_type": "markdown",
   "id": "16cebae7",
   "metadata": {},
   "source": [
    "### Koristimo XGBOOST kao još jedan novi klasifikator\n",
    "Traženje najboljih parametara"
   ]
  },
  {
   "cell_type": "code",
   "execution_count": 135,
   "id": "355df225",
   "metadata": {},
   "outputs": [
    {
     "name": "stdout",
     "output_type": "stream",
     "text": [
      "Fitting 5 folds for each of 243 candidates, totalling 1215 fits\n",
      "Best parameters:  {'colsample_bytree': 0.9, 'learning_rate': 0.3, 'max_depth': 3, 'n_estimators': 10, 'subsample': 0.9}\n",
      "Best score:  0.887829131652661\n"
     ]
    }
   ],
   "source": [
    "from sklearn.model_selection import GridSearchCV\n",
    "\n",
    "#y_train = y_train.map({1:0, 2:1})\n",
    "#y_test = y_test.map({1:0, 2:1})\n",
    "\n",
    "# Define the parameter grid\n",
    "param_grid = {\n",
    "    'learning_rate': [0.1, 0.2, 0.3],\n",
    "    'n_estimators': [10, 50, 100],\n",
    "    'max_depth': [3, 4, 5],\n",
    "    'subsample': [0.8, 0.9, 1.0],\n",
    "    'colsample_bytree': [0.8, 0.9, 1.0],\n",
    "}\n",
    "\n",
    "# Create an XGBoost model\n",
    "model = xgb.XGBClassifier()\n",
    "\n",
    "# Create the GridSearchCV object\n",
    "grid_search = GridSearchCV(model, param_grid, cv=5, verbose=3, n_jobs=-1)\n",
    "\n",
    "# Fit the GridSearchCV object to the data\n",
    "grid_search.fit(X_train, y_train)\n",
    "\n",
    "# Print the best parameters and the best score\n",
    "print(\"Best parameters: \", grid_search.best_params_)\n",
    "print(\"Best score: \", grid_search.best_score_)"
   ]
  },
  {
   "cell_type": "code",
   "execution_count": 141,
   "id": "ec359896",
   "metadata": {},
   "outputs": [],
   "source": [
    "model = xgb.XGBClassifier(colsample_bytree= 0.9, learning_rate= 0.3, max_depth= 3, n_estimators= 10, subsample= 0.9)\n",
    "model.fit(X_train, y_train)\n",
    "y_pred = model.predict(X_test)"
   ]
  },
  {
   "cell_type": "markdown",
   "id": "11020b04",
   "metadata": {},
   "source": [
    "### Rezultati \n",
    "Rezultati su podjedanki kao i kad koristimo Naivni Bayes"
   ]
  },
  {
   "cell_type": "code",
   "execution_count": 142,
   "id": "aafa210e",
   "metadata": {},
   "outputs": [
    {
     "name": "stdout",
     "output_type": "stream",
     "text": [
      "              precision    recall  f1-score   support\n",
      "\n",
      "           L       0.50      0.14      0.22        35\n",
      "           N       0.88      0.98      0.93       222\n",
      "\n",
      "    accuracy                           0.86       257\n",
      "   macro avg       0.69      0.56      0.57       257\n",
      "weighted avg       0.83      0.86      0.83       257\n",
      "\n"
     ]
    }
   ],
   "source": [
    "label_names = ['L', 'N']\n",
    "print(classification_report(y_test, y_pred,target_names=label_names))"
   ]
  },
  {
   "cell_type": "code",
   "execution_count": null,
   "id": "3df39371",
   "metadata": {},
   "outputs": [],
   "source": []
  }
 ],
 "metadata": {
  "kernelspec": {
   "display_name": "Python 3 (ipykernel)",
   "language": "python",
   "name": "python3"
  },
  "language_info": {
   "codemirror_mode": {
    "name": "ipython",
    "version": 3
   },
   "file_extension": ".py",
   "mimetype": "text/x-python",
   "name": "python",
   "nbconvert_exporter": "python",
   "pygments_lexer": "ipython3",
   "version": "3.11.0"
  }
 },
 "nbformat": 4,
 "nbformat_minor": 5
}
