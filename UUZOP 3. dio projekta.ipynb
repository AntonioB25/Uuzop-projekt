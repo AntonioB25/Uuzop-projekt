{
 "cells": [
  {
   "cell_type": "markdown",
   "id": "84001365",
   "metadata": {},
   "source": [
    "# 3. dio projekta"
   ]
  },
  {
   "cell_type": "code",
   "execution_count": 1,
   "id": "aff29b42",
   "metadata": {},
   "outputs": [],
   "source": [
    "import numpy as np\n",
    "import pandas as pd\n",
    "import seaborn as sns\n",
    "import matplotlib.pyplot as plt"
   ]
  },
  {
   "cell_type": "markdown",
   "id": "0b24be1b",
   "metadata": {},
   "source": [
    "## Učitavanje podataka"
   ]
  },
  {
   "cell_type": "code",
   "execution_count": 2,
   "id": "4c664456",
   "metadata": {},
   "outputs": [],
   "source": [
    "data = pd.read_csv('CBWDB.csv')"
   ]
  },
  {
   "cell_type": "markdown",
   "id": "5cfe839e",
   "metadata": {},
   "source": [
    "### Izbacivanje svih zapisa koji nemaju klasu"
   ]
  },
  {
   "cell_type": "code",
   "execution_count": 3,
   "id": "31b8598c",
   "metadata": {},
   "outputs": [],
   "source": [
    "data = data[data['LNH'].notna()]"
   ]
  },
  {
   "cell_type": "markdown",
   "id": "c4b3d3fd",
   "metadata": {},
   "source": [
    "### Popunjavanje SEC i Bgroup stupaca"
   ]
  },
  {
   "cell_type": "code",
   "execution_count": 4,
   "id": "b9f47a9d",
   "metadata": {},
   "outputs": [],
   "source": [
    "# SEC\n",
    "data['SEC'] = data['SEC'].replace(['APL'], 1)\n",
    "data['SEC'] = data['SEC'].replace(['BPL'], 2)\n",
    "# Bgroup\n",
    "data['Bgroup'].fillna('NIL', inplace=True)\n",
    "data['Bgroup'] = data['Bgroup'].replace(['A(+ve)', 'A(+VE)'], 'A+')\n",
    "data['Bgroup'] = data['Bgroup'].replace(['AB(+ve)'], 'AB+')\n",
    "data['Bgroup'] = data['Bgroup'].replace(['AB(-ve)'], 'AB-')\n",
    "data['Bgroup'] = data['Bgroup'].replace(['B(-ve)'], 'B-')\n",
    "data['Bgroup'] = data['Bgroup'].replace(['A(-ve)'], 'A-')\n",
    "data['Bgroup'] = data['Bgroup'].replace(['B(+VE)', 'B+(+ve)', 'B(+ve)'], 'B+')\n",
    "data['Bgroup'] = data['Bgroup'].replace(['O(+ve)', 'O(+VE)'], '0+')\n",
    "data['Bgroup'] = data['Bgroup'].replace(['O(-ve)'], '0-')\n",
    "\n",
    "# popunjavanje nedostajućih vrijednosti najčešćom krvnom grupom u svijetu\n",
    "data['Bgroup'] = data['Bgroup'].replace(['NIL'], '0+') \n",
    "\n",
    "data['Bgroup'] = data['Bgroup'].replace(['A+'], '1')\n",
    "data['Bgroup'] = data['Bgroup'].replace(['A-'], '2')\n",
    "data['Bgroup'] = data['Bgroup'].replace(['B+'], '3')\n",
    "data['Bgroup'] = data['Bgroup'].replace(['B-'], '4')\n",
    "data['Bgroup'] = data['Bgroup'].replace(['0+'], '5')\n",
    "data['Bgroup'] = data['Bgroup'].replace(['0-'], '6')\n",
    "data['Bgroup'] = data['Bgroup'].replace(['AB+'], '7')\n",
    "data['Bgroup'] = data['Bgroup'].replace(['AB-'], '8')"
   ]
  },
  {
   "cell_type": "markdown",
   "id": "9d96bbb6",
   "metadata": {},
   "source": [
    "### Uklanjanje stršećih vrijednosti kod visine i dobi"
   ]
  },
  {
   "cell_type": "code",
   "execution_count": 5,
   "id": "a2502ef7",
   "metadata": {},
   "outputs": [],
   "source": [
    "# Height(cm)\n",
    "data['Height(cm)'].fillna(value=round(data['Height(cm)']).mean(), inplace=True)\n",
    "data['Height(cm)'] = np.where(data['Height(cm)'] < 153, data.loc[data['Height(cm)'] > 153, 'Height(cm)'].mean(), data['Height(cm)'])\n",
    "\n",
    "# Age\n",
    "data['Age(years)'].fillna(value=round(data['Age(years)']).mean(), inplace=True)\n",
    "data['Age(years)'] = np.where(data['Age(years)'] < 17, data.loc[data['Age(years)'] > 17, 'Age(years)'].mean(), data['Age(years)'])\n"
   ]
  },
  {
   "cell_type": "markdown",
   "id": "f2bfc6a1",
   "metadata": {},
   "source": [
    "### Popunjavanje nedostajućih vrijednosti srednjom vrijednošću stupca"
   ]
  },
  {
   "cell_type": "code",
   "execution_count": 6,
   "id": "f44af9b9",
   "metadata": {},
   "outputs": [],
   "source": [
    "# Impute mean to nan values\n",
    "data['Parity'].fillna(value=round(data['Parity']).mean(), inplace=True)\n",
    "data['ANC'].fillna(value=round(data['ANC']).mean(), inplace=True)\n",
    "data['Iwt(kg)'].fillna(value=round(data['Iwt(kg)']).mean(), inplace=True)\n",
    "data['FWt(kg)'].fillna(value=round(data['FWt(kg)']).mean(), inplace=True)\n",
    "data['IBP_sys'].fillna(value=round(data['IBP_sys']).mean(), inplace=True)\n",
    "data['IBP_dias'].fillna(value=round(data['IBP_dias']).mean(), inplace=True)\n",
    "data['FBP_sys'].fillna(value=round(data['FBP_sys']).mean(), inplace=True)\n",
    "data['FBP_dias'].fillna(value=round(data['FBP_dias']).mean(), inplace=True)\n",
    "data['IHb(gm%)'].fillna(value=round(data['IHb(gm%)']).mean(), inplace=True)\n",
    "data['FHb(gm%)'].fillna(value=round(data['FHb(gm%)']).mean(), inplace=True)\n",
    "data['BS(RBS)'].fillna(value=round(data['BS(RBS)']).mean(), inplace=True)\n",
    "\n",
    "#Ovo ne treba jer smo izbacili sve koji nisu klasirani (LNH == null) pa znači da nema zapisa koji nemaju težinu bebe \n",
    "#data['BWt(kg)'].fillna(data.groupby('Sex')['BWt(kg)'].transform('mean'), inplace=True)"
   ]
  },
  {
   "cell_type": "markdown",
   "id": "fbb5f1cf",
   "metadata": {},
   "source": [
    "### Pretvaranje u numeričke vrijedosti"
   ]
  },
  {
   "cell_type": "code",
   "execution_count": 7,
   "id": "1e9f9f70",
   "metadata": {},
   "outputs": [],
   "source": [
    "# Term/Preterm\n",
    "data['Term/Preterm'] = data['Term/Preterm'].str.upper()\n",
    "data['Term/Preterm'] = data['Term/Preterm'].replace(['T'], 1)\n",
    "data['Term/Preterm'] = data['Term/Preterm'].replace(['PT'], 2)\n",
    "\n",
    "# Sex\n",
    "data = data[data['Sex'].str.contains(\"T\")==False]\n",
    "data['Sex'] = data['Sex'].replace(['M'], 0)\n",
    "data['Sex'] = data['Sex'].replace(['F'], 1)\n",
    "\n",
    "# Prosjek mase rodilje (prije trudnoće i prije poroda)\n",
    "# data['Wt(avg)'] = data[['Iwt(kg)', 'FWt(kg)']].mean(axis=1)\n",
    "\n",
    "data = data[data['Term/Preterm'].notna()]\n",
    "data = data[data['SEC'].notna()]"
   ]
  },
  {
   "cell_type": "markdown",
   "id": "fdad48db",
   "metadata": {},
   "source": [
    "###  1. Računanje srednjih vrijednosti hemoglobina za svaku krvnu grupu i popunjavanje nedostajućih vrijednosti tom vrijednošću"
   ]
  },
  {
   "cell_type": "code",
   "execution_count": 8,
   "id": "6de84966",
   "metadata": {},
   "outputs": [],
   "source": [
    "# grupiranje podataka po stupcu 'Bgroup' \n",
    "grouped = data.groupby(by='Bgroup')\n",
    "\n",
    "# računanje srednje vrijednosti 'IHb(gm%)' i 'FHb(gm%)' za svaku grupu\n",
    "mean_ihb = grouped['IHb(gm%)'].mean()\n",
    "mean_fhb = grouped['FHb(gm%)'].mean()\n",
    "\n",
    "\n",
    "mean_values = {bgroup: {'IHb(gm%)': ihb, 'FHb(gm%)': fhb}\n",
    "               for bgroup, ihb, fhb in zip(mean_ihb.index, mean_ihb, mean_fhb)}\n",
    "\n",
    "# popuni nedostajuće vrijednosti za svaku grupu 'Bgroup'\n",
    "for bgroup, values in mean_values.items():\n",
    "    data.loc[(data['Bgroup'] == bgroup) & (data['IHb(gm%)'].isna()), 'IHb(gm%)'] = values['IHb(gm%)']\n",
    "    data.loc[(data['Bgroup'] == bgroup) & (data['FHb(gm%)'].isna()), 'FHb(gm%)'] = values['FHb(gm%)']"
   ]
  },
  {
   "cell_type": "markdown",
   "id": "b8194397",
   "metadata": {},
   "source": [
    "### Uklanjanje svih zapisa za klasu H jer ih ima samo 4"
   ]
  },
  {
   "cell_type": "code",
   "execution_count": 9,
   "id": "e6c99dd4",
   "metadata": {},
   "outputs": [
    {
     "data": {
      "text/plain": [
       "2.0    742\n",
       "1.0    112\n",
       "3.0      4\n",
       "Name: LNH, dtype: int64"
      ]
     },
     "execution_count": 9,
     "metadata": {},
     "output_type": "execute_result"
    }
   ],
   "source": [
    "data['LNH'].value_counts()"
   ]
  },
  {
   "cell_type": "code",
   "execution_count": 10,
   "id": "1371a7d0",
   "metadata": {},
   "outputs": [
    {
     "data": {
      "text/plain": [
       "2.0    742\n",
       "1.0    112\n",
       "Name: LNH, dtype: int64"
      ]
     },
     "execution_count": 10,
     "metadata": {},
     "output_type": "execute_result"
    }
   ],
   "source": [
    "data = data[data['LNH'] != 3]\n",
    "data['LNH'].value_counts()"
   ]
  },
  {
   "cell_type": "markdown",
   "id": "bf367ccc",
   "metadata": {},
   "source": [
    "## Gaussian"
   ]
  },
  {
   "cell_type": "code",
   "execution_count": 11,
   "id": "5f0e5d0a",
   "metadata": {},
   "outputs": [],
   "source": [
    "from sklearn.model_selection import train_test_split\n",
    "from sklearn.ensemble import RandomForestClassifier\n",
    "from sklearn.metrics import confusion_matrix\n",
    "from sklearn.metrics import precision_score, recall_score, f1_score, accuracy_score\n",
    "from sklearn.model_selection import cross_val_predict\n",
    "from sklearn.metrics import classification_report\n",
    "from sklearn.model_selection import train_test_split\n",
    "from sklearn.naive_bayes import GaussianNB"
   ]
  },
  {
   "cell_type": "markdown",
   "id": "5bd22b70",
   "metadata": {},
   "source": [
    "## Podaci bez klase izbačeni, ostale nedostajuće vrijednosti popunjene sa srednjom vrijednošću stupca, hemoglobin popunjen gore navedenom tehnikom"
   ]
  },
  {
   "cell_type": "code",
   "execution_count": 12,
   "id": "9391ecd0",
   "metadata": {},
   "outputs": [],
   "source": [
    "X = data.drop(['LNH', 'BWt(kg)'], axis=1) # remove classes, blood group and baby weight\n",
    "y = data['LNH']\n",
    "\n",
    "X_train, X_test, y_train, y_test = train_test_split(X, y, test_size=0.3) # 70% training and 30% test\n",
    "\n",
    "clf = GaussianNB()\n",
    "clf.fit(X_train, y_train)\n",
    "y_pred=clf.predict(X_test)"
   ]
  },
  {
   "cell_type": "markdown",
   "id": "3c6fa16a",
   "metadata": {},
   "source": [
    "### Rezultati\n",
    "\n",
    "Nažalost nema poboljšanja"
   ]
  },
  {
   "cell_type": "code",
   "execution_count": 13,
   "id": "05171be3",
   "metadata": {},
   "outputs": [
    {
     "name": "stdout",
     "output_type": "stream",
     "text": [
      "              precision    recall  f1-score   support\n",
      "\n",
      "           L       0.36      0.38      0.37        32\n",
      "           N       0.91      0.91      0.91       225\n",
      "\n",
      "    accuracy                           0.84       257\n",
      "   macro avg       0.64      0.64      0.64       257\n",
      "weighted avg       0.84      0.84      0.84       257\n",
      "\n"
     ]
    }
   ],
   "source": [
    "# print scores\n",
    "label_names = ['L', 'N']\n",
    "print(classification_report(y_test, y_pred,target_names=label_names))"
   ]
  },
  {
   "cell_type": "code",
   "execution_count": 14,
   "id": "4cff1301",
   "metadata": {},
   "outputs": [
    {
     "data": {
      "text/html": [
       "<div>\n",
       "<style scoped>\n",
       "    .dataframe tbody tr th:only-of-type {\n",
       "        vertical-align: middle;\n",
       "    }\n",
       "\n",
       "    .dataframe tbody tr th {\n",
       "        vertical-align: top;\n",
       "    }\n",
       "\n",
       "    .dataframe thead th {\n",
       "        text-align: right;\n",
       "    }\n",
       "</style>\n",
       "<table border=\"1\" class=\"dataframe\">\n",
       "  <thead>\n",
       "    <tr style=\"text-align: right;\">\n",
       "      <th></th>\n",
       "      <th>SEC</th>\n",
       "      <th>Age(years)</th>\n",
       "      <th>Height(cm)</th>\n",
       "      <th>Bgroup</th>\n",
       "      <th>Parity</th>\n",
       "      <th>ANC</th>\n",
       "      <th>Iwt(kg)</th>\n",
       "      <th>FWt(kg)</th>\n",
       "      <th>IBP_sys</th>\n",
       "      <th>IBP_dias</th>\n",
       "      <th>FBP_sys</th>\n",
       "      <th>FBP_dias</th>\n",
       "      <th>IHb(gm%)</th>\n",
       "      <th>FHb(gm%)</th>\n",
       "      <th>BS(RBS)</th>\n",
       "      <th>Term/Preterm</th>\n",
       "      <th>Sex</th>\n",
       "    </tr>\n",
       "  </thead>\n",
       "  <tbody>\n",
       "    <tr>\n",
       "      <th>0</th>\n",
       "      <td>2.0</td>\n",
       "      <td>23.0</td>\n",
       "      <td>164.547771</td>\n",
       "      <td>1</td>\n",
       "      <td>1.0</td>\n",
       "      <td>4.0</td>\n",
       "      <td>34.0</td>\n",
       "      <td>42.0</td>\n",
       "      <td>116.0</td>\n",
       "      <td>78.0</td>\n",
       "      <td>120.0</td>\n",
       "      <td>70.0</td>\n",
       "      <td>10.0</td>\n",
       "      <td>13.2</td>\n",
       "      <td>90.0</td>\n",
       "      <td>1.0</td>\n",
       "      <td>1</td>\n",
       "    </tr>\n",
       "    <tr>\n",
       "      <th>1</th>\n",
       "      <td>2.0</td>\n",
       "      <td>25.0</td>\n",
       "      <td>165.000000</td>\n",
       "      <td>5</td>\n",
       "      <td>1.0</td>\n",
       "      <td>3.0</td>\n",
       "      <td>68.0</td>\n",
       "      <td>71.0</td>\n",
       "      <td>96.0</td>\n",
       "      <td>70.0</td>\n",
       "      <td>110.0</td>\n",
       "      <td>72.0</td>\n",
       "      <td>10.4</td>\n",
       "      <td>11.0</td>\n",
       "      <td>96.0</td>\n",
       "      <td>1.0</td>\n",
       "      <td>0</td>\n",
       "    </tr>\n",
       "    <tr>\n",
       "      <th>2</th>\n",
       "      <td>2.0</td>\n",
       "      <td>24.0</td>\n",
       "      <td>155.000000</td>\n",
       "      <td>3</td>\n",
       "      <td>1.0</td>\n",
       "      <td>3.0</td>\n",
       "      <td>49.0</td>\n",
       "      <td>55.0</td>\n",
       "      <td>91.0</td>\n",
       "      <td>52.0</td>\n",
       "      <td>110.0</td>\n",
       "      <td>70.0</td>\n",
       "      <td>11.0</td>\n",
       "      <td>11.6</td>\n",
       "      <td>102.0</td>\n",
       "      <td>1.0</td>\n",
       "      <td>0</td>\n",
       "    </tr>\n",
       "    <tr>\n",
       "      <th>3</th>\n",
       "      <td>2.0</td>\n",
       "      <td>19.0</td>\n",
       "      <td>154.000000</td>\n",
       "      <td>5</td>\n",
       "      <td>1.0</td>\n",
       "      <td>2.0</td>\n",
       "      <td>49.0</td>\n",
       "      <td>50.0</td>\n",
       "      <td>90.0</td>\n",
       "      <td>52.0</td>\n",
       "      <td>100.0</td>\n",
       "      <td>60.0</td>\n",
       "      <td>10.0</td>\n",
       "      <td>10.6</td>\n",
       "      <td>103.0</td>\n",
       "      <td>1.0</td>\n",
       "      <td>1</td>\n",
       "    </tr>\n",
       "    <tr>\n",
       "      <th>4</th>\n",
       "      <td>2.0</td>\n",
       "      <td>21.0</td>\n",
       "      <td>164.547771</td>\n",
       "      <td>5</td>\n",
       "      <td>1.0</td>\n",
       "      <td>4.0</td>\n",
       "      <td>41.0</td>\n",
       "      <td>48.0</td>\n",
       "      <td>100.0</td>\n",
       "      <td>60.0</td>\n",
       "      <td>110.0</td>\n",
       "      <td>70.0</td>\n",
       "      <td>9.0</td>\n",
       "      <td>10.2</td>\n",
       "      <td>99.0</td>\n",
       "      <td>1.0</td>\n",
       "      <td>1</td>\n",
       "    </tr>\n",
       "  </tbody>\n",
       "</table>\n",
       "</div>"
      ],
      "text/plain": [
       "   SEC  Age(years)  Height(cm) Bgroup  Parity  ANC  Iwt(kg)  FWt(kg)  IBP_sys  \\\n",
       "0  2.0        23.0  164.547771      1     1.0  4.0     34.0     42.0    116.0   \n",
       "1  2.0        25.0  165.000000      5     1.0  3.0     68.0     71.0     96.0   \n",
       "2  2.0        24.0  155.000000      3     1.0  3.0     49.0     55.0     91.0   \n",
       "3  2.0        19.0  154.000000      5     1.0  2.0     49.0     50.0     90.0   \n",
       "4  2.0        21.0  164.547771      5     1.0  4.0     41.0     48.0    100.0   \n",
       "\n",
       "   IBP_dias  FBP_sys  FBP_dias  IHb(gm%)  FHb(gm%)  BS(RBS)  Term/Preterm  Sex  \n",
       "0      78.0    120.0      70.0      10.0      13.2     90.0           1.0    1  \n",
       "1      70.0    110.0      72.0      10.4      11.0     96.0           1.0    0  \n",
       "2      52.0    110.0      70.0      11.0      11.6    102.0           1.0    0  \n",
       "3      52.0    100.0      60.0      10.0      10.6    103.0           1.0    1  \n",
       "4      60.0    110.0      70.0       9.0      10.2     99.0           1.0    1  "
      ]
     },
     "execution_count": 14,
     "metadata": {},
     "output_type": "execute_result"
    }
   ],
   "source": [
    "X.head()"
   ]
  },
  {
   "cell_type": "code",
   "execution_count": 15,
   "id": "b09a5244",
   "metadata": {},
   "outputs": [
    {
     "data": {
      "text/plain": [
       "array([[ 12,  20],\n",
       "       [ 21, 204]], dtype=int64)"
      ]
     },
     "execution_count": 15,
     "metadata": {},
     "output_type": "execute_result"
    }
   ],
   "source": [
    "confusion_matrix(y_true=y_test, y_pred=y_pred)"
   ]
  },
  {
   "cell_type": "markdown",
   "id": "86b849d6",
   "metadata": {},
   "source": [
    "## Otkrivanje korelirajućih značajki"
   ]
  },
  {
   "cell_type": "code",
   "execution_count": 16,
   "id": "8b13eeb9",
   "metadata": {},
   "outputs": [
    {
     "name": "stderr",
     "output_type": "stream",
     "text": [
      "C:\\Users\\AntonioB25\\AppData\\Local\\Temp\\ipykernel_16296\\2336296261.py:2: FutureWarning: The default value of numeric_only in DataFrame.corr is deprecated. In a future version, it will default to False. Select only valid columns or specify the value of numeric_only to silence this warning.\n",
      "  correlations = data.corr()\n"
     ]
    },
    {
     "data": {
      "image/png": "[encoded data removed]",
      "text/plain": [
       "<Figure size 2000x2000 with 2 Axes>"
      ]
     },
     "metadata": {},
     "output_type": "display_data"
    }
   ],
   "source": [
    "# Calculate the correlations\n",
    "correlations = data.corr()\n",
    "\n",
    "# Set the figure size\n",
    "plt.figure(figsize=(20, 20))\n",
    "\n",
    "# Plot the heatmap\n",
    "sns.heatmap(correlations, annot=True, cmap=\"RdYlGn\")\n",
    "\n",
    "# Show the plot\n",
    "plt.show()\n"
   ]
  },
  {
   "cell_type": "markdown",
   "id": "cf014f9e",
   "metadata": {},
   "source": [
    "## Uklanjanje korelirajućih značajki"
   ]
  },
  {
   "cell_type": "markdown",
   "id": "fd681399",
   "metadata": {},
   "source": [
    "Imamo nekoliko parova koji su jako korelirajući <br>\n",
    "Uglavnom su to vrijednosti za parametre na početku i na kraju trudnoće <br> <br>\n",
    "To su stupci: <br>\n",
    "`IHb(gm%)`  i  `FHb(gm%)`  - razina hemoglobina<br>\n",
    "`IWt(kg)`  i  `FWt(kg)`  - težina<br>\n",
    "`IBP_dias`  i  `FBP_dias` - dijastolički tlak<br>\n",
    "`IBP_sys`  i  `IBP_sys` - sistolički tlak<br>\n",
    "\n"
   ]
  },
  {
   "cell_type": "markdown",
   "id": "a1ffafd9",
   "metadata": {},
   "source": [
    "### 1. Uklanjamo stupce početnih vrijednosti za gore navedene stupce"
   ]
  },
  {
   "cell_type": "code",
   "execution_count": 17,
   "id": "e99b1539",
   "metadata": {},
   "outputs": [],
   "source": [
    "data2 = data[data.columns.difference([\"IHb(gm%)\", \"Iwt(kg)\", \"IBP_dias\", \"IBP_sys\"])]\n",
    "\n",
    "X = data2.drop(['LNH','Bgroup' ,'BWt(kg)'], axis=1) # remove classes, blood group and baby weight\n",
    "y = data2['LNH']\n",
    "\n",
    "X_train, X_test, y_train, y_test = train_test_split(X, y, test_size=0.3) # 70% training and 30% test\n",
    "\n",
    "clf = GaussianNB()\n",
    "clf.fit(X_train, y_train)\n",
    "y_pred=clf.predict(X_test)"
   ]
  },
  {
   "cell_type": "markdown",
   "id": "f32237af",
   "metadata": {},
   "source": [
    "### Rezultati"
   ]
  },
  {
   "cell_type": "markdown",
   "id": "1063ad99",
   "metadata": {},
   "source": [
    "Malo poboljšanje"
   ]
  },
  {
   "cell_type": "code",
   "execution_count": 18,
   "id": "9b3736bf",
   "metadata": {},
   "outputs": [
    {
     "name": "stdout",
     "output_type": "stream",
     "text": [
      "              precision    recall  f1-score   support\n",
      "\n",
      "           L       0.26      0.24      0.25        29\n",
      "           N       0.90      0.91      0.91       228\n",
      "\n",
      "    accuracy                           0.84       257\n",
      "   macro avg       0.58      0.58      0.58       257\n",
      "weighted avg       0.83      0.84      0.83       257\n",
      "\n"
     ]
    }
   ],
   "source": [
    "# print scores\n",
    "label_names = ['L', 'N']\n",
    "print(classification_report(y_test, y_pred,target_names=label_names))"
   ]
  },
  {
   "cell_type": "code",
   "execution_count": 19,
   "id": "92762930",
   "metadata": {},
   "outputs": [],
   "source": [
    "#data2.head()"
   ]
  },
  {
   "cell_type": "code",
   "execution_count": 20,
   "id": "b4a702a8",
   "metadata": {},
   "outputs": [
    {
     "data": {
      "text/plain": [
       "array([[  7,  22],\n",
       "       [ 20, 208]], dtype=int64)"
      ]
     },
     "execution_count": 20,
     "metadata": {},
     "output_type": "execute_result"
    }
   ],
   "source": [
    "confusion_matrix(y_true=y_test, y_pred=y_pred)"
   ]
  },
  {
   "cell_type": "markdown",
   "id": "87c9b041",
   "metadata": {},
   "source": [
    "## Kao poboljšanje smo odlučili dodati nove stupce koje ćemo izračunati iz postojećih vrijednosti"
   ]
  },
  {
   "cell_type": "markdown",
   "id": "14332483",
   "metadata": {},
   "source": [
    "### 2. Dodavanje novog stupca BMI"
   ]
  },
  {
   "cell_type": "markdown",
   "id": "b76b62f1",
   "metadata": {},
   "source": [
    "Kao poboljšanje smo odlučili dodati novi stupac koji će predstavljati _Body Mass Index (BMI)_ <br>\n",
    "Računamo ga na sljedeći način: <br>\n",
    "### $$BMI = {{{IWt(kg) + FWt(kg)}\\over {2}}\\over {Height(m)}^2}$$"
   ]
  },
  {
   "cell_type": "code",
   "execution_count": 21,
   "id": "9a095e0f",
   "metadata": {},
   "outputs": [
    {
     "data": {
      "text/html": [
       "<div>\n",
       "<style scoped>\n",
       "    .dataframe tbody tr th:only-of-type {\n",
       "        vertical-align: middle;\n",
       "    }\n",
       "\n",
       "    .dataframe tbody tr th {\n",
       "        vertical-align: top;\n",
       "    }\n",
       "\n",
       "    .dataframe thead th {\n",
       "        text-align: right;\n",
       "    }\n",
       "</style>\n",
       "<table border=\"1\" class=\"dataframe\">\n",
       "  <thead>\n",
       "    <tr style=\"text-align: right;\">\n",
       "      <th></th>\n",
       "      <th>SEC</th>\n",
       "      <th>Age(years)</th>\n",
       "      <th>Height(cm)</th>\n",
       "      <th>Bgroup</th>\n",
       "      <th>Parity</th>\n",
       "      <th>ANC</th>\n",
       "      <th>Iwt(kg)</th>\n",
       "      <th>FWt(kg)</th>\n",
       "      <th>IBP_sys</th>\n",
       "      <th>IBP_dias</th>\n",
       "      <th>FBP_sys</th>\n",
       "      <th>FBP_dias</th>\n",
       "      <th>IHb(gm%)</th>\n",
       "      <th>FHb(gm%)</th>\n",
       "      <th>BS(RBS)</th>\n",
       "      <th>Term/Preterm</th>\n",
       "      <th>Sex</th>\n",
       "      <th>BWt(kg)</th>\n",
       "      <th>LNH</th>\n",
       "      <th>BMI</th>\n",
       "    </tr>\n",
       "  </thead>\n",
       "  <tbody>\n",
       "    <tr>\n",
       "      <th>0</th>\n",
       "      <td>2.0</td>\n",
       "      <td>23.0</td>\n",
       "      <td>164.547771</td>\n",
       "      <td>1</td>\n",
       "      <td>1.0</td>\n",
       "      <td>4.0</td>\n",
       "      <td>34.0</td>\n",
       "      <td>42.0</td>\n",
       "      <td>116.0</td>\n",
       "      <td>78.0</td>\n",
       "      <td>120.0</td>\n",
       "      <td>70.0</td>\n",
       "      <td>10.0</td>\n",
       "      <td>13.2</td>\n",
       "      <td>90.0</td>\n",
       "      <td>1.0</td>\n",
       "      <td>1</td>\n",
       "      <td>2.7</td>\n",
       "      <td>2.0</td>\n",
       "      <td>14.034586</td>\n",
       "    </tr>\n",
       "    <tr>\n",
       "      <th>1</th>\n",
       "      <td>2.0</td>\n",
       "      <td>25.0</td>\n",
       "      <td>165.000000</td>\n",
       "      <td>5</td>\n",
       "      <td>1.0</td>\n",
       "      <td>3.0</td>\n",
       "      <td>68.0</td>\n",
       "      <td>71.0</td>\n",
       "      <td>96.0</td>\n",
       "      <td>70.0</td>\n",
       "      <td>110.0</td>\n",
       "      <td>72.0</td>\n",
       "      <td>10.4</td>\n",
       "      <td>11.0</td>\n",
       "      <td>96.0</td>\n",
       "      <td>1.0</td>\n",
       "      <td>0</td>\n",
       "      <td>2.9</td>\n",
       "      <td>2.0</td>\n",
       "      <td>25.528007</td>\n",
       "    </tr>\n",
       "    <tr>\n",
       "      <th>2</th>\n",
       "      <td>2.0</td>\n",
       "      <td>24.0</td>\n",
       "      <td>155.000000</td>\n",
       "      <td>3</td>\n",
       "      <td>1.0</td>\n",
       "      <td>3.0</td>\n",
       "      <td>49.0</td>\n",
       "      <td>55.0</td>\n",
       "      <td>91.0</td>\n",
       "      <td>52.0</td>\n",
       "      <td>110.0</td>\n",
       "      <td>70.0</td>\n",
       "      <td>11.0</td>\n",
       "      <td>11.6</td>\n",
       "      <td>102.0</td>\n",
       "      <td>1.0</td>\n",
       "      <td>0</td>\n",
       "      <td>2.4</td>\n",
       "      <td>1.0</td>\n",
       "      <td>21.644121</td>\n",
       "    </tr>\n",
       "    <tr>\n",
       "      <th>3</th>\n",
       "      <td>2.0</td>\n",
       "      <td>19.0</td>\n",
       "      <td>154.000000</td>\n",
       "      <td>5</td>\n",
       "      <td>1.0</td>\n",
       "      <td>2.0</td>\n",
       "      <td>49.0</td>\n",
       "      <td>50.0</td>\n",
       "      <td>90.0</td>\n",
       "      <td>52.0</td>\n",
       "      <td>100.0</td>\n",
       "      <td>60.0</td>\n",
       "      <td>10.0</td>\n",
       "      <td>10.6</td>\n",
       "      <td>103.0</td>\n",
       "      <td>1.0</td>\n",
       "      <td>1</td>\n",
       "      <td>2.6</td>\n",
       "      <td>2.0</td>\n",
       "      <td>20.871985</td>\n",
       "    </tr>\n",
       "    <tr>\n",
       "      <th>4</th>\n",
       "      <td>2.0</td>\n",
       "      <td>21.0</td>\n",
       "      <td>164.547771</td>\n",
       "      <td>5</td>\n",
       "      <td>1.0</td>\n",
       "      <td>4.0</td>\n",
       "      <td>41.0</td>\n",
       "      <td>48.0</td>\n",
       "      <td>100.0</td>\n",
       "      <td>60.0</td>\n",
       "      <td>110.0</td>\n",
       "      <td>70.0</td>\n",
       "      <td>9.0</td>\n",
       "      <td>10.2</td>\n",
       "      <td>99.0</td>\n",
       "      <td>1.0</td>\n",
       "      <td>1</td>\n",
       "      <td>2.3</td>\n",
       "      <td>1.0</td>\n",
       "      <td>16.435238</td>\n",
       "    </tr>\n",
       "  </tbody>\n",
       "</table>\n",
       "</div>"
      ],
      "text/plain": [
       "   SEC  Age(years)  Height(cm) Bgroup  Parity  ANC  Iwt(kg)  FWt(kg)  IBP_sys  \\\n",
       "0  2.0        23.0  164.547771      1     1.0  4.0     34.0     42.0    116.0   \n",
       "1  2.0        25.0  165.000000      5     1.0  3.0     68.0     71.0     96.0   \n",
       "2  2.0        24.0  155.000000      3     1.0  3.0     49.0     55.0     91.0   \n",
       "3  2.0        19.0  154.000000      5     1.0  2.0     49.0     50.0     90.0   \n",
       "4  2.0        21.0  164.547771      5     1.0  4.0     41.0     48.0    100.0   \n",
       "\n",
       "   IBP_dias  FBP_sys  FBP_dias  IHb(gm%)  FHb(gm%)  BS(RBS)  Term/Preterm  \\\n",
       "0      78.0    120.0      70.0      10.0      13.2     90.0           1.0   \n",
       "1      70.0    110.0      72.0      10.4      11.0     96.0           1.0   \n",
       "2      52.0    110.0      70.0      11.0      11.6    102.0           1.0   \n",
       "3      52.0    100.0      60.0      10.0      10.6    103.0           1.0   \n",
       "4      60.0    110.0      70.0       9.0      10.2     99.0           1.0   \n",
       "\n",
       "   Sex  BWt(kg)  LNH        BMI  \n",
       "0    1      2.7  2.0  14.034586  \n",
       "1    0      2.9  2.0  25.528007  \n",
       "2    0      2.4  1.0  21.644121  \n",
       "3    1      2.6  2.0  20.871985  \n",
       "4    1      2.3  1.0  16.435238  "
      ]
     },
     "execution_count": 21,
     "metadata": {},
     "output_type": "execute_result"
    }
   ],
   "source": [
    "data3 = data.assign(BMI=lambda x: (x['Iwt(kg)'] + x['FWt(kg)']) / 2 / ((x['Height(cm)'] / 100) ** 2))\n",
    "data3.head()"
   ]
  },
  {
   "cell_type": "markdown",
   "id": "0361a823",
   "metadata": {},
   "source": [
    "### Treniranje nad novim podacima"
   ]
  },
  {
   "cell_type": "code",
   "execution_count": 22,
   "id": "85c7d837",
   "metadata": {},
   "outputs": [],
   "source": [
    "# ponovno uklanjanje korelirajućih značajki\n",
    "data3 = data3.drop(columns = [\"IHb(gm%)\", \"Iwt(kg)\", \"IBP_dias\", \"IBP_sys\"])\n",
    "\n",
    "X = data3.drop(['LNH', 'Bgroup', 'BWt(kg)'], axis=1) # remove classes, blood group and baby weight\n",
    "y = data3['LNH']\n",
    "\n",
    "X_train, X_test, y_train, y_test = train_test_split(X, y, test_size=0.3) # 70% training and 30% test\n",
    "\n",
    "clf = GaussianNB()\n",
    "clf.fit(X_train, y_train)\n",
    "y_pred=clf.predict(X_test)\n",
    "\n"
   ]
  },
  {
   "cell_type": "markdown",
   "id": "9a69375a",
   "metadata": {},
   "source": [
    "### Rezultati\n",
    "\n",
    "Nažalost ne vidimo neko poboljšanje"
   ]
  },
  {
   "cell_type": "code",
   "execution_count": 23,
   "id": "810fb56a",
   "metadata": {},
   "outputs": [
    {
     "name": "stdout",
     "output_type": "stream",
     "text": [
      "              precision    recall  f1-score   support\n",
      "\n",
      "           L       0.24      0.46      0.32        26\n",
      "           N       0.93      0.84      0.88       231\n",
      "\n",
      "    accuracy                           0.80       257\n",
      "   macro avg       0.59      0.65      0.60       257\n",
      "weighted avg       0.86      0.80      0.82       257\n",
      "\n"
     ]
    }
   ],
   "source": [
    "# print scores\n",
    "label_names = ['L', 'N']\n",
    "print(classification_report(y_test, y_pred,target_names=label_names))"
   ]
  },
  {
   "cell_type": "code",
   "execution_count": 24,
   "id": "b12535be",
   "metadata": {},
   "outputs": [
    {
     "data": {
      "text/plain": [
       "array([[ 12,  14],\n",
       "       [ 38, 193]], dtype=int64)"
      ]
     },
     "execution_count": 24,
     "metadata": {},
     "output_type": "execute_result"
    }
   ],
   "source": [
    "confusion_matrix(y_true=y_test, y_pred=y_pred)"
   ]
  },
  {
   "cell_type": "markdown",
   "id": "5880b24e",
   "metadata": {},
   "source": [
    "### 3. Dodavanje stupaca koji su prosjeci vrijednosti na početku i na kraju trudnoće (težina, sistolički tlak, dijastolički tlak, razina hemoglobina)"
   ]
  },
  {
   "cell_type": "code",
   "execution_count": 25,
   "id": "1b97d69d",
   "metadata": {},
   "outputs": [],
   "source": [
    "data4 = data.assign(Avg_wt=lambda x: (x['Iwt(kg)'] + x['FWt(kg)']) / 2,\n",
    "                Avg_dbp=lambda x: ( x['IBP_dias'] + x['FBP_dias']) / 2,\n",
    "                Avg_sbp=lambda x: (x['IBP_sys'] + x['FBP_sys']) / 2, \n",
    "                Avg_hb=lambda x: (x['IHb(gm%)'] + x['FHb(gm%)']) / 2)\n"
   ]
  },
  {
   "cell_type": "code",
   "execution_count": 26,
   "id": "78c70b71",
   "metadata": {},
   "outputs": [
    {
     "data": {
      "text/html": [
       "<div>\n",
       "<style scoped>\n",
       "    .dataframe tbody tr th:only-of-type {\n",
       "        vertical-align: middle;\n",
       "    }\n",
       "\n",
       "    .dataframe tbody tr th {\n",
       "        vertical-align: top;\n",
       "    }\n",
       "\n",
       "    .dataframe thead th {\n",
       "        text-align: right;\n",
       "    }\n",
       "</style>\n",
       "<table border=\"1\" class=\"dataframe\">\n",
       "  <thead>\n",
       "    <tr style=\"text-align: right;\">\n",
       "      <th></th>\n",
       "      <th>SEC</th>\n",
       "      <th>Age(years)</th>\n",
       "      <th>Height(cm)</th>\n",
       "      <th>Bgroup</th>\n",
       "      <th>Parity</th>\n",
       "      <th>ANC</th>\n",
       "      <th>Iwt(kg)</th>\n",
       "      <th>FWt(kg)</th>\n",
       "      <th>IBP_sys</th>\n",
       "      <th>IBP_dias</th>\n",
       "      <th>...</th>\n",
       "      <th>FHb(gm%)</th>\n",
       "      <th>BS(RBS)</th>\n",
       "      <th>Term/Preterm</th>\n",
       "      <th>Sex</th>\n",
       "      <th>BWt(kg)</th>\n",
       "      <th>LNH</th>\n",
       "      <th>Avg_wt</th>\n",
       "      <th>Avg_dbp</th>\n",
       "      <th>Avg_sbp</th>\n",
       "      <th>Avg_hb</th>\n",
       "    </tr>\n",
       "  </thead>\n",
       "  <tbody>\n",
       "    <tr>\n",
       "      <th>0</th>\n",
       "      <td>2.0</td>\n",
       "      <td>23.0</td>\n",
       "      <td>164.547771</td>\n",
       "      <td>1</td>\n",
       "      <td>1.0</td>\n",
       "      <td>4.0</td>\n",
       "      <td>34.0</td>\n",
       "      <td>42.0</td>\n",
       "      <td>116.0</td>\n",
       "      <td>78.0</td>\n",
       "      <td>...</td>\n",
       "      <td>13.2</td>\n",
       "      <td>90.0</td>\n",
       "      <td>1.0</td>\n",
       "      <td>1</td>\n",
       "      <td>2.7</td>\n",
       "      <td>2.0</td>\n",
       "      <td>38.0</td>\n",
       "      <td>74.0</td>\n",
       "      <td>118.0</td>\n",
       "      <td>11.6</td>\n",
       "    </tr>\n",
       "    <tr>\n",
       "      <th>1</th>\n",
       "      <td>2.0</td>\n",
       "      <td>25.0</td>\n",
       "      <td>165.000000</td>\n",
       "      <td>5</td>\n",
       "      <td>1.0</td>\n",
       "      <td>3.0</td>\n",
       "      <td>68.0</td>\n",
       "      <td>71.0</td>\n",
       "      <td>96.0</td>\n",
       "      <td>70.0</td>\n",
       "      <td>...</td>\n",
       "      <td>11.0</td>\n",
       "      <td>96.0</td>\n",
       "      <td>1.0</td>\n",
       "      <td>0</td>\n",
       "      <td>2.9</td>\n",
       "      <td>2.0</td>\n",
       "      <td>69.5</td>\n",
       "      <td>71.0</td>\n",
       "      <td>103.0</td>\n",
       "      <td>10.7</td>\n",
       "    </tr>\n",
       "    <tr>\n",
       "      <th>2</th>\n",
       "      <td>2.0</td>\n",
       "      <td>24.0</td>\n",
       "      <td>155.000000</td>\n",
       "      <td>3</td>\n",
       "      <td>1.0</td>\n",
       "      <td>3.0</td>\n",
       "      <td>49.0</td>\n",
       "      <td>55.0</td>\n",
       "      <td>91.0</td>\n",
       "      <td>52.0</td>\n",
       "      <td>...</td>\n",
       "      <td>11.6</td>\n",
       "      <td>102.0</td>\n",
       "      <td>1.0</td>\n",
       "      <td>0</td>\n",
       "      <td>2.4</td>\n",
       "      <td>1.0</td>\n",
       "      <td>52.0</td>\n",
       "      <td>61.0</td>\n",
       "      <td>100.5</td>\n",
       "      <td>11.3</td>\n",
       "    </tr>\n",
       "    <tr>\n",
       "      <th>3</th>\n",
       "      <td>2.0</td>\n",
       "      <td>19.0</td>\n",
       "      <td>154.000000</td>\n",
       "      <td>5</td>\n",
       "      <td>1.0</td>\n",
       "      <td>2.0</td>\n",
       "      <td>49.0</td>\n",
       "      <td>50.0</td>\n",
       "      <td>90.0</td>\n",
       "      <td>52.0</td>\n",
       "      <td>...</td>\n",
       "      <td>10.6</td>\n",
       "      <td>103.0</td>\n",
       "      <td>1.0</td>\n",
       "      <td>1</td>\n",
       "      <td>2.6</td>\n",
       "      <td>2.0</td>\n",
       "      <td>49.5</td>\n",
       "      <td>56.0</td>\n",
       "      <td>95.0</td>\n",
       "      <td>10.3</td>\n",
       "    </tr>\n",
       "    <tr>\n",
       "      <th>4</th>\n",
       "      <td>2.0</td>\n",
       "      <td>21.0</td>\n",
       "      <td>164.547771</td>\n",
       "      <td>5</td>\n",
       "      <td>1.0</td>\n",
       "      <td>4.0</td>\n",
       "      <td>41.0</td>\n",
       "      <td>48.0</td>\n",
       "      <td>100.0</td>\n",
       "      <td>60.0</td>\n",
       "      <td>...</td>\n",
       "      <td>10.2</td>\n",
       "      <td>99.0</td>\n",
       "      <td>1.0</td>\n",
       "      <td>1</td>\n",
       "      <td>2.3</td>\n",
       "      <td>1.0</td>\n",
       "      <td>44.5</td>\n",
       "      <td>65.0</td>\n",
       "      <td>105.0</td>\n",
       "      <td>9.6</td>\n",
       "    </tr>\n",
       "  </tbody>\n",
       "</table>\n",
       "<p>5 rows × 23 columns</p>\n",
       "</div>"
      ],
      "text/plain": [
       "   SEC  Age(years)  Height(cm) Bgroup  Parity  ANC  Iwt(kg)  FWt(kg)  IBP_sys  \\\n",
       "0  2.0        23.0  164.547771      1     1.0  4.0     34.0     42.0    116.0   \n",
       "1  2.0        25.0  165.000000      5     1.0  3.0     68.0     71.0     96.0   \n",
       "2  2.0        24.0  155.000000      3     1.0  3.0     49.0     55.0     91.0   \n",
       "3  2.0        19.0  154.000000      5     1.0  2.0     49.0     50.0     90.0   \n",
       "4  2.0        21.0  164.547771      5     1.0  4.0     41.0     48.0    100.0   \n",
       "\n",
       "   IBP_dias  ...  FHb(gm%)  BS(RBS)  Term/Preterm  Sex  BWt(kg)  LNH  Avg_wt  \\\n",
       "0      78.0  ...      13.2     90.0           1.0    1      2.7  2.0    38.0   \n",
       "1      70.0  ...      11.0     96.0           1.0    0      2.9  2.0    69.5   \n",
       "2      52.0  ...      11.6    102.0           1.0    0      2.4  1.0    52.0   \n",
       "3      52.0  ...      10.6    103.0           1.0    1      2.6  2.0    49.5   \n",
       "4      60.0  ...      10.2     99.0           1.0    1      2.3  1.0    44.5   \n",
       "\n",
       "   Avg_dbp  Avg_sbp  Avg_hb  \n",
       "0     74.0    118.0    11.6  \n",
       "1     71.0    103.0    10.7  \n",
       "2     61.0    100.5    11.3  \n",
       "3     56.0     95.0    10.3  \n",
       "4     65.0    105.0     9.6  \n",
       "\n",
       "[5 rows x 23 columns]"
      ]
     },
     "execution_count": 26,
     "metadata": {},
     "output_type": "execute_result"
    }
   ],
   "source": [
    "data4.head()"
   ]
  },
  {
   "cell_type": "markdown",
   "id": "29f23808",
   "metadata": {},
   "source": [
    "#### Izbacivanje svih početnih i konačnih stupaca"
   ]
  },
  {
   "cell_type": "code",
   "execution_count": 27,
   "id": "cbc00847",
   "metadata": {},
   "outputs": [],
   "source": [
    "data4 = data4.drop(columns=[\"Iwt(kg)\", \"FWt(kg)\", \"IBP_sys\", \"FBP_sys\", \"IBP_dias\", \"FBP_dias\", \"IHb(gm%)\", \"FHb(gm%)\"])"
   ]
  },
  {
   "cell_type": "code",
   "execution_count": 28,
   "id": "e02e413a",
   "metadata": {},
   "outputs": [
    {
     "data": {
      "text/html": [
       "<div>\n",
       "<style scoped>\n",
       "    .dataframe tbody tr th:only-of-type {\n",
       "        vertical-align: middle;\n",
       "    }\n",
       "\n",
       "    .dataframe tbody tr th {\n",
       "        vertical-align: top;\n",
       "    }\n",
       "\n",
       "    .dataframe thead th {\n",
       "        text-align: right;\n",
       "    }\n",
       "</style>\n",
       "<table border=\"1\" class=\"dataframe\">\n",
       "  <thead>\n",
       "    <tr style=\"text-align: right;\">\n",
       "      <th></th>\n",
       "      <th>SEC</th>\n",
       "      <th>Age(years)</th>\n",
       "      <th>Height(cm)</th>\n",
       "      <th>Bgroup</th>\n",
       "      <th>Parity</th>\n",
       "      <th>ANC</th>\n",
       "      <th>BS(RBS)</th>\n",
       "      <th>Term/Preterm</th>\n",
       "      <th>Sex</th>\n",
       "      <th>BWt(kg)</th>\n",
       "      <th>LNH</th>\n",
       "      <th>Avg_wt</th>\n",
       "      <th>Avg_dbp</th>\n",
       "      <th>Avg_sbp</th>\n",
       "      <th>Avg_hb</th>\n",
       "    </tr>\n",
       "  </thead>\n",
       "  <tbody>\n",
       "    <tr>\n",
       "      <th>0</th>\n",
       "      <td>2.0</td>\n",
       "      <td>23.0</td>\n",
       "      <td>164.547771</td>\n",
       "      <td>1</td>\n",
       "      <td>1.0</td>\n",
       "      <td>4.0</td>\n",
       "      <td>90.0</td>\n",
       "      <td>1.0</td>\n",
       "      <td>1</td>\n",
       "      <td>2.7</td>\n",
       "      <td>2.0</td>\n",
       "      <td>38.0</td>\n",
       "      <td>74.0</td>\n",
       "      <td>118.0</td>\n",
       "      <td>11.6</td>\n",
       "    </tr>\n",
       "    <tr>\n",
       "      <th>1</th>\n",
       "      <td>2.0</td>\n",
       "      <td>25.0</td>\n",
       "      <td>165.000000</td>\n",
       "      <td>5</td>\n",
       "      <td>1.0</td>\n",
       "      <td>3.0</td>\n",
       "      <td>96.0</td>\n",
       "      <td>1.0</td>\n",
       "      <td>0</td>\n",
       "      <td>2.9</td>\n",
       "      <td>2.0</td>\n",
       "      <td>69.5</td>\n",
       "      <td>71.0</td>\n",
       "      <td>103.0</td>\n",
       "      <td>10.7</td>\n",
       "    </tr>\n",
       "    <tr>\n",
       "      <th>2</th>\n",
       "      <td>2.0</td>\n",
       "      <td>24.0</td>\n",
       "      <td>155.000000</td>\n",
       "      <td>3</td>\n",
       "      <td>1.0</td>\n",
       "      <td>3.0</td>\n",
       "      <td>102.0</td>\n",
       "      <td>1.0</td>\n",
       "      <td>0</td>\n",
       "      <td>2.4</td>\n",
       "      <td>1.0</td>\n",
       "      <td>52.0</td>\n",
       "      <td>61.0</td>\n",
       "      <td>100.5</td>\n",
       "      <td>11.3</td>\n",
       "    </tr>\n",
       "    <tr>\n",
       "      <th>3</th>\n",
       "      <td>2.0</td>\n",
       "      <td>19.0</td>\n",
       "      <td>154.000000</td>\n",
       "      <td>5</td>\n",
       "      <td>1.0</td>\n",
       "      <td>2.0</td>\n",
       "      <td>103.0</td>\n",
       "      <td>1.0</td>\n",
       "      <td>1</td>\n",
       "      <td>2.6</td>\n",
       "      <td>2.0</td>\n",
       "      <td>49.5</td>\n",
       "      <td>56.0</td>\n",
       "      <td>95.0</td>\n",
       "      <td>10.3</td>\n",
       "    </tr>\n",
       "    <tr>\n",
       "      <th>4</th>\n",
       "      <td>2.0</td>\n",
       "      <td>21.0</td>\n",
       "      <td>164.547771</td>\n",
       "      <td>5</td>\n",
       "      <td>1.0</td>\n",
       "      <td>4.0</td>\n",
       "      <td>99.0</td>\n",
       "      <td>1.0</td>\n",
       "      <td>1</td>\n",
       "      <td>2.3</td>\n",
       "      <td>1.0</td>\n",
       "      <td>44.5</td>\n",
       "      <td>65.0</td>\n",
       "      <td>105.0</td>\n",
       "      <td>9.6</td>\n",
       "    </tr>\n",
       "  </tbody>\n",
       "</table>\n",
       "</div>"
      ],
      "text/plain": [
       "   SEC  Age(years)  Height(cm) Bgroup  Parity  ANC  BS(RBS)  Term/Preterm  \\\n",
       "0  2.0        23.0  164.547771      1     1.0  4.0     90.0           1.0   \n",
       "1  2.0        25.0  165.000000      5     1.0  3.0     96.0           1.0   \n",
       "2  2.0        24.0  155.000000      3     1.0  3.0    102.0           1.0   \n",
       "3  2.0        19.0  154.000000      5     1.0  2.0    103.0           1.0   \n",
       "4  2.0        21.0  164.547771      5     1.0  4.0     99.0           1.0   \n",
       "\n",
       "   Sex  BWt(kg)  LNH  Avg_wt  Avg_dbp  Avg_sbp  Avg_hb  \n",
       "0    1      2.7  2.0    38.0     74.0    118.0    11.6  \n",
       "1    0      2.9  2.0    69.5     71.0    103.0    10.7  \n",
       "2    0      2.4  1.0    52.0     61.0    100.5    11.3  \n",
       "3    1      2.6  2.0    49.5     56.0     95.0    10.3  \n",
       "4    1      2.3  1.0    44.5     65.0    105.0     9.6  "
      ]
     },
     "execution_count": 28,
     "metadata": {},
     "output_type": "execute_result"
    }
   ],
   "source": [
    "data4.head()"
   ]
  },
  {
   "cell_type": "markdown",
   "id": "9beeada5",
   "metadata": {},
   "source": [
    "### Treniranje nad novim podacima"
   ]
  },
  {
   "cell_type": "code",
   "execution_count": 29,
   "id": "22fa6741",
   "metadata": {},
   "outputs": [],
   "source": [
    "#data4 = data4.drop(columns = [\"IHb(gm%)\", \"Iwt(kg)\", \"IBP_dias\", \"IBP_sys\"])\n",
    "\n",
    "X = data4.drop(['LNH', 'Bgroup', 'BWt(kg)'], axis=1) # remove classes, blood group and baby weight\n",
    "y = data4['LNH']\n",
    "\n",
    "X_train, X_test, y_train, y_test = train_test_split(X, y, test_size=0.3) # 70% training and 30% test\n",
    "\n",
    "clf = GaussianNB()\n",
    "clf.fit(X_train, y_train)\n",
    "y_pred=clf.predict(X_test)"
   ]
  },
  {
   "cell_type": "markdown",
   "id": "d06b41a0",
   "metadata": {},
   "source": [
    "### Rezultati\n",
    "\n",
    "Nažalost nema poboljšanja, zapravo, rezultati su lošiji"
   ]
  },
  {
   "cell_type": "code",
   "execution_count": 30,
   "id": "d9994cd3",
   "metadata": {},
   "outputs": [
    {
     "name": "stdout",
     "output_type": "stream",
     "text": [
      "              precision    recall  f1-score   support\n",
      "\n",
      "           L       0.31      0.39      0.35        28\n",
      "           N       0.92      0.90      0.91       229\n",
      "\n",
      "    accuracy                           0.84       257\n",
      "   macro avg       0.62      0.64      0.63       257\n",
      "weighted avg       0.86      0.84      0.85       257\n",
      "\n"
     ]
    }
   ],
   "source": [
    "# print scores\n",
    "label_names = ['L', 'N']\n",
    "print(classification_report(y_test, y_pred,target_names=label_names))"
   ]
  },
  {
   "cell_type": "code",
   "execution_count": 31,
   "id": "6cee5b76",
   "metadata": {},
   "outputs": [
    {
     "data": {
      "text/plain": [
       "array([[ 11,  17],\n",
       "       [ 24, 205]], dtype=int64)"
      ]
     },
     "execution_count": 31,
     "metadata": {},
     "output_type": "execute_result"
    }
   ],
   "source": [
    "confusion_matrix(y_true=y_test, y_pred=y_pred)"
   ]
  },
  {
   "cell_type": "markdown",
   "id": "ec94a61a",
   "metadata": {},
   "source": [
    "### 4. Dodavanje BMI na data4"
   ]
  },
  {
   "cell_type": "code",
   "execution_count": 32,
   "id": "0867d3c4",
   "metadata": {},
   "outputs": [
    {
     "data": {
      "text/html": [
       "<div>\n",
       "<style scoped>\n",
       "    .dataframe tbody tr th:only-of-type {\n",
       "        vertical-align: middle;\n",
       "    }\n",
       "\n",
       "    .dataframe tbody tr th {\n",
       "        vertical-align: top;\n",
       "    }\n",
       "\n",
       "    .dataframe thead th {\n",
       "        text-align: right;\n",
       "    }\n",
       "</style>\n",
       "<table border=\"1\" class=\"dataframe\">\n",
       "  <thead>\n",
       "    <tr style=\"text-align: right;\">\n",
       "      <th></th>\n",
       "      <th>SEC</th>\n",
       "      <th>Age(years)</th>\n",
       "      <th>Height(cm)</th>\n",
       "      <th>Bgroup</th>\n",
       "      <th>Parity</th>\n",
       "      <th>ANC</th>\n",
       "      <th>BS(RBS)</th>\n",
       "      <th>Term/Preterm</th>\n",
       "      <th>Sex</th>\n",
       "      <th>BWt(kg)</th>\n",
       "      <th>LNH</th>\n",
       "      <th>Avg_wt</th>\n",
       "      <th>Avg_dbp</th>\n",
       "      <th>Avg_sbp</th>\n",
       "      <th>Avg_hb</th>\n",
       "      <th>BMI</th>\n",
       "    </tr>\n",
       "  </thead>\n",
       "  <tbody>\n",
       "    <tr>\n",
       "      <th>0</th>\n",
       "      <td>2.0</td>\n",
       "      <td>23.0</td>\n",
       "      <td>164.547771</td>\n",
       "      <td>1</td>\n",
       "      <td>1.0</td>\n",
       "      <td>4.0</td>\n",
       "      <td>90.0</td>\n",
       "      <td>1.0</td>\n",
       "      <td>1</td>\n",
       "      <td>2.7</td>\n",
       "      <td>2.0</td>\n",
       "      <td>38.0</td>\n",
       "      <td>74.0</td>\n",
       "      <td>118.0</td>\n",
       "      <td>11.6</td>\n",
       "      <td>7.017293</td>\n",
       "    </tr>\n",
       "    <tr>\n",
       "      <th>1</th>\n",
       "      <td>2.0</td>\n",
       "      <td>25.0</td>\n",
       "      <td>165.000000</td>\n",
       "      <td>5</td>\n",
       "      <td>1.0</td>\n",
       "      <td>3.0</td>\n",
       "      <td>96.0</td>\n",
       "      <td>1.0</td>\n",
       "      <td>0</td>\n",
       "      <td>2.9</td>\n",
       "      <td>2.0</td>\n",
       "      <td>69.5</td>\n",
       "      <td>71.0</td>\n",
       "      <td>103.0</td>\n",
       "      <td>10.7</td>\n",
       "      <td>12.764004</td>\n",
       "    </tr>\n",
       "    <tr>\n",
       "      <th>2</th>\n",
       "      <td>2.0</td>\n",
       "      <td>24.0</td>\n",
       "      <td>155.000000</td>\n",
       "      <td>3</td>\n",
       "      <td>1.0</td>\n",
       "      <td>3.0</td>\n",
       "      <td>102.0</td>\n",
       "      <td>1.0</td>\n",
       "      <td>0</td>\n",
       "      <td>2.4</td>\n",
       "      <td>1.0</td>\n",
       "      <td>52.0</td>\n",
       "      <td>61.0</td>\n",
       "      <td>100.5</td>\n",
       "      <td>11.3</td>\n",
       "      <td>10.822060</td>\n",
       "    </tr>\n",
       "    <tr>\n",
       "      <th>3</th>\n",
       "      <td>2.0</td>\n",
       "      <td>19.0</td>\n",
       "      <td>154.000000</td>\n",
       "      <td>5</td>\n",
       "      <td>1.0</td>\n",
       "      <td>2.0</td>\n",
       "      <td>103.0</td>\n",
       "      <td>1.0</td>\n",
       "      <td>1</td>\n",
       "      <td>2.6</td>\n",
       "      <td>2.0</td>\n",
       "      <td>49.5</td>\n",
       "      <td>56.0</td>\n",
       "      <td>95.0</td>\n",
       "      <td>10.3</td>\n",
       "      <td>10.435993</td>\n",
       "    </tr>\n",
       "    <tr>\n",
       "      <th>4</th>\n",
       "      <td>2.0</td>\n",
       "      <td>21.0</td>\n",
       "      <td>164.547771</td>\n",
       "      <td>5</td>\n",
       "      <td>1.0</td>\n",
       "      <td>4.0</td>\n",
       "      <td>99.0</td>\n",
       "      <td>1.0</td>\n",
       "      <td>1</td>\n",
       "      <td>2.3</td>\n",
       "      <td>1.0</td>\n",
       "      <td>44.5</td>\n",
       "      <td>65.0</td>\n",
       "      <td>105.0</td>\n",
       "      <td>9.6</td>\n",
       "      <td>8.217619</td>\n",
       "    </tr>\n",
       "  </tbody>\n",
       "</table>\n",
       "</div>"
      ],
      "text/plain": [
       "   SEC  Age(years)  Height(cm) Bgroup  Parity  ANC  BS(RBS)  Term/Preterm  \\\n",
       "0  2.0        23.0  164.547771      1     1.0  4.0     90.0           1.0   \n",
       "1  2.0        25.0  165.000000      5     1.0  3.0     96.0           1.0   \n",
       "2  2.0        24.0  155.000000      3     1.0  3.0    102.0           1.0   \n",
       "3  2.0        19.0  154.000000      5     1.0  2.0    103.0           1.0   \n",
       "4  2.0        21.0  164.547771      5     1.0  4.0     99.0           1.0   \n",
       "\n",
       "   Sex  BWt(kg)  LNH  Avg_wt  Avg_dbp  Avg_sbp  Avg_hb        BMI  \n",
       "0    1      2.7  2.0    38.0     74.0    118.0    11.6   7.017293  \n",
       "1    0      2.9  2.0    69.5     71.0    103.0    10.7  12.764004  \n",
       "2    0      2.4  1.0    52.0     61.0    100.5    11.3  10.822060  \n",
       "3    1      2.6  2.0    49.5     56.0     95.0    10.3  10.435993  \n",
       "4    1      2.3  1.0    44.5     65.0    105.0     9.6   8.217619  "
      ]
     },
     "execution_count": 32,
     "metadata": {},
     "output_type": "execute_result"
    }
   ],
   "source": [
    "data5 = data4.assign(BMI=lambda x: x['Avg_wt'] / 2 / ((x['Height(cm)'] / 100) ** 2))\n",
    "data5.head()"
   ]
  },
  {
   "cell_type": "markdown",
   "id": "ccbc9c68",
   "metadata": {},
   "source": [
    "### Treniranje"
   ]
  },
  {
   "cell_type": "code",
   "execution_count": 33,
   "id": "467110db",
   "metadata": {},
   "outputs": [],
   "source": [
    "\n",
    "X = data5.drop(['LNH', 'Bgroup', 'BWt(kg)'], axis=1) # remove classes, blood group and baby weight\n",
    "y = data5['LNH']\n",
    "\n",
    "X_train, X_test, y_train, y_test = train_test_split(X, y, test_size=0.3) # 70% training and 30% test\n",
    "\n",
    "clf = GaussianNB()\n",
    "clf.fit(X_train, y_train)\n",
    "y_pred=clf.predict(X_test)\n"
   ]
  },
  {
   "cell_type": "markdown",
   "id": "7562b1f1",
   "metadata": {},
   "source": [
    "### Rezultati\n",
    "Nažalost nema poboljšanja"
   ]
  },
  {
   "cell_type": "code",
   "execution_count": 34,
   "id": "683a866f",
   "metadata": {},
   "outputs": [
    {
     "name": "stdout",
     "output_type": "stream",
     "text": [
      "              precision    recall  f1-score   support\n",
      "\n",
      "           L       0.37      0.45      0.40        38\n",
      "           N       0.90      0.87      0.88       219\n",
      "\n",
      "    accuracy                           0.81       257\n",
      "   macro avg       0.64      0.66      0.64       257\n",
      "weighted avg       0.82      0.81      0.81       257\n",
      "\n"
     ]
    }
   ],
   "source": [
    "# print scores\n",
    "label_names = ['L', 'N']\n",
    "print(classification_report(y_test, y_pred,target_names=label_names))"
   ]
  },
  {
   "cell_type": "code",
   "execution_count": 35,
   "id": "a6bb0bad",
   "metadata": {},
   "outputs": [
    {
     "data": {
      "text/plain": [
       "array([[ 17,  21],\n",
       "       [ 29, 190]], dtype=int64)"
      ]
     },
     "execution_count": 35,
     "metadata": {},
     "output_type": "execute_result"
    }
   ],
   "source": [
    "confusion_matrix(y_true=y_test, y_pred=y_pred)"
   ]
  },
  {
   "cell_type": "markdown",
   "id": "17d7ba39",
   "metadata": {},
   "source": [
    "# Korištenje drugog klasifikatora\n",
    "# Logistička regresija"
   ]
  },
  {
   "cell_type": "code",
   "execution_count": 36,
   "id": "dcd53635",
   "metadata": {},
   "outputs": [],
   "source": [
    "from sklearn.model_selection import GridSearchCV\n",
    "from sklearn.linear_model import LogisticRegression\n",
    "import copy\n",
    "import warnings\n",
    "\n",
    "\n",
    "lr_data = copy.deepcopy(data)"
   ]
  },
  {
   "cell_type": "code",
   "execution_count": 37,
   "id": "9618091a",
   "metadata": {},
   "outputs": [],
   "source": [
    "X = lr_data.drop(['LNH', 'BWt(kg)', 'Bgroup'], axis=1) # remove classes, blood group and baby weight\n",
    "y = lr_data['LNH']\n",
    "\n",
    "X_train, X_test, y_train, y_test = train_test_split(X, y, test_size=0.3) # 70% training and 30% test"
   ]
  },
  {
   "cell_type": "markdown",
   "id": "4eb61535",
   "metadata": {},
   "source": [
    "### Pronalazak najboljih parametara"
   ]
  },
  {
   "cell_type": "code",
   "execution_count": 38,
   "id": "d2f9094f",
   "metadata": {},
   "outputs": [
    {
     "name": "stdout",
     "output_type": "stream",
     "text": [
      "Najbolji parametri:  {'C': 0.001, 'fit_intercept': True, 'penalty': 'l1', 'solver': 'liblinear'}\n"
     ]
    }
   ],
   "source": [
    "warnings.filterwarnings('ignore')\n",
    "\n",
    "param_grid = {'penalty': ['l1','l2','elasticnet','none'],\n",
    "             'C': [0.001, 0.01, 0.1, 1, 10],\n",
    "             'fit_intercept': [True, False],\n",
    "             'solver': ['newton-cg', 'lbfgs', 'liblinear', 'sag']}\n",
    "clf = LogisticRegression()\n",
    "grid = GridSearchCV(clf, param_grid, cv=5)\n",
    "grid.fit(X_train, y_train)\n",
    "print(\"Najbolji parametri: \",grid.best_params_)"
   ]
  },
  {
   "cell_type": "markdown",
   "id": "92ea02aa",
   "metadata": {},
   "source": [
    "### Kreiranje klasifikatora"
   ]
  },
  {
   "cell_type": "code",
   "execution_count": 39,
   "id": "bb890180",
   "metadata": {},
   "outputs": [],
   "source": [
    "clf = LogisticRegression(C=1, fit_intercept=True, penalty='l2', solver='newton-cg')"
   ]
  },
  {
   "cell_type": "markdown",
   "id": "0f65e9c0",
   "metadata": {},
   "source": [
    "### Treniranje nad početnim podacima"
   ]
  },
  {
   "cell_type": "code",
   "execution_count": 40,
   "id": "9e23bfd8",
   "metadata": {},
   "outputs": [
    {
     "data": {
      "text/html": [
       "<style>#sk-container-id-1 {color: black;background-color: white;}#sk-container-id-1 pre{padding: 0;}#sk-container-id-1 div.sk-toggleable {background-color: white;}#sk-container-id-1 label.sk-toggleable__label {cursor: pointer;display: block;width: 100%;margin-bottom: 0;padding: 0.3em;box-sizing: border-box;text-align: center;}#sk-container-id-1 label.sk-toggleable__label-arrow:before {content: \"▸\";float: left;margin-right: 0.25em;color: #696969;}#sk-container-id-1 label.sk-toggleable__label-arrow:hover:before {color: black;}#sk-container-id-1 div.sk-estimator:hover label.sk-toggleable__label-arrow:before {color: black;}#sk-container-id-1 div.sk-toggleable__content {max-height: 0;max-width: 0;overflow: hidden;text-align: left;background-color: #f0f8ff;}#sk-container-id-1 div.sk-toggleable__content pre {margin: 0.2em;color: black;border-radius: 0.25em;background-color: #f0f8ff;}#sk-container-id-1 input.sk-toggleable__control:checked~div.sk-toggleable__content {max-height: 200px;max-width: 100%;overflow: auto;}#sk-container-id-1 input.sk-toggleable__control:checked~label.sk-toggleable__label-arrow:before {content: \"▾\";}#sk-container-id-1 div.sk-estimator input.sk-toggleable__control:checked~label.sk-toggleable__label {background-color: #d4ebff;}#sk-container-id-1 div.sk-label input.sk-toggleable__control:checked~label.sk-toggleable__label {background-color: #d4ebff;}#sk-container-id-1 input.sk-hidden--visually {border: 0;clip: rect(1px 1px 1px 1px);clip: rect(1px, 1px, 1px, 1px);height: 1px;margin: -1px;overflow: hidden;padding: 0;position: absolute;width: 1px;}#sk-container-id-1 div.sk-estimator {font-family: monospace;background-color: #f0f8ff;border: 1px dotted black;border-radius: 0.25em;box-sizing: border-box;margin-bottom: 0.5em;}#sk-container-id-1 div.sk-estimator:hover {background-color: #d4ebff;}#sk-container-id-1 div.sk-parallel-item::after {content: \"\";width: 100%;border-bottom: 1px solid gray;flex-grow: 1;}#sk-container-id-1 div.sk-label:hover label.sk-toggleable__label {background-color: #d4ebff;}#sk-container-id-1 div.sk-serial::before {content: \"\";position: absolute;border-left: 1px solid gray;box-sizing: border-box;top: 0;bottom: 0;left: 50%;z-index: 0;}#sk-container-id-1 div.sk-serial {display: flex;flex-direction: column;align-items: center;background-color: white;padding-right: 0.2em;padding-left: 0.2em;position: relative;}#sk-container-id-1 div.sk-item {position: relative;z-index: 1;}#sk-container-id-1 div.sk-parallel {display: flex;align-items: stretch;justify-content: center;background-color: white;position: relative;}#sk-container-id-1 div.sk-item::before, #sk-container-id-1 div.sk-parallel-item::before {content: \"\";position: absolute;border-left: 1px solid gray;box-sizing: border-box;top: 0;bottom: 0;left: 50%;z-index: -1;}#sk-container-id-1 div.sk-parallel-item {display: flex;flex-direction: column;z-index: 1;position: relative;background-color: white;}#sk-container-id-1 div.sk-parallel-item:first-child::after {align-self: flex-end;width: 50%;}#sk-container-id-1 div.sk-parallel-item:last-child::after {align-self: flex-start;width: 50%;}#sk-container-id-1 div.sk-parallel-item:only-child::after {width: 0;}#sk-container-id-1 div.sk-dashed-wrapped {border: 1px dashed gray;margin: 0 0.4em 0.5em 0.4em;box-sizing: border-box;padding-bottom: 0.4em;background-color: white;}#sk-container-id-1 div.sk-label label {font-family: monospace;font-weight: bold;display: inline-block;line-height: 1.2em;}#sk-container-id-1 div.sk-label-container {text-align: center;}#sk-container-id-1 div.sk-container {/* jupyter's `normalize.less` sets `[hidden] { display: none; }` but bootstrap.min.css set `[hidden] { display: none !important; }` so we also need the `!important` here to be able to override the default hidden behavior on the sphinx rendered scikit-learn.org. See: https://github.com/scikit-learn/scikit-learn/issues/21755 */display: inline-block !important;position: relative;}#sk-container-id-1 div.sk-text-repr-fallback {display: none;}</style><div id=\"sk-container-id-1\" class=\"sk-top-container\"><div class=\"sk-text-repr-fallback\"><pre>LogisticRegression(C=1, solver=&#x27;newton-cg&#x27;)</pre><b>In a Jupyter environment, please rerun this cell to show the HTML representation or trust the notebook. <br />On GitHub, the HTML representation is unable to render, please try loading this page with nbviewer.org.</b></div><div class=\"sk-container\" hidden><div class=\"sk-item\"><div class=\"sk-estimator sk-toggleable\"><input class=\"sk-toggleable__control sk-hidden--visually\" id=\"sk-estimator-id-1\" type=\"checkbox\" checked><label for=\"sk-estimator-id-1\" class=\"sk-toggleable__label sk-toggleable__label-arrow\">LogisticRegression</label><div class=\"sk-toggleable__content\"><pre>LogisticRegression(C=1, solver=&#x27;newton-cg&#x27;)</pre></div></div></div></div></div>"
      ],
      "text/plain": [
       "LogisticRegression(C=1, solver='newton-cg')"
      ]
     },
     "execution_count": 40,
     "metadata": {},
     "output_type": "execute_result"
    }
   ],
   "source": [
    "clf.fit(X_train, y_train)"
   ]
  },
  {
   "cell_type": "markdown",
   "id": "2a159201",
   "metadata": {},
   "source": [
    "### Rezultati\n",
    "\n",
    "Vidimo malo poboljšanje u odnosu na Gaussian NB"
   ]
  },
  {
   "cell_type": "code",
   "execution_count": 41,
   "id": "50bfbcd0",
   "metadata": {},
   "outputs": [
    {
     "name": "stdout",
     "output_type": "stream",
     "text": [
      "              precision    recall  f1-score   support\n",
      "\n",
      "           L       0.38      0.11      0.17        28\n",
      "           N       0.90      0.98      0.94       229\n",
      "\n",
      "    accuracy                           0.88       257\n",
      "   macro avg       0.64      0.54      0.55       257\n",
      "weighted avg       0.84      0.88      0.85       257\n",
      "\n"
     ]
    }
   ],
   "source": [
    "y_pred=clf.predict(X_test)\n",
    "\n",
    "# print scores\n",
    "label_names = ['L', 'N']\n",
    "print(classification_report(y_test, y_pred,target_names=label_names))"
   ]
  },
  {
   "cell_type": "markdown",
   "id": "dc80bd0a",
   "metadata": {},
   "source": [
    "### Treniranje nad podacima iz poglavlja 4."
   ]
  },
  {
   "cell_type": "code",
   "execution_count": 42,
   "id": "e521726f",
   "metadata": {},
   "outputs": [
    {
     "data": {
      "text/plain": [
       "array([[  3,  25],\n",
       "       [  5, 224]], dtype=int64)"
      ]
     },
     "execution_count": 42,
     "metadata": {},
     "output_type": "execute_result"
    }
   ],
   "source": [
    "confusion_matrix(y_true=y_test, y_pred=y_pred)"
   ]
  },
  {
   "cell_type": "code",
   "execution_count": 43,
   "id": "e3debc25",
   "metadata": {},
   "outputs": [],
   "source": [
    "lr_data2 =data5.copy(deep=True)"
   ]
  },
  {
   "cell_type": "code",
   "execution_count": 44,
   "id": "00ca8f78",
   "metadata": {},
   "outputs": [],
   "source": [
    "X = lr_data2.drop(['LNH', 'BWt(kg)', 'Bgroup', 'Parity'], axis=1) # remove classes, blood group and baby weight\n",
    "y = lr_data2['LNH']\n",
    "\n",
    "X_train, X_test, y_train, y_test = train_test_split(X, y, test_size=0.3) # 70% training and 30% test"
   ]
  },
  {
   "cell_type": "markdown",
   "id": "f3d64f78",
   "metadata": {},
   "source": [
    "### Pronalazak najboljih parametara za ovaj skup podataka"
   ]
  },
  {
   "cell_type": "code",
   "execution_count": 45,
   "id": "2fea667a",
   "metadata": {},
   "outputs": [
    {
     "name": "stdout",
     "output_type": "stream",
     "text": [
      "Najbolji parametri:  {'C': 0.001, 'fit_intercept': True, 'penalty': 'none', 'solver': 'newton-cg'}\n"
     ]
    }
   ],
   "source": [
    "warnings.filterwarnings('ignore')\n",
    "\n",
    "param_grid = {'penalty': ['l1','l2','elasticnet','none'],\n",
    "             'C': [0.001, 0.01, 0.1, 1, 10],\n",
    "             'fit_intercept': [True, False],\n",
    "             'solver': ['newton-cg', 'lbfgs', 'liblinear', 'sag']}\n",
    "clf = LogisticRegression()\n",
    "grid = GridSearchCV(clf, param_grid, cv=5)\n",
    "grid.fit(X_train, y_train)\n",
    "print(\"Najbolji parametri: \",grid.best_params_)"
   ]
  },
  {
   "cell_type": "markdown",
   "id": "079f7228",
   "metadata": {},
   "source": [
    "### Kreiranje klasifikatora i treniranje na novim podacima"
   ]
  },
  {
   "cell_type": "code",
   "execution_count": 46,
   "id": "969c106f",
   "metadata": {},
   "outputs": [
    {
     "data": {
      "text/html": [
       "<style>#sk-container-id-2 {color: black;background-color: white;}#sk-container-id-2 pre{padding: 0;}#sk-container-id-2 div.sk-toggleable {background-color: white;}#sk-container-id-2 label.sk-toggleable__label {cursor: pointer;display: block;width: 100%;margin-bottom: 0;padding: 0.3em;box-sizing: border-box;text-align: center;}#sk-container-id-2 label.sk-toggleable__label-arrow:before {content: \"▸\";float: left;margin-right: 0.25em;color: #696969;}#sk-container-id-2 label.sk-toggleable__label-arrow:hover:before {color: black;}#sk-container-id-2 div.sk-estimator:hover label.sk-toggleable__label-arrow:before {color: black;}#sk-container-id-2 div.sk-toggleable__content {max-height: 0;max-width: 0;overflow: hidden;text-align: left;background-color: #f0f8ff;}#sk-container-id-2 div.sk-toggleable__content pre {margin: 0.2em;color: black;border-radius: 0.25em;background-color: #f0f8ff;}#sk-container-id-2 input.sk-toggleable__control:checked~div.sk-toggleable__content {max-height: 200px;max-width: 100%;overflow: auto;}#sk-container-id-2 input.sk-toggleable__control:checked~label.sk-toggleable__label-arrow:before {content: \"▾\";}#sk-container-id-2 div.sk-estimator input.sk-toggleable__control:checked~label.sk-toggleable__label {background-color: #d4ebff;}#sk-container-id-2 div.sk-label input.sk-toggleable__control:checked~label.sk-toggleable__label {background-color: #d4ebff;}#sk-container-id-2 input.sk-hidden--visually {border: 0;clip: rect(1px 1px 1px 1px);clip: rect(1px, 1px, 1px, 1px);height: 1px;margin: -1px;overflow: hidden;padding: 0;position: absolute;width: 1px;}#sk-container-id-2 div.sk-estimator {font-family: monospace;background-color: #f0f8ff;border: 1px dotted black;border-radius: 0.25em;box-sizing: border-box;margin-bottom: 0.5em;}#sk-container-id-2 div.sk-estimator:hover {background-color: #d4ebff;}#sk-container-id-2 div.sk-parallel-item::after {content: \"\";width: 100%;border-bottom: 1px solid gray;flex-grow: 1;}#sk-container-id-2 div.sk-label:hover label.sk-toggleable__label {background-color: #d4ebff;}#sk-container-id-2 div.sk-serial::before {content: \"\";position: absolute;border-left: 1px solid gray;box-sizing: border-box;top: 0;bottom: 0;left: 50%;z-index: 0;}#sk-container-id-2 div.sk-serial {display: flex;flex-direction: column;align-items: center;background-color: white;padding-right: 0.2em;padding-left: 0.2em;position: relative;}#sk-container-id-2 div.sk-item {position: relative;z-index: 1;}#sk-container-id-2 div.sk-parallel {display: flex;align-items: stretch;justify-content: center;background-color: white;position: relative;}#sk-container-id-2 div.sk-item::before, #sk-container-id-2 div.sk-parallel-item::before {content: \"\";position: absolute;border-left: 1px solid gray;box-sizing: border-box;top: 0;bottom: 0;left: 50%;z-index: -1;}#sk-container-id-2 div.sk-parallel-item {display: flex;flex-direction: column;z-index: 1;position: relative;background-color: white;}#sk-container-id-2 div.sk-parallel-item:first-child::after {align-self: flex-end;width: 50%;}#sk-container-id-2 div.sk-parallel-item:last-child::after {align-self: flex-start;width: 50%;}#sk-container-id-2 div.sk-parallel-item:only-child::after {width: 0;}#sk-container-id-2 div.sk-dashed-wrapped {border: 1px dashed gray;margin: 0 0.4em 0.5em 0.4em;box-sizing: border-box;padding-bottom: 0.4em;background-color: white;}#sk-container-id-2 div.sk-label label {font-family: monospace;font-weight: bold;display: inline-block;line-height: 1.2em;}#sk-container-id-2 div.sk-label-container {text-align: center;}#sk-container-id-2 div.sk-container {/* jupyter's `normalize.less` sets `[hidden] { display: none; }` but bootstrap.min.css set `[hidden] { display: none !important; }` so we also need the `!important` here to be able to override the default hidden behavior on the sphinx rendered scikit-learn.org. See: https://github.com/scikit-learn/scikit-learn/issues/21755 */display: inline-block !important;position: relative;}#sk-container-id-2 div.sk-text-repr-fallback {display: none;}</style><div id=\"sk-container-id-2\" class=\"sk-top-container\"><div class=\"sk-text-repr-fallback\"><pre>LogisticRegression(C=0.001, penalty=&#x27;none&#x27;, solver=&#x27;newton-cg&#x27;)</pre><b>In a Jupyter environment, please rerun this cell to show the HTML representation or trust the notebook. <br />On GitHub, the HTML representation is unable to render, please try loading this page with nbviewer.org.</b></div><div class=\"sk-container\" hidden><div class=\"sk-item\"><div class=\"sk-estimator sk-toggleable\"><input class=\"sk-toggleable__control sk-hidden--visually\" id=\"sk-estimator-id-2\" type=\"checkbox\" checked><label for=\"sk-estimator-id-2\" class=\"sk-toggleable__label sk-toggleable__label-arrow\">LogisticRegression</label><div class=\"sk-toggleable__content\"><pre>LogisticRegression(C=0.001, penalty=&#x27;none&#x27;, solver=&#x27;newton-cg&#x27;)</pre></div></div></div></div></div>"
      ],
      "text/plain": [
       "LogisticRegression(C=0.001, penalty='none', solver='newton-cg')"
      ]
     },
     "execution_count": 46,
     "metadata": {},
     "output_type": "execute_result"
    }
   ],
   "source": [
    "clf = LogisticRegression(C=0.001, fit_intercept=True, penalty='none', solver='newton-cg')\n",
    "clf.fit(X_train, y_train)"
   ]
  },
  {
   "cell_type": "markdown",
   "id": "ec7af28b",
   "metadata": {},
   "source": [
    "### Rezultati\n",
    "Malo bolji u nekim segmentima"
   ]
  },
  {
   "cell_type": "code",
   "execution_count": 47,
   "id": "6e5f1f0e",
   "metadata": {},
   "outputs": [
    {
     "name": "stdout",
     "output_type": "stream",
     "text": [
      "              precision    recall  f1-score   support\n",
      "\n",
      "           L       0.73      0.19      0.30        42\n",
      "           N       0.86      0.99      0.92       215\n",
      "\n",
      "    accuracy                           0.86       257\n",
      "   macro avg       0.79      0.59      0.61       257\n",
      "weighted avg       0.84      0.86      0.82       257\n",
      "\n"
     ]
    }
   ],
   "source": [
    "y_pred=clf.predict(X_test)\n",
    "\n",
    "# print scores\n",
    "label_names = ['L', 'N']\n",
    "print(classification_report(y_test, y_pred,target_names=label_names))"
   ]
  },
  {
   "cell_type": "code",
   "execution_count": null,
   "id": "368fac15",
   "metadata": {},
   "outputs": [],
   "source": []
  },
  {
   "cell_type": "markdown",
   "id": "1b1c9850",
   "metadata": {},
   "source": [
    "### Postavljamo parametar `class_weight` na `'balanced'` "
   ]
  },
  {
   "cell_type": "code",
   "execution_count": 48,
   "id": "902ca9e5",
   "metadata": {},
   "outputs": [
    {
     "data": {
      "text/html": [
       "<style>#sk-container-id-3 {color: black;background-color: white;}#sk-container-id-3 pre{padding: 0;}#sk-container-id-3 div.sk-toggleable {background-color: white;}#sk-container-id-3 label.sk-toggleable__label {cursor: pointer;display: block;width: 100%;margin-bottom: 0;padding: 0.3em;box-sizing: border-box;text-align: center;}#sk-container-id-3 label.sk-toggleable__label-arrow:before {content: \"▸\";float: left;margin-right: 0.25em;color: #696969;}#sk-container-id-3 label.sk-toggleable__label-arrow:hover:before {color: black;}#sk-container-id-3 div.sk-estimator:hover label.sk-toggleable__label-arrow:before {color: black;}#sk-container-id-3 div.sk-toggleable__content {max-height: 0;max-width: 0;overflow: hidden;text-align: left;background-color: #f0f8ff;}#sk-container-id-3 div.sk-toggleable__content pre {margin: 0.2em;color: black;border-radius: 0.25em;background-color: #f0f8ff;}#sk-container-id-3 input.sk-toggleable__control:checked~div.sk-toggleable__content {max-height: 200px;max-width: 100%;overflow: auto;}#sk-container-id-3 input.sk-toggleable__control:checked~label.sk-toggleable__label-arrow:before {content: \"▾\";}#sk-container-id-3 div.sk-estimator input.sk-toggleable__control:checked~label.sk-toggleable__label {background-color: #d4ebff;}#sk-container-id-3 div.sk-label input.sk-toggleable__control:checked~label.sk-toggleable__label {background-color: #d4ebff;}#sk-container-id-3 input.sk-hidden--visually {border: 0;clip: rect(1px 1px 1px 1px);clip: rect(1px, 1px, 1px, 1px);height: 1px;margin: -1px;overflow: hidden;padding: 0;position: absolute;width: 1px;}#sk-container-id-3 div.sk-estimator {font-family: monospace;background-color: #f0f8ff;border: 1px dotted black;border-radius: 0.25em;box-sizing: border-box;margin-bottom: 0.5em;}#sk-container-id-3 div.sk-estimator:hover {background-color: #d4ebff;}#sk-container-id-3 div.sk-parallel-item::after {content: \"\";width: 100%;border-bottom: 1px solid gray;flex-grow: 1;}#sk-container-id-3 div.sk-label:hover label.sk-toggleable__label {background-color: #d4ebff;}#sk-container-id-3 div.sk-serial::before {content: \"\";position: absolute;border-left: 1px solid gray;box-sizing: border-box;top: 0;bottom: 0;left: 50%;z-index: 0;}#sk-container-id-3 div.sk-serial {display: flex;flex-direction: column;align-items: center;background-color: white;padding-right: 0.2em;padding-left: 0.2em;position: relative;}#sk-container-id-3 div.sk-item {position: relative;z-index: 1;}#sk-container-id-3 div.sk-parallel {display: flex;align-items: stretch;justify-content: center;background-color: white;position: relative;}#sk-container-id-3 div.sk-item::before, #sk-container-id-3 div.sk-parallel-item::before {content: \"\";position: absolute;border-left: 1px solid gray;box-sizing: border-box;top: 0;bottom: 0;left: 50%;z-index: -1;}#sk-container-id-3 div.sk-parallel-item {display: flex;flex-direction: column;z-index: 1;position: relative;background-color: white;}#sk-container-id-3 div.sk-parallel-item:first-child::after {align-self: flex-end;width: 50%;}#sk-container-id-3 div.sk-parallel-item:last-child::after {align-self: flex-start;width: 50%;}#sk-container-id-3 div.sk-parallel-item:only-child::after {width: 0;}#sk-container-id-3 div.sk-dashed-wrapped {border: 1px dashed gray;margin: 0 0.4em 0.5em 0.4em;box-sizing: border-box;padding-bottom: 0.4em;background-color: white;}#sk-container-id-3 div.sk-label label {font-family: monospace;font-weight: bold;display: inline-block;line-height: 1.2em;}#sk-container-id-3 div.sk-label-container {text-align: center;}#sk-container-id-3 div.sk-container {/* jupyter's `normalize.less` sets `[hidden] { display: none; }` but bootstrap.min.css set `[hidden] { display: none !important; }` so we also need the `!important` here to be able to override the default hidden behavior on the sphinx rendered scikit-learn.org. See: https://github.com/scikit-learn/scikit-learn/issues/21755 */display: inline-block !important;position: relative;}#sk-container-id-3 div.sk-text-repr-fallback {display: none;}</style><div id=\"sk-container-id-3\" class=\"sk-top-container\"><div class=\"sk-text-repr-fallback\"><pre>LogisticRegression(C=0.001, class_weight=&#x27;balanced&#x27;, penalty=&#x27;none&#x27;,\n",
       "                   solver=&#x27;newton-cg&#x27;)</pre><b>In a Jupyter environment, please rerun this cell to show the HTML representation or trust the notebook. <br />On GitHub, the HTML representation is unable to render, please try loading this page with nbviewer.org.</b></div><div class=\"sk-container\" hidden><div class=\"sk-item\"><div class=\"sk-estimator sk-toggleable\"><input class=\"sk-toggleable__control sk-hidden--visually\" id=\"sk-estimator-id-3\" type=\"checkbox\" checked><label for=\"sk-estimator-id-3\" class=\"sk-toggleable__label sk-toggleable__label-arrow\">LogisticRegression</label><div class=\"sk-toggleable__content\"><pre>LogisticRegression(C=0.001, class_weight=&#x27;balanced&#x27;, penalty=&#x27;none&#x27;,\n",
       "                   solver=&#x27;newton-cg&#x27;)</pre></div></div></div></div></div>"
      ],
      "text/plain": [
       "LogisticRegression(C=0.001, class_weight='balanced', penalty='none',\n",
       "                   solver='newton-cg')"
      ]
     },
     "execution_count": 48,
     "metadata": {},
     "output_type": "execute_result"
    }
   ],
   "source": [
    "clf = LogisticRegression(C=0.001, fit_intercept=True, penalty='none', solver='newton-cg', class_weight='balanced')\n",
    "clf.fit(X_train, y_train)"
   ]
  },
  {
   "cell_type": "markdown",
   "id": "ee1166d2",
   "metadata": {},
   "source": [
    "### Rezultati ako koristimo 'balanced'\n",
    "\n",
    "Rezultati dosta padaju"
   ]
  },
  {
   "cell_type": "code",
   "execution_count": 49,
   "id": "c382c0c3",
   "metadata": {},
   "outputs": [
    {
     "name": "stdout",
     "output_type": "stream",
     "text": [
      "              precision    recall  f1-score   support\n",
      "\n",
      "           L       0.24      0.45      0.31        42\n",
      "           N       0.87      0.72      0.79       215\n",
      "\n",
      "    accuracy                           0.67       257\n",
      "   macro avg       0.55      0.58      0.55       257\n",
      "weighted avg       0.77      0.67      0.71       257\n",
      "\n"
     ]
    }
   ],
   "source": [
    "y_pred=clf.predict(X_test)\n",
    "\n",
    "# print scores\n",
    "label_names = ['L', 'N']\n",
    "print(classification_report(y_test, y_pred,target_names=label_names))"
   ]
  },
  {
   "cell_type": "code",
   "execution_count": null,
   "id": "62ede641",
   "metadata": {},
   "outputs": [],
   "source": []
  },
  {
   "cell_type": "markdown",
   "id": "87eb0ad1",
   "metadata": {},
   "source": [
    "## Popunjavanje nedostajućih vrijednosti koristeći `IterativeImputer`"
   ]
  },
  {
   "cell_type": "code",
   "execution_count": 50,
   "id": "c2fab0cc",
   "metadata": {},
   "outputs": [],
   "source": [
    "#Učitavanje vrijednosti\n",
    "from sklearn.experimental import enable_iterative_imputer\n",
    "from sklearn.impute import IterativeImputer"
   ]
  },
  {
   "cell_type": "code",
   "execution_count": 51,
   "id": "0da0d276",
   "metadata": {},
   "outputs": [],
   "source": [
    "data_it = pd.read_csv('CBWDB.csv')"
   ]
  },
  {
   "cell_type": "code",
   "execution_count": 52,
   "id": "7e8ade83",
   "metadata": {},
   "outputs": [
    {
     "data": {
      "text/html": [
       "<div>\n",
       "<style scoped>\n",
       "    .dataframe tbody tr th:only-of-type {\n",
       "        vertical-align: middle;\n",
       "    }\n",
       "\n",
       "    .dataframe tbody tr th {\n",
       "        vertical-align: top;\n",
       "    }\n",
       "\n",
       "    .dataframe thead th {\n",
       "        text-align: right;\n",
       "    }\n",
       "</style>\n",
       "<table border=\"1\" class=\"dataframe\">\n",
       "  <thead>\n",
       "    <tr style=\"text-align: right;\">\n",
       "      <th></th>\n",
       "      <th>SEC</th>\n",
       "      <th>Age(years)</th>\n",
       "      <th>Height(cm)</th>\n",
       "      <th>Bgroup</th>\n",
       "      <th>Parity</th>\n",
       "      <th>ANC</th>\n",
       "      <th>Iwt(kg)</th>\n",
       "      <th>FWt(kg)</th>\n",
       "      <th>IBP_sys</th>\n",
       "      <th>IBP_dias</th>\n",
       "      <th>FBP_sys</th>\n",
       "      <th>FBP_dias</th>\n",
       "      <th>IHb(gm%)</th>\n",
       "      <th>FHb(gm%)</th>\n",
       "      <th>BS(RBS)</th>\n",
       "      <th>Term/Preterm</th>\n",
       "      <th>Sex</th>\n",
       "      <th>BWt(kg)</th>\n",
       "      <th>LNH</th>\n",
       "    </tr>\n",
       "  </thead>\n",
       "  <tbody>\n",
       "    <tr>\n",
       "      <th>0</th>\n",
       "      <td>BPL</td>\n",
       "      <td>23.0</td>\n",
       "      <td>146.0</td>\n",
       "      <td>A(+ve)</td>\n",
       "      <td>1.0</td>\n",
       "      <td>4.0</td>\n",
       "      <td>34.0</td>\n",
       "      <td>42.0</td>\n",
       "      <td>116.0</td>\n",
       "      <td>78.0</td>\n",
       "      <td>120.0</td>\n",
       "      <td>70.0</td>\n",
       "      <td>10.0</td>\n",
       "      <td>13.2</td>\n",
       "      <td>90.0</td>\n",
       "      <td>T</td>\n",
       "      <td>F</td>\n",
       "      <td>2.7</td>\n",
       "      <td>2.0</td>\n",
       "    </tr>\n",
       "    <tr>\n",
       "      <th>1</th>\n",
       "      <td>BPL</td>\n",
       "      <td>25.0</td>\n",
       "      <td>165.0</td>\n",
       "      <td>NIL</td>\n",
       "      <td>1.0</td>\n",
       "      <td>3.0</td>\n",
       "      <td>68.0</td>\n",
       "      <td>71.0</td>\n",
       "      <td>96.0</td>\n",
       "      <td>70.0</td>\n",
       "      <td>110.0</td>\n",
       "      <td>72.0</td>\n",
       "      <td>10.4</td>\n",
       "      <td>11.0</td>\n",
       "      <td>96.0</td>\n",
       "      <td>T</td>\n",
       "      <td>M</td>\n",
       "      <td>2.9</td>\n",
       "      <td>2.0</td>\n",
       "    </tr>\n",
       "    <tr>\n",
       "      <th>2</th>\n",
       "      <td>BPL</td>\n",
       "      <td>24.0</td>\n",
       "      <td>155.0</td>\n",
       "      <td>B(+ve)</td>\n",
       "      <td>1.0</td>\n",
       "      <td>3.0</td>\n",
       "      <td>49.0</td>\n",
       "      <td>55.0</td>\n",
       "      <td>91.0</td>\n",
       "      <td>52.0</td>\n",
       "      <td>110.0</td>\n",
       "      <td>70.0</td>\n",
       "      <td>11.0</td>\n",
       "      <td>11.6</td>\n",
       "      <td>102.0</td>\n",
       "      <td>T</td>\n",
       "      <td>M</td>\n",
       "      <td>2.4</td>\n",
       "      <td>1.0</td>\n",
       "    </tr>\n",
       "    <tr>\n",
       "      <th>3</th>\n",
       "      <td>BPL</td>\n",
       "      <td>19.0</td>\n",
       "      <td>154.0</td>\n",
       "      <td>NIL</td>\n",
       "      <td>1.0</td>\n",
       "      <td>2.0</td>\n",
       "      <td>49.0</td>\n",
       "      <td>50.0</td>\n",
       "      <td>90.0</td>\n",
       "      <td>52.0</td>\n",
       "      <td>100.0</td>\n",
       "      <td>60.0</td>\n",
       "      <td>10.0</td>\n",
       "      <td>10.6</td>\n",
       "      <td>103.0</td>\n",
       "      <td>T</td>\n",
       "      <td>F</td>\n",
       "      <td>2.6</td>\n",
       "      <td>2.0</td>\n",
       "    </tr>\n",
       "    <tr>\n",
       "      <th>4</th>\n",
       "      <td>BPL</td>\n",
       "      <td>21.0</td>\n",
       "      <td>150.0</td>\n",
       "      <td>NIL</td>\n",
       "      <td>1.0</td>\n",
       "      <td>4.0</td>\n",
       "      <td>41.0</td>\n",
       "      <td>48.0</td>\n",
       "      <td>100.0</td>\n",
       "      <td>60.0</td>\n",
       "      <td>110.0</td>\n",
       "      <td>70.0</td>\n",
       "      <td>9.0</td>\n",
       "      <td>10.2</td>\n",
       "      <td>99.0</td>\n",
       "      <td>T</td>\n",
       "      <td>F</td>\n",
       "      <td>2.3</td>\n",
       "      <td>1.0</td>\n",
       "    </tr>\n",
       "  </tbody>\n",
       "</table>\n",
       "</div>"
      ],
      "text/plain": [
       "   SEC  Age(years)  Height(cm)  Bgroup  Parity  ANC  Iwt(kg)  FWt(kg)  \\\n",
       "0  BPL        23.0       146.0  A(+ve)     1.0  4.0     34.0     42.0   \n",
       "1  BPL        25.0       165.0     NIL     1.0  3.0     68.0     71.0   \n",
       "2  BPL        24.0       155.0  B(+ve)     1.0  3.0     49.0     55.0   \n",
       "3  BPL        19.0       154.0     NIL     1.0  2.0     49.0     50.0   \n",
       "4  BPL        21.0       150.0     NIL     1.0  4.0     41.0     48.0   \n",
       "\n",
       "   IBP_sys  IBP_dias  FBP_sys  FBP_dias  IHb(gm%)  FHb(gm%)  BS(RBS)  \\\n",
       "0    116.0      78.0    120.0      70.0      10.0      13.2     90.0   \n",
       "1     96.0      70.0    110.0      72.0      10.4      11.0     96.0   \n",
       "2     91.0      52.0    110.0      70.0      11.0      11.6    102.0   \n",
       "3     90.0      52.0    100.0      60.0      10.0      10.6    103.0   \n",
       "4    100.0      60.0    110.0      70.0       9.0      10.2     99.0   \n",
       "\n",
       "  Term/Preterm Sex  BWt(kg)  LNH  \n",
       "0            T   F      2.7  2.0  \n",
       "1            T   M      2.9  2.0  \n",
       "2            T   M      2.4  1.0  \n",
       "3            T   F      2.6  2.0  \n",
       "4            T   F      2.3  1.0  "
      ]
     },
     "execution_count": 52,
     "metadata": {},
     "output_type": "execute_result"
    }
   ],
   "source": [
    "data_it.head()"
   ]
  },
  {
   "cell_type": "markdown",
   "id": "886c9a3f",
   "metadata": {},
   "source": [
    "#### Izbacivanje nebrojčanih vrijednosti"
   ]
  },
  {
   "cell_type": "code",
   "execution_count": 53,
   "id": "328e8a2b",
   "metadata": {},
   "outputs": [
    {
     "data": {
      "text/html": [
       "<div>\n",
       "<style scoped>\n",
       "    .dataframe tbody tr th:only-of-type {\n",
       "        vertical-align: middle;\n",
       "    }\n",
       "\n",
       "    .dataframe tbody tr th {\n",
       "        vertical-align: top;\n",
       "    }\n",
       "\n",
       "    .dataframe thead th {\n",
       "        text-align: right;\n",
       "    }\n",
       "</style>\n",
       "<table border=\"1\" class=\"dataframe\">\n",
       "  <thead>\n",
       "    <tr style=\"text-align: right;\">\n",
       "      <th></th>\n",
       "      <th>Age(years)</th>\n",
       "      <th>Height(cm)</th>\n",
       "      <th>Parity</th>\n",
       "      <th>ANC</th>\n",
       "      <th>Iwt(kg)</th>\n",
       "      <th>FWt(kg)</th>\n",
       "      <th>IBP_sys</th>\n",
       "      <th>IBP_dias</th>\n",
       "      <th>FBP_sys</th>\n",
       "      <th>FBP_dias</th>\n",
       "      <th>IHb(gm%)</th>\n",
       "      <th>FHb(gm%)</th>\n",
       "      <th>BS(RBS)</th>\n",
       "      <th>Sex</th>\n",
       "      <th>BWt(kg)</th>\n",
       "      <th>LNH</th>\n",
       "    </tr>\n",
       "  </thead>\n",
       "  <tbody>\n",
       "    <tr>\n",
       "      <th>0</th>\n",
       "      <td>23.0</td>\n",
       "      <td>146.0</td>\n",
       "      <td>1.0</td>\n",
       "      <td>4.0</td>\n",
       "      <td>34.0</td>\n",
       "      <td>42.0</td>\n",
       "      <td>116.0</td>\n",
       "      <td>78.0</td>\n",
       "      <td>120.0</td>\n",
       "      <td>70.0</td>\n",
       "      <td>10.0</td>\n",
       "      <td>13.2</td>\n",
       "      <td>90.0</td>\n",
       "      <td>F</td>\n",
       "      <td>2.7</td>\n",
       "      <td>2.0</td>\n",
       "    </tr>\n",
       "    <tr>\n",
       "      <th>1</th>\n",
       "      <td>25.0</td>\n",
       "      <td>165.0</td>\n",
       "      <td>1.0</td>\n",
       "      <td>3.0</td>\n",
       "      <td>68.0</td>\n",
       "      <td>71.0</td>\n",
       "      <td>96.0</td>\n",
       "      <td>70.0</td>\n",
       "      <td>110.0</td>\n",
       "      <td>72.0</td>\n",
       "      <td>10.4</td>\n",
       "      <td>11.0</td>\n",
       "      <td>96.0</td>\n",
       "      <td>M</td>\n",
       "      <td>2.9</td>\n",
       "      <td>2.0</td>\n",
       "    </tr>\n",
       "    <tr>\n",
       "      <th>2</th>\n",
       "      <td>24.0</td>\n",
       "      <td>155.0</td>\n",
       "      <td>1.0</td>\n",
       "      <td>3.0</td>\n",
       "      <td>49.0</td>\n",
       "      <td>55.0</td>\n",
       "      <td>91.0</td>\n",
       "      <td>52.0</td>\n",
       "      <td>110.0</td>\n",
       "      <td>70.0</td>\n",
       "      <td>11.0</td>\n",
       "      <td>11.6</td>\n",
       "      <td>102.0</td>\n",
       "      <td>M</td>\n",
       "      <td>2.4</td>\n",
       "      <td>1.0</td>\n",
       "    </tr>\n",
       "    <tr>\n",
       "      <th>3</th>\n",
       "      <td>19.0</td>\n",
       "      <td>154.0</td>\n",
       "      <td>1.0</td>\n",
       "      <td>2.0</td>\n",
       "      <td>49.0</td>\n",
       "      <td>50.0</td>\n",
       "      <td>90.0</td>\n",
       "      <td>52.0</td>\n",
       "      <td>100.0</td>\n",
       "      <td>60.0</td>\n",
       "      <td>10.0</td>\n",
       "      <td>10.6</td>\n",
       "      <td>103.0</td>\n",
       "      <td>F</td>\n",
       "      <td>2.6</td>\n",
       "      <td>2.0</td>\n",
       "    </tr>\n",
       "    <tr>\n",
       "      <th>4</th>\n",
       "      <td>21.0</td>\n",
       "      <td>150.0</td>\n",
       "      <td>1.0</td>\n",
       "      <td>4.0</td>\n",
       "      <td>41.0</td>\n",
       "      <td>48.0</td>\n",
       "      <td>100.0</td>\n",
       "      <td>60.0</td>\n",
       "      <td>110.0</td>\n",
       "      <td>70.0</td>\n",
       "      <td>9.0</td>\n",
       "      <td>10.2</td>\n",
       "      <td>99.0</td>\n",
       "      <td>F</td>\n",
       "      <td>2.3</td>\n",
       "      <td>1.0</td>\n",
       "    </tr>\n",
       "  </tbody>\n",
       "</table>\n",
       "</div>"
      ],
      "text/plain": [
       "   Age(years)  Height(cm)  Parity  ANC  Iwt(kg)  FWt(kg)  IBP_sys  IBP_dias  \\\n",
       "0        23.0       146.0     1.0  4.0     34.0     42.0    116.0      78.0   \n",
       "1        25.0       165.0     1.0  3.0     68.0     71.0     96.0      70.0   \n",
       "2        24.0       155.0     1.0  3.0     49.0     55.0     91.0      52.0   \n",
       "3        19.0       154.0     1.0  2.0     49.0     50.0     90.0      52.0   \n",
       "4        21.0       150.0     1.0  4.0     41.0     48.0    100.0      60.0   \n",
       "\n",
       "   FBP_sys  FBP_dias  IHb(gm%)  FHb(gm%)  BS(RBS) Sex  BWt(kg)  LNH  \n",
       "0    120.0      70.0      10.0      13.2     90.0   F      2.7  2.0  \n",
       "1    110.0      72.0      10.4      11.0     96.0   M      2.9  2.0  \n",
       "2    110.0      70.0      11.0      11.6    102.0   M      2.4  1.0  \n",
       "3    100.0      60.0      10.0      10.6    103.0   F      2.6  2.0  \n",
       "4    110.0      70.0       9.0      10.2     99.0   F      2.3  1.0  "
      ]
     },
     "execution_count": 53,
     "metadata": {},
     "output_type": "execute_result"
    }
   ],
   "source": [
    "\n",
    "data_it = data_it.drop(['SEC','Bgroup', 'Term/Preterm'], axis=1)\n",
    "data_it.head()"
   ]
  },
  {
   "cell_type": "code",
   "execution_count": 54,
   "id": "28ab7f1a",
   "metadata": {},
   "outputs": [
    {
     "data": {
      "text/plain": [
       "Age(years)      3\n",
       "Height(cm)    128\n",
       "Parity          0\n",
       "ANC             0\n",
       "Iwt(kg)        12\n",
       "FWt(kg)        13\n",
       "IBP_sys         4\n",
       "IBP_dias        4\n",
       "FBP_sys         6\n",
       "FBP_dias        6\n",
       "IHb(gm%)      103\n",
       "FHb(gm%)      102\n",
       "BS(RBS)       531\n",
       "Sex            11\n",
       "BWt(kg)         0\n",
       "LNH             0\n",
       "dtype: int64"
      ]
     },
     "execution_count": 54,
     "metadata": {},
     "output_type": "execute_result"
    }
   ],
   "source": [
    "data_it = data_it[data_it['LNH'].notna()]\n",
    "data_it.isna().sum()"
   ]
  },
  {
   "cell_type": "code",
   "execution_count": null,
   "id": "2473e822",
   "metadata": {},
   "outputs": [],
   "source": []
  },
  {
   "cell_type": "markdown",
   "id": "7975af46",
   "metadata": {},
   "source": [
    "### Čišćenje i kodiranje podataka o spolu djeteta"
   ]
  },
  {
   "cell_type": "code",
   "execution_count": 55,
   "id": "d347ebcc",
   "metadata": {},
   "outputs": [
    {
     "data": {
      "text/html": [
       "<div>\n",
       "<style scoped>\n",
       "    .dataframe tbody tr th:only-of-type {\n",
       "        vertical-align: middle;\n",
       "    }\n",
       "\n",
       "    .dataframe tbody tr th {\n",
       "        vertical-align: top;\n",
       "    }\n",
       "\n",
       "    .dataframe thead th {\n",
       "        text-align: right;\n",
       "    }\n",
       "</style>\n",
       "<table border=\"1\" class=\"dataframe\">\n",
       "  <thead>\n",
       "    <tr style=\"text-align: right;\">\n",
       "      <th></th>\n",
       "      <th>Age(years)</th>\n",
       "      <th>Height(cm)</th>\n",
       "      <th>Parity</th>\n",
       "      <th>ANC</th>\n",
       "      <th>Iwt(kg)</th>\n",
       "      <th>FWt(kg)</th>\n",
       "      <th>IBP_sys</th>\n",
       "      <th>IBP_dias</th>\n",
       "      <th>FBP_sys</th>\n",
       "      <th>FBP_dias</th>\n",
       "      <th>IHb(gm%)</th>\n",
       "      <th>FHb(gm%)</th>\n",
       "      <th>BS(RBS)</th>\n",
       "      <th>BWt(kg)</th>\n",
       "      <th>LNH</th>\n",
       "      <th>Sex_F</th>\n",
       "      <th>Sex_M</th>\n",
       "    </tr>\n",
       "  </thead>\n",
       "  <tbody>\n",
       "    <tr>\n",
       "      <th>0</th>\n",
       "      <td>23.0</td>\n",
       "      <td>146.0</td>\n",
       "      <td>1.0</td>\n",
       "      <td>4.0</td>\n",
       "      <td>34.0</td>\n",
       "      <td>42.0</td>\n",
       "      <td>116.0</td>\n",
       "      <td>78.0</td>\n",
       "      <td>120.0</td>\n",
       "      <td>70.0</td>\n",
       "      <td>10.0</td>\n",
       "      <td>13.2</td>\n",
       "      <td>90.0</td>\n",
       "      <td>2.7</td>\n",
       "      <td>2.0</td>\n",
       "      <td>1</td>\n",
       "      <td>0</td>\n",
       "    </tr>\n",
       "    <tr>\n",
       "      <th>1</th>\n",
       "      <td>25.0</td>\n",
       "      <td>165.0</td>\n",
       "      <td>1.0</td>\n",
       "      <td>3.0</td>\n",
       "      <td>68.0</td>\n",
       "      <td>71.0</td>\n",
       "      <td>96.0</td>\n",
       "      <td>70.0</td>\n",
       "      <td>110.0</td>\n",
       "      <td>72.0</td>\n",
       "      <td>10.4</td>\n",
       "      <td>11.0</td>\n",
       "      <td>96.0</td>\n",
       "      <td>2.9</td>\n",
       "      <td>2.0</td>\n",
       "      <td>0</td>\n",
       "      <td>1</td>\n",
       "    </tr>\n",
       "    <tr>\n",
       "      <th>2</th>\n",
       "      <td>24.0</td>\n",
       "      <td>155.0</td>\n",
       "      <td>1.0</td>\n",
       "      <td>3.0</td>\n",
       "      <td>49.0</td>\n",
       "      <td>55.0</td>\n",
       "      <td>91.0</td>\n",
       "      <td>52.0</td>\n",
       "      <td>110.0</td>\n",
       "      <td>70.0</td>\n",
       "      <td>11.0</td>\n",
       "      <td>11.6</td>\n",
       "      <td>102.0</td>\n",
       "      <td>2.4</td>\n",
       "      <td>1.0</td>\n",
       "      <td>0</td>\n",
       "      <td>1</td>\n",
       "    </tr>\n",
       "    <tr>\n",
       "      <th>3</th>\n",
       "      <td>19.0</td>\n",
       "      <td>154.0</td>\n",
       "      <td>1.0</td>\n",
       "      <td>2.0</td>\n",
       "      <td>49.0</td>\n",
       "      <td>50.0</td>\n",
       "      <td>90.0</td>\n",
       "      <td>52.0</td>\n",
       "      <td>100.0</td>\n",
       "      <td>60.0</td>\n",
       "      <td>10.0</td>\n",
       "      <td>10.6</td>\n",
       "      <td>103.0</td>\n",
       "      <td>2.6</td>\n",
       "      <td>2.0</td>\n",
       "      <td>1</td>\n",
       "      <td>0</td>\n",
       "    </tr>\n",
       "    <tr>\n",
       "      <th>4</th>\n",
       "      <td>21.0</td>\n",
       "      <td>150.0</td>\n",
       "      <td>1.0</td>\n",
       "      <td>4.0</td>\n",
       "      <td>41.0</td>\n",
       "      <td>48.0</td>\n",
       "      <td>100.0</td>\n",
       "      <td>60.0</td>\n",
       "      <td>110.0</td>\n",
       "      <td>70.0</td>\n",
       "      <td>9.0</td>\n",
       "      <td>10.2</td>\n",
       "      <td>99.0</td>\n",
       "      <td>2.3</td>\n",
       "      <td>1.0</td>\n",
       "      <td>1</td>\n",
       "      <td>0</td>\n",
       "    </tr>\n",
       "  </tbody>\n",
       "</table>\n",
       "</div>"
      ],
      "text/plain": [
       "   Age(years)  Height(cm)  Parity  ANC  Iwt(kg)  FWt(kg)  IBP_sys  IBP_dias  \\\n",
       "0        23.0       146.0     1.0  4.0     34.0     42.0    116.0      78.0   \n",
       "1        25.0       165.0     1.0  3.0     68.0     71.0     96.0      70.0   \n",
       "2        24.0       155.0     1.0  3.0     49.0     55.0     91.0      52.0   \n",
       "3        19.0       154.0     1.0  2.0     49.0     50.0     90.0      52.0   \n",
       "4        21.0       150.0     1.0  4.0     41.0     48.0    100.0      60.0   \n",
       "\n",
       "   FBP_sys  FBP_dias  IHb(gm%)  FHb(gm%)  BS(RBS)  BWt(kg)  LNH  Sex_F  Sex_M  \n",
       "0    120.0      70.0      10.0      13.2     90.0      2.7  2.0      1      0  \n",
       "1    110.0      72.0      10.4      11.0     96.0      2.9  2.0      0      1  \n",
       "2    110.0      70.0      11.0      11.6    102.0      2.4  1.0      0      1  \n",
       "3    100.0      60.0      10.0      10.6    103.0      2.6  2.0      1      0  \n",
       "4    110.0      70.0       9.0      10.2     99.0      2.3  1.0      1      0  "
      ]
     },
     "execution_count": 55,
     "metadata": {},
     "output_type": "execute_result"
    }
   ],
   "source": [
    "data_it = data_it[data_it['Sex'].notna()]\n",
    "\n",
    "data_it = data_it[data_it.Sex != 'T']\n",
    "data_it['Sex'].unique()\n",
    "\n",
    "# kodiranje u 0 i 1\n",
    "data_it = pd.get_dummies(data_it)\n",
    "data_it.head()"
   ]
  },
  {
   "cell_type": "code",
   "execution_count": 56,
   "id": "360bd899",
   "metadata": {},
   "outputs": [
    {
     "data": {
      "text/html": [
       "<div>\n",
       "<style scoped>\n",
       "    .dataframe tbody tr th:only-of-type {\n",
       "        vertical-align: middle;\n",
       "    }\n",
       "\n",
       "    .dataframe tbody tr th {\n",
       "        vertical-align: top;\n",
       "    }\n",
       "\n",
       "    .dataframe thead th {\n",
       "        text-align: right;\n",
       "    }\n",
       "</style>\n",
       "<table border=\"1\" class=\"dataframe\">\n",
       "  <thead>\n",
       "    <tr style=\"text-align: right;\">\n",
       "      <th></th>\n",
       "      <th>Age(years)</th>\n",
       "      <th>Height(cm)</th>\n",
       "      <th>Parity</th>\n",
       "      <th>ANC</th>\n",
       "      <th>Iwt(kg)</th>\n",
       "      <th>FWt(kg)</th>\n",
       "      <th>IBP_sys</th>\n",
       "      <th>IBP_dias</th>\n",
       "      <th>FBP_sys</th>\n",
       "      <th>FBP_dias</th>\n",
       "      <th>IHb(gm%)</th>\n",
       "      <th>FHb(gm%)</th>\n",
       "      <th>BS(RBS)</th>\n",
       "      <th>BWt(kg)</th>\n",
       "      <th>LNH</th>\n",
       "      <th>Sex_F</th>\n",
       "      <th>Sex_M</th>\n",
       "    </tr>\n",
       "  </thead>\n",
       "  <tbody>\n",
       "    <tr>\n",
       "      <th>0</th>\n",
       "      <td>23.0</td>\n",
       "      <td>146.0</td>\n",
       "      <td>1.0</td>\n",
       "      <td>4.0</td>\n",
       "      <td>34.0</td>\n",
       "      <td>42.0</td>\n",
       "      <td>116.0</td>\n",
       "      <td>78.0</td>\n",
       "      <td>120.0</td>\n",
       "      <td>70.0</td>\n",
       "      <td>10.0</td>\n",
       "      <td>13.2</td>\n",
       "      <td>90.0</td>\n",
       "      <td>2.7</td>\n",
       "      <td>2.0</td>\n",
       "      <td>1</td>\n",
       "      <td>0</td>\n",
       "    </tr>\n",
       "    <tr>\n",
       "      <th>1</th>\n",
       "      <td>25.0</td>\n",
       "      <td>165.0</td>\n",
       "      <td>1.0</td>\n",
       "      <td>3.0</td>\n",
       "      <td>68.0</td>\n",
       "      <td>71.0</td>\n",
       "      <td>96.0</td>\n",
       "      <td>70.0</td>\n",
       "      <td>110.0</td>\n",
       "      <td>72.0</td>\n",
       "      <td>10.4</td>\n",
       "      <td>11.0</td>\n",
       "      <td>96.0</td>\n",
       "      <td>2.9</td>\n",
       "      <td>2.0</td>\n",
       "      <td>0</td>\n",
       "      <td>1</td>\n",
       "    </tr>\n",
       "    <tr>\n",
       "      <th>2</th>\n",
       "      <td>24.0</td>\n",
       "      <td>155.0</td>\n",
       "      <td>1.0</td>\n",
       "      <td>3.0</td>\n",
       "      <td>49.0</td>\n",
       "      <td>55.0</td>\n",
       "      <td>91.0</td>\n",
       "      <td>52.0</td>\n",
       "      <td>110.0</td>\n",
       "      <td>70.0</td>\n",
       "      <td>11.0</td>\n",
       "      <td>11.6</td>\n",
       "      <td>102.0</td>\n",
       "      <td>2.4</td>\n",
       "      <td>1.0</td>\n",
       "      <td>0</td>\n",
       "      <td>1</td>\n",
       "    </tr>\n",
       "    <tr>\n",
       "      <th>3</th>\n",
       "      <td>19.0</td>\n",
       "      <td>154.0</td>\n",
       "      <td>1.0</td>\n",
       "      <td>2.0</td>\n",
       "      <td>49.0</td>\n",
       "      <td>50.0</td>\n",
       "      <td>90.0</td>\n",
       "      <td>52.0</td>\n",
       "      <td>100.0</td>\n",
       "      <td>60.0</td>\n",
       "      <td>10.0</td>\n",
       "      <td>10.6</td>\n",
       "      <td>103.0</td>\n",
       "      <td>2.6</td>\n",
       "      <td>2.0</td>\n",
       "      <td>1</td>\n",
       "      <td>0</td>\n",
       "    </tr>\n",
       "    <tr>\n",
       "      <th>4</th>\n",
       "      <td>21.0</td>\n",
       "      <td>150.0</td>\n",
       "      <td>1.0</td>\n",
       "      <td>4.0</td>\n",
       "      <td>41.0</td>\n",
       "      <td>48.0</td>\n",
       "      <td>100.0</td>\n",
       "      <td>60.0</td>\n",
       "      <td>110.0</td>\n",
       "      <td>70.0</td>\n",
       "      <td>9.0</td>\n",
       "      <td>10.2</td>\n",
       "      <td>99.0</td>\n",
       "      <td>2.3</td>\n",
       "      <td>1.0</td>\n",
       "      <td>1</td>\n",
       "      <td>0</td>\n",
       "    </tr>\n",
       "  </tbody>\n",
       "</table>\n",
       "</div>"
      ],
      "text/plain": [
       "   Age(years)  Height(cm)  Parity  ANC  Iwt(kg)  FWt(kg)  IBP_sys  IBP_dias  \\\n",
       "0        23.0       146.0     1.0  4.0     34.0     42.0    116.0      78.0   \n",
       "1        25.0       165.0     1.0  3.0     68.0     71.0     96.0      70.0   \n",
       "2        24.0       155.0     1.0  3.0     49.0     55.0     91.0      52.0   \n",
       "3        19.0       154.0     1.0  2.0     49.0     50.0     90.0      52.0   \n",
       "4        21.0       150.0     1.0  4.0     41.0     48.0    100.0      60.0   \n",
       "\n",
       "   FBP_sys  FBP_dias  IHb(gm%)  FHb(gm%)  BS(RBS)  BWt(kg)  LNH  Sex_F  Sex_M  \n",
       "0    120.0      70.0      10.0      13.2     90.0      2.7  2.0      1      0  \n",
       "1    110.0      72.0      10.4      11.0     96.0      2.9  2.0      0      1  \n",
       "2    110.0      70.0      11.0      11.6    102.0      2.4  1.0      0      1  \n",
       "3    100.0      60.0      10.0      10.6    103.0      2.6  2.0      1      0  \n",
       "4    110.0      70.0       9.0      10.2     99.0      2.3  1.0      1      0  "
      ]
     },
     "execution_count": 56,
     "metadata": {},
     "output_type": "execute_result"
    }
   ],
   "source": [
    "data_it.head()"
   ]
  },
  {
   "cell_type": "code",
   "execution_count": 57,
   "id": "367040d5",
   "metadata": {},
   "outputs": [],
   "source": [
    "df_imputer_mice = data_it.copy(deep=True)"
   ]
  },
  {
   "cell_type": "code",
   "execution_count": 58,
   "id": "8590c6c9",
   "metadata": {},
   "outputs": [
    {
     "name": "stdout",
     "output_type": "stream",
     "text": [
      "[IterativeImputer] Completing matrix with shape (1059, 16)\n",
      "[IterativeImputer] Ending imputation round 1/1000, elapsed time 0.12\n",
      "[IterativeImputer] Change: 17.051368621941492, scaled tolerance: 0.195 \n",
      "[IterativeImputer] Ending imputation round 2/1000, elapsed time 0.19\n",
      "[IterativeImputer] Change: 4.995591151809084, scaled tolerance: 0.195 \n",
      "[IterativeImputer] Ending imputation round 3/1000, elapsed time 0.26\n",
      "[IterativeImputer] Change: 2.46374855034977, scaled tolerance: 0.195 \n",
      "[IterativeImputer] Ending imputation round 4/1000, elapsed time 0.34\n",
      "[IterativeImputer] Change: 1.3508462971337032, scaled tolerance: 0.195 \n",
      "[IterativeImputer] Ending imputation round 5/1000, elapsed time 0.39\n",
      "[IterativeImputer] Change: 0.8093307805585379, scaled tolerance: 0.195 \n",
      "[IterativeImputer] Ending imputation round 6/1000, elapsed time 0.44\n",
      "[IterativeImputer] Change: 0.5129112108186664, scaled tolerance: 0.195 \n",
      "[IterativeImputer] Ending imputation round 7/1000, elapsed time 0.51\n",
      "[IterativeImputer] Change: 0.32771207646662504, scaled tolerance: 0.195 \n",
      "[IterativeImputer] Ending imputation round 8/1000, elapsed time 0.60\n",
      "[IterativeImputer] Change: 0.2109710459752705, scaled tolerance: 0.195 \n",
      "[IterativeImputer] Ending imputation round 9/1000, elapsed time 0.66\n",
      "[IterativeImputer] Change: 0.13664972285086918, scaled tolerance: 0.195 \n",
      "[IterativeImputer] Early stopping criterion reached.\n"
     ]
    }
   ],
   "source": [
    "iterativeimputer = IterativeImputer(random_state=42,verbose=2, max_iter=1000,min_value=0)\n",
    "df_imputer_mice.iloc[:,1:]=iterativeimputer.fit_transform(df_imputer_mice.iloc[:,1:])"
   ]
  },
  {
   "cell_type": "code",
   "execution_count": 59,
   "id": "1b3f946e",
   "metadata": {},
   "outputs": [],
   "source": [
    "# bilo je 3 vrijednosti gdje su godine bile 'nan'\n",
    "df_imputer_mice.dropna(subset=['Age(years)'], inplace=True)"
   ]
  },
  {
   "cell_type": "code",
   "execution_count": 60,
   "id": "76a89492",
   "metadata": {},
   "outputs": [],
   "source": [
    "data_it = df_imputer_mice"
   ]
  },
  {
   "cell_type": "code",
   "execution_count": 61,
   "id": "4cad7f3e",
   "metadata": {},
   "outputs": [],
   "source": [
    "# izbacivanje zapisa s klasom H, odnosno 3\n",
    "data_it = data_it[data_it['LNH'] != 3]"
   ]
  },
  {
   "cell_type": "markdown",
   "id": "e0754ecf",
   "metadata": {},
   "source": [
    "### Treniranje i testiranje Gaussovog NB s novim podacima"
   ]
  },
  {
   "cell_type": "code",
   "execution_count": 62,
   "id": "1a14f30c",
   "metadata": {},
   "outputs": [],
   "source": [
    "X = data_it.drop(['LNH', 'BWt(kg)'], axis=1) # remove classes, blood group and baby weight\n",
    "y = data_it['LNH']\n",
    "\n",
    "X_train, X_test, y_train, y_test = train_test_split(X, y, test_size=0.3, stratify=y) # 70% training and 30% test\n",
    "\n",
    "clf = GaussianNB()\n",
    "clf.fit(X_train, y_train)\n",
    "y_pred=clf.predict(X_test)"
   ]
  },
  {
   "cell_type": "markdown",
   "id": "c2a326a4",
   "metadata": {},
   "source": [
    "### Rezultati\n",
    "Nažalost ništa bolji"
   ]
  },
  {
   "cell_type": "code",
   "execution_count": 63,
   "id": "ac3bab16",
   "metadata": {},
   "outputs": [
    {
     "name": "stdout",
     "output_type": "stream",
     "text": [
      "              precision    recall  f1-score   support\n",
      "\n",
      "           L       0.15      0.09      0.12        43\n",
      "           N       0.87      0.92      0.89       273\n",
      "\n",
      "    accuracy                           0.81       316\n",
      "   macro avg       0.51      0.51      0.50       316\n",
      "weighted avg       0.77      0.81      0.79       316\n",
      "\n"
     ]
    }
   ],
   "source": [
    "\n",
    "# print scores\n",
    "label_names = ['L', 'N']\n",
    "print(classification_report(y_test, y_pred,target_names=label_names))"
   ]
  },
  {
   "cell_type": "markdown",
   "id": "8e2f55b5",
   "metadata": {},
   "source": [
    "## Budući da su nam podaci nebalansirani, koristit ćemo metode koje će to popraviit"
   ]
  },
  {
   "cell_type": "markdown",
   "id": "268b3df6",
   "metadata": {},
   "source": [
    "### Oversampling klase _Low(L)_"
   ]
  },
  {
   "cell_type": "markdown",
   "id": "5a0be241",
   "metadata": {},
   "source": [
    "### Koristimo podatke dobivene u 3. pokušaju (podaci koji su prosjeci vrijednosti na početku i na kraju trudnoće)"
   ]
  },
  {
   "cell_type": "code",
   "execution_count": 64,
   "id": "ffe706bf",
   "metadata": {},
   "outputs": [
    {
     "data": {
      "text/html": [
       "<div>\n",
       "<style scoped>\n",
       "    .dataframe tbody tr th:only-of-type {\n",
       "        vertical-align: middle;\n",
       "    }\n",
       "\n",
       "    .dataframe tbody tr th {\n",
       "        vertical-align: top;\n",
       "    }\n",
       "\n",
       "    .dataframe thead th {\n",
       "        text-align: right;\n",
       "    }\n",
       "</style>\n",
       "<table border=\"1\" class=\"dataframe\">\n",
       "  <thead>\n",
       "    <tr style=\"text-align: right;\">\n",
       "      <th></th>\n",
       "      <th>SEC</th>\n",
       "      <th>Age(years)</th>\n",
       "      <th>Height(cm)</th>\n",
       "      <th>Bgroup</th>\n",
       "      <th>Parity</th>\n",
       "      <th>ANC</th>\n",
       "      <th>BS(RBS)</th>\n",
       "      <th>Term/Preterm</th>\n",
       "      <th>Sex</th>\n",
       "      <th>BWt(kg)</th>\n",
       "      <th>LNH</th>\n",
       "      <th>Avg_wt</th>\n",
       "      <th>Avg_dbp</th>\n",
       "      <th>Avg_sbp</th>\n",
       "      <th>Avg_hb</th>\n",
       "    </tr>\n",
       "  </thead>\n",
       "  <tbody>\n",
       "    <tr>\n",
       "      <th>0</th>\n",
       "      <td>2.0</td>\n",
       "      <td>23.0</td>\n",
       "      <td>164.547771</td>\n",
       "      <td>1</td>\n",
       "      <td>1.0</td>\n",
       "      <td>4.0</td>\n",
       "      <td>90.0</td>\n",
       "      <td>1.0</td>\n",
       "      <td>1</td>\n",
       "      <td>2.7</td>\n",
       "      <td>2.0</td>\n",
       "      <td>38.0</td>\n",
       "      <td>74.0</td>\n",
       "      <td>118.0</td>\n",
       "      <td>11.6</td>\n",
       "    </tr>\n",
       "    <tr>\n",
       "      <th>1</th>\n",
       "      <td>2.0</td>\n",
       "      <td>25.0</td>\n",
       "      <td>165.000000</td>\n",
       "      <td>5</td>\n",
       "      <td>1.0</td>\n",
       "      <td>3.0</td>\n",
       "      <td>96.0</td>\n",
       "      <td>1.0</td>\n",
       "      <td>0</td>\n",
       "      <td>2.9</td>\n",
       "      <td>2.0</td>\n",
       "      <td>69.5</td>\n",
       "      <td>71.0</td>\n",
       "      <td>103.0</td>\n",
       "      <td>10.7</td>\n",
       "    </tr>\n",
       "    <tr>\n",
       "      <th>2</th>\n",
       "      <td>2.0</td>\n",
       "      <td>24.0</td>\n",
       "      <td>155.000000</td>\n",
       "      <td>3</td>\n",
       "      <td>1.0</td>\n",
       "      <td>3.0</td>\n",
       "      <td>102.0</td>\n",
       "      <td>1.0</td>\n",
       "      <td>0</td>\n",
       "      <td>2.4</td>\n",
       "      <td>1.0</td>\n",
       "      <td>52.0</td>\n",
       "      <td>61.0</td>\n",
       "      <td>100.5</td>\n",
       "      <td>11.3</td>\n",
       "    </tr>\n",
       "    <tr>\n",
       "      <th>3</th>\n",
       "      <td>2.0</td>\n",
       "      <td>19.0</td>\n",
       "      <td>154.000000</td>\n",
       "      <td>5</td>\n",
       "      <td>1.0</td>\n",
       "      <td>2.0</td>\n",
       "      <td>103.0</td>\n",
       "      <td>1.0</td>\n",
       "      <td>1</td>\n",
       "      <td>2.6</td>\n",
       "      <td>2.0</td>\n",
       "      <td>49.5</td>\n",
       "      <td>56.0</td>\n",
       "      <td>95.0</td>\n",
       "      <td>10.3</td>\n",
       "    </tr>\n",
       "    <tr>\n",
       "      <th>4</th>\n",
       "      <td>2.0</td>\n",
       "      <td>21.0</td>\n",
       "      <td>164.547771</td>\n",
       "      <td>5</td>\n",
       "      <td>1.0</td>\n",
       "      <td>4.0</td>\n",
       "      <td>99.0</td>\n",
       "      <td>1.0</td>\n",
       "      <td>1</td>\n",
       "      <td>2.3</td>\n",
       "      <td>1.0</td>\n",
       "      <td>44.5</td>\n",
       "      <td>65.0</td>\n",
       "      <td>105.0</td>\n",
       "      <td>9.6</td>\n",
       "    </tr>\n",
       "  </tbody>\n",
       "</table>\n",
       "</div>"
      ],
      "text/plain": [
       "   SEC  Age(years)  Height(cm) Bgroup  Parity  ANC  BS(RBS)  Term/Preterm  \\\n",
       "0  2.0        23.0  164.547771      1     1.0  4.0     90.0           1.0   \n",
       "1  2.0        25.0  165.000000      5     1.0  3.0     96.0           1.0   \n",
       "2  2.0        24.0  155.000000      3     1.0  3.0    102.0           1.0   \n",
       "3  2.0        19.0  154.000000      5     1.0  2.0    103.0           1.0   \n",
       "4  2.0        21.0  164.547771      5     1.0  4.0     99.0           1.0   \n",
       "\n",
       "   Sex  BWt(kg)  LNH  Avg_wt  Avg_dbp  Avg_sbp  Avg_hb  \n",
       "0    1      2.7  2.0    38.0     74.0    118.0    11.6  \n",
       "1    0      2.9  2.0    69.5     71.0    103.0    10.7  \n",
       "2    0      2.4  1.0    52.0     61.0    100.5    11.3  \n",
       "3    1      2.6  2.0    49.5     56.0     95.0    10.3  \n",
       "4    1      2.3  1.0    44.5     65.0    105.0     9.6  "
      ]
     },
     "execution_count": 64,
     "metadata": {},
     "output_type": "execute_result"
    }
   ],
   "source": [
    "data4.head()"
   ]
  },
  {
   "cell_type": "code",
   "execution_count": 65,
   "id": "2150ef07",
   "metadata": {},
   "outputs": [
    {
     "data": {
      "text/plain": [
       "2.0    742\n",
       "1.0    112\n",
       "Name: LNH, dtype: int64"
      ]
     },
     "execution_count": 65,
     "metadata": {},
     "output_type": "execute_result"
    }
   ],
   "source": [
    "data4['LNH'].value_counts()"
   ]
  },
  {
   "cell_type": "markdown",
   "id": "1163997a",
   "metadata": {},
   "source": [
    "### Oversampling i podjela na podatke za treniranje i testiranje"
   ]
  },
  {
   "cell_type": "code",
   "execution_count": 69,
   "id": "ec6c2bb9",
   "metadata": {},
   "outputs": [],
   "source": [
    "from imblearn.over_sampling import RandomOverSampler\n",
    "\n",
    "data_sampling = data4.copy(deep=True)\n",
    "\n",
    "# oversampling radimo tako da broj zapisa klase L bude jednaka polovica klase N \n",
    "oversample = RandomOverSampler(sampling_strategy=0.5)\n",
    "X = data_sampling.drop(['LNH','Bgroup', 'BWt(kg)'], axis=1)\n",
    "y = data_sampling.LNH\n",
    "\n",
    "X_train, X_test, y_train, y_test = train_test_split(X, y, test_size=0.3, random_state=0)"
   ]
  },
  {
   "cell_type": "markdown",
   "id": "6b87a9ed",
   "metadata": {},
   "source": [
    "### Testiranje Naivnog Bayesa nad novim podacima "
   ]
  },
  {
   "cell_type": "code",
   "execution_count": 70,
   "id": "c81b744e",
   "metadata": {},
   "outputs": [
    {
     "name": "stdout",
     "output_type": "stream",
     "text": [
      "              precision    recall  f1-score   support\n",
      "\n",
      "           L       0.28      0.23      0.25        35\n",
      "           N       0.88      0.91      0.89       222\n",
      "\n",
      "    accuracy                           0.81       257\n",
      "   macro avg       0.58      0.57      0.57       257\n",
      "weighted avg       0.80      0.81      0.81       257\n",
      "\n"
     ]
    }
   ],
   "source": [
    "clf = GaussianNB()\n",
    "clf.fit(X_train, y_train)\n",
    "y_pred=clf.predict(X_test)\n",
    "\n",
    "# print scores\n",
    "label_names = ['L', 'N']\n",
    "print(classification_report(y_test, y_pred,target_names=label_names))"
   ]
  },
  {
   "cell_type": "code",
   "execution_count": null,
   "id": "20ea1aec",
   "metadata": {},
   "outputs": [],
   "source": []
  },
  {
   "cell_type": "markdown",
   "id": "ddaf54da",
   "metadata": {},
   "source": [
    "### Testiranje Logističke regresije nad novim podacima"
   ]
  },
  {
   "cell_type": "markdown",
   "id": "5721601c",
   "metadata": {},
   "source": [
    "#### Određivanje najboljih hiperparametara"
   ]
  },
  {
   "cell_type": "code",
   "execution_count": 71,
   "id": "921ca65c",
   "metadata": {},
   "outputs": [
    {
     "name": "stdout",
     "output_type": "stream",
     "text": [
      "Najbolji parametri:  {'C': 0.001, 'class_weight': 'balanced', 'fit_intercept': False, 'penalty': 'none', 'solver': 'newton-cg'}\n"
     ]
    }
   ],
   "source": [
    "warnings.filterwarnings('ignore')\n",
    "\n",
    "param_grid = {'penalty': ['l1','l2','elasticnet','none'],\n",
    "             'C': [0.001, 0.01, 0.1, 1, 10],\n",
    "             'fit_intercept': [True, False],\n",
    "             'solver': ['newton-cg', 'lbfgs', 'liblinear', 'sag'],\n",
    "             'class_weight' : ['balanced']}\n",
    "\n",
    "clf = LogisticRegression()\n",
    "grid = GridSearchCV(clf, param_grid, cv=5)\n",
    "grid.fit(X_train, y_train)\n",
    "\n",
    "print(\"Najbolji parametri: \",grid.best_params_)"
   ]
  },
  {
   "cell_type": "markdown",
   "id": "a0684b8b",
   "metadata": {},
   "source": [
    "#### Kreiranje modela"
   ]
  },
  {
   "cell_type": "code",
   "execution_count": 72,
   "id": "904308b3",
   "metadata": {},
   "outputs": [
    {
     "data": {
      "text/html": [
       "<style>#sk-container-id-4 {color: black;background-color: white;}#sk-container-id-4 pre{padding: 0;}#sk-container-id-4 div.sk-toggleable {background-color: white;}#sk-container-id-4 label.sk-toggleable__label {cursor: pointer;display: block;width: 100%;margin-bottom: 0;padding: 0.3em;box-sizing: border-box;text-align: center;}#sk-container-id-4 label.sk-toggleable__label-arrow:before {content: \"▸\";float: left;margin-right: 0.25em;color: #696969;}#sk-container-id-4 label.sk-toggleable__label-arrow:hover:before {color: black;}#sk-container-id-4 div.sk-estimator:hover label.sk-toggleable__label-arrow:before {color: black;}#sk-container-id-4 div.sk-toggleable__content {max-height: 0;max-width: 0;overflow: hidden;text-align: left;background-color: #f0f8ff;}#sk-container-id-4 div.sk-toggleable__content pre {margin: 0.2em;color: black;border-radius: 0.25em;background-color: #f0f8ff;}#sk-container-id-4 input.sk-toggleable__control:checked~div.sk-toggleable__content {max-height: 200px;max-width: 100%;overflow: auto;}#sk-container-id-4 input.sk-toggleable__control:checked~label.sk-toggleable__label-arrow:before {content: \"▾\";}#sk-container-id-4 div.sk-estimator input.sk-toggleable__control:checked~label.sk-toggleable__label {background-color: #d4ebff;}#sk-container-id-4 div.sk-label input.sk-toggleable__control:checked~label.sk-toggleable__label {background-color: #d4ebff;}#sk-container-id-4 input.sk-hidden--visually {border: 0;clip: rect(1px 1px 1px 1px);clip: rect(1px, 1px, 1px, 1px);height: 1px;margin: -1px;overflow: hidden;padding: 0;position: absolute;width: 1px;}#sk-container-id-4 div.sk-estimator {font-family: monospace;background-color: #f0f8ff;border: 1px dotted black;border-radius: 0.25em;box-sizing: border-box;margin-bottom: 0.5em;}#sk-container-id-4 div.sk-estimator:hover {background-color: #d4ebff;}#sk-container-id-4 div.sk-parallel-item::after {content: \"\";width: 100%;border-bottom: 1px solid gray;flex-grow: 1;}#sk-container-id-4 div.sk-label:hover label.sk-toggleable__label {background-color: #d4ebff;}#sk-container-id-4 div.sk-serial::before {content: \"\";position: absolute;border-left: 1px solid gray;box-sizing: border-box;top: 0;bottom: 0;left: 50%;z-index: 0;}#sk-container-id-4 div.sk-serial {display: flex;flex-direction: column;align-items: center;background-color: white;padding-right: 0.2em;padding-left: 0.2em;position: relative;}#sk-container-id-4 div.sk-item {position: relative;z-index: 1;}#sk-container-id-4 div.sk-parallel {display: flex;align-items: stretch;justify-content: center;background-color: white;position: relative;}#sk-container-id-4 div.sk-item::before, #sk-container-id-4 div.sk-parallel-item::before {content: \"\";position: absolute;border-left: 1px solid gray;box-sizing: border-box;top: 0;bottom: 0;left: 50%;z-index: -1;}#sk-container-id-4 div.sk-parallel-item {display: flex;flex-direction: column;z-index: 1;position: relative;background-color: white;}#sk-container-id-4 div.sk-parallel-item:first-child::after {align-self: flex-end;width: 50%;}#sk-container-id-4 div.sk-parallel-item:last-child::after {align-self: flex-start;width: 50%;}#sk-container-id-4 div.sk-parallel-item:only-child::after {width: 0;}#sk-container-id-4 div.sk-dashed-wrapped {border: 1px dashed gray;margin: 0 0.4em 0.5em 0.4em;box-sizing: border-box;padding-bottom: 0.4em;background-color: white;}#sk-container-id-4 div.sk-label label {font-family: monospace;font-weight: bold;display: inline-block;line-height: 1.2em;}#sk-container-id-4 div.sk-label-container {text-align: center;}#sk-container-id-4 div.sk-container {/* jupyter's `normalize.less` sets `[hidden] { display: none; }` but bootstrap.min.css set `[hidden] { display: none !important; }` so we also need the `!important` here to be able to override the default hidden behavior on the sphinx rendered scikit-learn.org. See: https://github.com/scikit-learn/scikit-learn/issues/21755 */display: inline-block !important;position: relative;}#sk-container-id-4 div.sk-text-repr-fallback {display: none;}</style><div id=\"sk-container-id-4\" class=\"sk-top-container\"><div class=\"sk-text-repr-fallback\"><pre>LogisticRegression(C=0.001, class_weight=&#x27;balanced&#x27;, fit_intercept=False,\n",
       "                   penalty=&#x27;none&#x27;, solver=&#x27;newton-cg&#x27;)</pre><b>In a Jupyter environment, please rerun this cell to show the HTML representation or trust the notebook. <br />On GitHub, the HTML representation is unable to render, please try loading this page with nbviewer.org.</b></div><div class=\"sk-container\" hidden><div class=\"sk-item\"><div class=\"sk-estimator sk-toggleable\"><input class=\"sk-toggleable__control sk-hidden--visually\" id=\"sk-estimator-id-4\" type=\"checkbox\" checked><label for=\"sk-estimator-id-4\" class=\"sk-toggleable__label sk-toggleable__label-arrow\">LogisticRegression</label><div class=\"sk-toggleable__content\"><pre>LogisticRegression(C=0.001, class_weight=&#x27;balanced&#x27;, fit_intercept=False,\n",
       "                   penalty=&#x27;none&#x27;, solver=&#x27;newton-cg&#x27;)</pre></div></div></div></div></div>"
      ],
      "text/plain": [
       "LogisticRegression(C=0.001, class_weight='balanced', fit_intercept=False,\n",
       "                   penalty='none', solver='newton-cg')"
      ]
     },
     "execution_count": 72,
     "metadata": {},
     "output_type": "execute_result"
    }
   ],
   "source": [
    "clf = LogisticRegression(C= 0.001, class_weight= 'balanced', fit_intercept= False, penalty= 'none', solver= 'newton-cg')\n",
    "clf.fit(X_train, y_train)"
   ]
  },
  {
   "cell_type": "markdown",
   "id": "606c7130",
   "metadata": {},
   "source": [
    "### Rezultati\n"
   ]
  },
  {
   "cell_type": "code",
   "execution_count": 73,
   "id": "65b099a0",
   "metadata": {},
   "outputs": [
    {
     "name": "stdout",
     "output_type": "stream",
     "text": [
      "              precision    recall  f1-score   support\n",
      "\n",
      "           L       0.33      0.54      0.41        35\n",
      "           N       0.92      0.82      0.87       222\n",
      "\n",
      "    accuracy                           0.79       257\n",
      "   macro avg       0.62      0.68      0.64       257\n",
      "weighted avg       0.84      0.79      0.81       257\n",
      "\n"
     ]
    }
   ],
   "source": [
    "# print scores\n",
    "y_pred=clf.predict(X_test)\n",
    "label_names = ['L', 'N']\n",
    "print(classification_report(y_test, y_pred,target_names=label_names))"
   ]
  },
  {
   "cell_type": "markdown",
   "id": "416991c6",
   "metadata": {},
   "source": [
    "## XGBOOST kao nova metoda"
   ]
  },
  {
   "cell_type": "code",
   "execution_count": 74,
   "id": "4fda9c36",
   "metadata": {},
   "outputs": [],
   "source": [
    "# očekuje 0 i 1 za klase pa mijenjamo \n",
    "mapping = {1:0, 2:1}\n",
    "data_sampling['LNH'] = data_sampling['LNH'].map(mapping)"
   ]
  },
  {
   "cell_type": "code",
   "execution_count": 75,
   "id": "e403b456",
   "metadata": {},
   "outputs": [
    {
     "data": {
      "text/plain": [
       "1    742\n",
       "0    112\n",
       "Name: LNH, dtype: int64"
      ]
     },
     "execution_count": 75,
     "metadata": {},
     "output_type": "execute_result"
    }
   ],
   "source": [
    "data_sampling['LNH'].value_counts()"
   ]
  },
  {
   "cell_type": "code",
   "execution_count": 86,
   "id": "d42bd67c",
   "metadata": {},
   "outputs": [],
   "source": [
    "import xgboost as xgb\n",
    "from sklearn.preprocessing import LabelEncoder\n",
    "\n",
    "le = LabelEncoder()\n",
    "y_train = le.fit_transform(y_train)\n",
    "\n",
    "# pretvori podatke u xgboost format\n",
    "dtrain = xgb.DMatrix(X_train, label=y_train)\n",
    "dtest = xgb.DMatrix(X_test, label=y_test)\n",
    "\n",
    "# postavi xgboost parametre\n",
    "param = {'max_depth': 3, 'eta': 0.1, 'objective': 'binary:logistic'}\n",
    "num_round = 10\n",
    "\n",
    "# train the model\n",
    "bst = xgb.train(param, dtrain, num_round)\n",
    "\n",
    "# make predictions on test set\n",
    "y_pred = bst.predict(dtest)\n",
    "\n",
    "# convert predicted probabilities to binary labels\n",
    "y_pred = (y_pred > 0.5).astype(int)\n",
    "\n"
   ]
  },
  {
   "cell_type": "markdown",
   "id": "e6ce9e81",
   "metadata": {},
   "source": [
    "## Rezultati"
   ]
  },
  {
   "cell_type": "code",
   "execution_count": 88,
   "id": "22eb43cb",
   "metadata": {},
   "outputs": [
    {
     "name": "stdout",
     "output_type": "stream",
     "text": [
      "              precision    recall  f1-score   support\n",
      "\n",
      "           L       0.89      0.40      0.55       105\n",
      "           N       0.78      0.98      0.87       229\n",
      "\n",
      "    accuracy                           0.80       334\n",
      "   macro avg       0.84      0.69      0.71       334\n",
      "weighted avg       0.82      0.80      0.77       334\n",
      "\n"
     ]
    }
   ],
   "source": [
    "# print scores\n",
    "label_names = ['L', 'N']\n",
    "print(classification_report(y_test, y_pred,target_names=label_names))"
   ]
  },
  {
   "cell_type": "markdown",
   "id": "03f25a9c",
   "metadata": {},
   "source": [
    "## Testiranje početnih podataka ako ih oversemplamo"
   ]
  },
  {
   "cell_type": "code",
   "execution_count": 80,
   "id": "fbed99e2",
   "metadata": {},
   "outputs": [],
   "source": [
    "X = data.drop(['LNH','Bgroup', 'BWt(kg)'], axis=1)\n",
    "y = data_sampling.LNH"
   ]
  },
  {
   "cell_type": "code",
   "execution_count": 81,
   "id": "adc5dba7",
   "metadata": {},
   "outputs": [],
   "source": [
    "X_over, y_over = oversample.fit_resample(X, y)"
   ]
  },
  {
   "cell_type": "markdown",
   "id": "d653507a",
   "metadata": {},
   "source": [
    "### Gaussian Naivni Bayes"
   ]
  },
  {
   "cell_type": "code",
   "execution_count": 82,
   "id": "739d75d5",
   "metadata": {},
   "outputs": [
    {
     "name": "stdout",
     "output_type": "stream",
     "text": [
      "              precision    recall  f1-score   support\n",
      "\n",
      "           L       0.57      0.48      0.52       105\n",
      "           N       0.78      0.83      0.80       229\n",
      "\n",
      "    accuracy                           0.72       334\n",
      "   macro avg       0.67      0.66      0.66       334\n",
      "weighted avg       0.71      0.72      0.71       334\n",
      "\n"
     ]
    }
   ],
   "source": [
    "X_train, X_test, y_train, y_test = train_test_split(X_over, y_over, test_size=0.3) # 70% training and 30% test\n",
    "\n",
    "clf = GaussianNB()\n",
    "clf.fit(X_train, y_train)\n",
    "y_pred=clf.predict(X_test)\n",
    "\n",
    "# print scores\n",
    "label_names = ['L', 'N']\n",
    "print(classification_report(y_test, y_pred,target_names=label_names))"
   ]
  },
  {
   "cell_type": "markdown",
   "id": "71cb5d14",
   "metadata": {},
   "source": [
    "### Logistička regresija"
   ]
  },
  {
   "cell_type": "code",
   "execution_count": 84,
   "id": "4f8a547b",
   "metadata": {},
   "outputs": [
    {
     "name": "stdout",
     "output_type": "stream",
     "text": [
      "Najbolji parametri:  {'C': 0.001, 'class_weight': 'balanced', 'fit_intercept': True, 'penalty': 'none', 'solver': 'newton-cg'}\n"
     ]
    }
   ],
   "source": [
    "warnings.filterwarnings('ignore')\n",
    "\n",
    "param_grid = {'penalty': ['l1','l2','elasticnet','none'],\n",
    "             'C': [0.001, 0.01, 0.1, 1, 10],\n",
    "             'fit_intercept': [True, False],\n",
    "             'class_weight' : ['balanced'],\n",
    "             'solver': ['newton-cg', 'lbfgs', 'liblinear', 'sag']}\n",
    "clf = LogisticRegression()\n",
    "grid = GridSearchCV(clf, param_grid, cv=5)\n",
    "grid.fit(X_train, y_train)\n",
    "print(\"Najbolji parametri: \",grid.best_params_)"
   ]
  },
  {
   "cell_type": "code",
   "execution_count": 85,
   "id": "859e2fd8",
   "metadata": {},
   "outputs": [
    {
     "name": "stdout",
     "output_type": "stream",
     "text": [
      "              precision    recall  f1-score   support\n",
      "\n",
      "           L       0.58      0.72      0.64       105\n",
      "           N       0.86      0.76      0.81       229\n",
      "\n",
      "    accuracy                           0.75       334\n",
      "   macro avg       0.72      0.74      0.72       334\n",
      "weighted avg       0.77      0.75      0.75       334\n",
      "\n"
     ]
    }
   ],
   "source": [
    "clf = LogisticRegression(C= 0.001, class_weight= 'balanced', fit_intercept= True, penalty= 'none', solver= 'newton-cg')\n",
    "clf.fit(X_train, y_train)\n",
    "y_pred=clf.predict(X_test)\n",
    "# print scores\n",
    "label_names = ['L', 'N']\n",
    "print(classification_report(y_test, y_pred,target_names=label_names))"
   ]
  },
  {
   "cell_type": "code",
   "execution_count": null,
   "id": "71fc25b1",
   "metadata": {},
   "outputs": [],
   "source": []
  },
  {
   "cell_type": "code",
   "execution_count": null,
   "id": "2bf93965",
   "metadata": {},
   "outputs": [],
   "source": []
  }
 ],
 "metadata": {
  "kernelspec": {
   "display_name": "Python 3 (ipykernel)",
   "language": "python",
   "name": "python3"
  },
  "language_info": {
   "codemirror_mode": {
    "name": "ipython",
    "version": 3
   },
   "file_extension": ".py",
   "mimetype": "text/x-python",
   "name": "python",
   "nbconvert_exporter": "python",
   "pygments_lexer": "ipython3",
   "version": "3.11.0"
  }
 },
 "nbformat": 4,
 "nbformat_minor": 5
}
